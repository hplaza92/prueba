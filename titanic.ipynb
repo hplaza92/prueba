{
  "nbformat": 4,
  "nbformat_minor": 0,
  "metadata": {
    "anaconda-cloud": {},
    "kernelspec": {
      "display_name": "6. Python3 - local [Exploracion]",
      "language": "python",
      "name": "python3"
    },
    "language_info": {
      "codemirror_mode": {
        "name": "ipython",
        "version": 3
      },
      "file_extension": ".py",
      "mimetype": "text/x-python",
      "name": "python",
      "nbconvert_exporter": "python",
      "pygments_lexer": "ipython3",
      "version": "3.6.0"
    },
    "colab": {
      "name": "Titanic_MachineLearningFromDisaster_v4.ipynb",
      "provenance": [],
      "collapsed_sections": []
    }
  },
  "cells": [
    {
      "cell_type": "markdown",
      "metadata": {
        "_cell_guid": "c986a9fb-e199-40eb-947d-c398d54f6b1e",
        "_uuid": "0ce8368deb46a77d2115dbc3d37859e8aa20c953",
        "id": "Vfj2ZambUtla",
        "colab_type": "text"
      },
      "source": [
        "# Titanic: Machine Learning from disaster\n"
      ]
    },
    {
      "cell_type": "markdown",
      "metadata": {
        "_cell_guid": "0bef0e9b-81e0-4737-b972-9cb8a06b6b63",
        "_uuid": "925765e573c2665df48f766467ed75eaab81190c",
        "id": "wHOX3zHOUtlb",
        "colab_type": "text"
      },
      "source": [
        "**Datos**: Titanic (https://www.kaggle.com/c/titanic/data)\n",
        "\n",
        "**Problema**: El objetivo es explorar los datos hasta conseguir la mejor predicción posible acerca de quién sobrevivirá y quien no al famoso accidente. (https://youtu.be/8yZMXCaFshs)"
      ]
    },
    {
      "cell_type": "markdown",
      "metadata": {
        "_cell_guid": "706b0b7c-19f4-41c9-865f-5b3375253e0a",
        "_uuid": "8fa2571b91b93e0b0a08b7a9e4eedc060ba76c20",
        "id": "pqzO-oNvUtlc",
        "colab_type": "text"
      },
      "source": [
        "# Contenido del Notebook:\n",
        "\n",
        "#### Parte 1: Exploratory Data Analysis(EDA)\n",
        "1.1)Analisis univariante y multivariante\n",
        "\n",
        "#### Parte 2: Feature Engineering and Data Cleaning\n",
        "2.1)Creación de nuevas variables\n",
        "\n",
        "2.2)Selección de variables\n",
        "\n",
        "2.3)Transformaciones de variables previas al modelado\n",
        "\n",
        "#### Parte 3: Clustering\n",
        "3.1)K-means\n",
        "\n",
        "3.2)Clustering jerárquico\n",
        "\n",
        "3.3)DBSCAN\n",
        "\n",
        "#### Parte 4: Modelos de clasificación\n",
        "4.1)Regresión logística\n",
        "\n",
        "4.2)Árbol de decisión\n",
        "\n",
        "4.3)Naive Bayes\n",
        "\n",
        "4.4)Random Forest\n",
        "\n",
        "4.5) Xgboost\n",
        "\n",
        "#### Parte 5: Medición\n",
        "5.1)Matriz de confusión\n",
        "\n",
        "5.2)AUC"
      ]
    },
    {
      "cell_type": "markdown",
      "metadata": {
        "_cell_guid": "bf5980c3-b168-4a26-81f3-c7bdcedb6429",
        "_uuid": "18ba4a8f0909fd0a758b8cb8717327de8aeacdc8",
        "id": "kS6lFDQJUtld",
        "colab_type": "text"
      },
      "source": [
        "# Parte 1: Exploratory Data Analysis(EDA)"
      ]
    },
    {
      "cell_type": "markdown",
      "metadata": {
        "id": "fr-Cfh3u2Lcp",
        "colab_type": "text"
      },
      "source": [
        "A lo largo de esta primera parte veremos ejemplos de distintas métricas y gráficos con los que podemos explorar nuestros datos. \n",
        "\n",
        "Representaremos la misma información de distintas formas, para disponibilizar varias opciones, entender bien las diferencias y poder elegir, en función de las necesidades, el mejor gráfico.\n",
        "\n",
        "Trabajaremos con matplotlib (https://matplotlib.org) y seaborn (https://seaborn.pydata.org/index.html) como librerias para gráficos."
      ]
    },
    {
      "cell_type": "markdown",
      "metadata": {
        "id": "4zHJwpCRsv-k",
        "colab_type": "text"
      },
      "source": [
        "Cargamos las librerías necesarias:"
      ]
    },
    {
      "cell_type": "code",
      "metadata": {
        "_cell_guid": "d7601bd6-d22f-499f-97b9-85e01d390f05",
        "_uuid": "7bb401b4e2e509cc8a53e9cf645226fa508fa2e2",
        "id": "-o6thHNAUtld",
        "colab_type": "code",
        "colab": {}
      },
      "source": [
        "import numpy as np \n",
        "import pandas as pd\n",
        "import matplotlib.pyplot as plt\n",
        "import seaborn as sns\n",
        "import scipy.cluster.hierarchy as sch\n",
        "from sklearn.cluster import AgglomerativeClustering\n",
        "from sklearn.cluster import DBSCAN\n",
        "from sklearn.preprocessing import StandardScaler\n",
        "from sklearn.preprocessing import MinMaxScaler\n",
        "from sklearn.cluster import KMeans\n",
        "import xgboost as xg\n",
        "\n",
        "plt.style.use('fivethirtyeight')\n",
        "import warnings\n",
        "warnings.filterwarnings('ignore')\n",
        "%matplotlib inline"
      ],
      "execution_count": 0,
      "outputs": []
    },
    {
      "cell_type": "markdown",
      "metadata": {
        "id": "0nToUjQvs42g",
        "colab_type": "text"
      },
      "source": [
        "Cargamos el dataset:\n",
        "\n",
        "(Método específico para Google Colab, dependiendo de nuestro entorno de trabajo aquí podríamos necesitar cargar un csv en nuestra propia máquina o, por ejemplo, establecer la conexión con una base de datos)"
      ]
    },
    {
      "cell_type": "code",
      "metadata": {
        "id": "ZIWGQUiQVGKy",
        "colab_type": "code",
        "outputId": "7c678661-f9cb-42c2-af75-0e20fb05621d",
        "colab": {
          "resources": {
            "http://localhost:8080/nbextensions/google.colab/files.js": {
              "data": "Ly8gQ29weXJpZ2h0IDIwMTcgR29vZ2xlIExMQwovLwovLyBMaWNlbnNlZCB1bmRlciB0aGUgQXBhY2hlIExpY2Vuc2UsIFZlcnNpb24gMi4wICh0aGUgIkxpY2Vuc2UiKTsKLy8geW91IG1heSBub3QgdXNlIHRoaXMgZmlsZSBleGNlcHQgaW4gY29tcGxpYW5jZSB3aXRoIHRoZSBMaWNlbnNlLgovLyBZb3UgbWF5IG9idGFpbiBhIGNvcHkgb2YgdGhlIExpY2Vuc2UgYXQKLy8KLy8gICAgICBodHRwOi8vd3d3LmFwYWNoZS5vcmcvbGljZW5zZXMvTElDRU5TRS0yLjAKLy8KLy8gVW5sZXNzIHJlcXVpcmVkIGJ5IGFwcGxpY2FibGUgbGF3IG9yIGFncmVlZCB0byBpbiB3cml0aW5nLCBzb2Z0d2FyZQovLyBkaXN0cmlidXRlZCB1bmRlciB0aGUgTGljZW5zZSBpcyBkaXN0cmlidXRlZCBvbiBhbiAiQVMgSVMiIEJBU0lTLAovLyBXSVRIT1VUIFdBUlJBTlRJRVMgT1IgQ09ORElUSU9OUyBPRiBBTlkgS0lORCwgZWl0aGVyIGV4cHJlc3Mgb3IgaW1wbGllZC4KLy8gU2VlIHRoZSBMaWNlbnNlIGZvciB0aGUgc3BlY2lmaWMgbGFuZ3VhZ2UgZ292ZXJuaW5nIHBlcm1pc3Npb25zIGFuZAovLyBsaW1pdGF0aW9ucyB1bmRlciB0aGUgTGljZW5zZS4KCi8qKgogKiBAZmlsZW92ZXJ2aWV3IEhlbHBlcnMgZm9yIGdvb2dsZS5jb2xhYiBQeXRob24gbW9kdWxlLgogKi8KKGZ1bmN0aW9uKHNjb3BlKSB7CmZ1bmN0aW9uIHNwYW4odGV4dCwgc3R5bGVBdHRyaWJ1dGVzID0ge30pIHsKICBjb25zdCBlbGVtZW50ID0gZG9jdW1lbnQuY3JlYXRlRWxlbWVudCgnc3BhbicpOwogIGVsZW1lbnQudGV4dENvbnRlbnQgPSB0ZXh0OwogIGZvciAoY29uc3Qga2V5IG9mIE9iamVjdC5rZXlzKHN0eWxlQXR0cmlidXRlcykpIHsKICAgIGVsZW1lbnQuc3R5bGVba2V5XSA9IHN0eWxlQXR0cmlidXRlc1trZXldOwogIH0KICByZXR1cm4gZWxlbWVudDsKfQoKLy8gTWF4IG51bWJlciBvZiBieXRlcyB3aGljaCB3aWxsIGJlIHVwbG9hZGVkIGF0IGEgdGltZS4KY29uc3QgTUFYX1BBWUxPQURfU0laRSA9IDEwMCAqIDEwMjQ7Ci8vIE1heCBhbW91bnQgb2YgdGltZSB0byBibG9jayB3YWl0aW5nIGZvciB0aGUgdXNlci4KY29uc3QgRklMRV9DSEFOR0VfVElNRU9VVF9NUyA9IDMwICogMTAwMDsKCmZ1bmN0aW9uIF91cGxvYWRGaWxlcyhpbnB1dElkLCBvdXRwdXRJZCkgewogIGNvbnN0IHN0ZXBzID0gdXBsb2FkRmlsZXNTdGVwKGlucHV0SWQsIG91dHB1dElkKTsKICBjb25zdCBvdXRwdXRFbGVtZW50ID0gZG9jdW1lbnQuZ2V0RWxlbWVudEJ5SWQob3V0cHV0SWQpOwogIC8vIENhY2hlIHN0ZXBzIG9uIHRoZSBvdXRwdXRFbGVtZW50IHRvIG1ha2UgaXQgYXZhaWxhYmxlIGZvciB0aGUgbmV4dCBjYWxsCiAgLy8gdG8gdXBsb2FkRmlsZXNDb250aW51ZSBmcm9tIFB5dGhvbi4KICBvdXRwdXRFbGVtZW50LnN0ZXBzID0gc3RlcHM7CgogIHJldHVybiBfdXBsb2FkRmlsZXNDb250aW51ZShvdXRwdXRJZCk7Cn0KCi8vIFRoaXMgaXMgcm91Z2hseSBhbiBhc3luYyBnZW5lcmF0b3IgKG5vdCBzdXBwb3J0ZWQgaW4gdGhlIGJyb3dzZXIgeWV0KSwKLy8gd2hlcmUgdGhlcmUgYXJlIG11bHRpcGxlIGFzeW5jaHJvbm91cyBzdGVwcyBhbmQgdGhlIFB5dGhvbiBzaWRlIGlzIGdvaW5nCi8vIHRvIHBvbGwgZm9yIGNvbXBsZXRpb24gb2YgZWFjaCBzdGVwLgovLyBUaGlzIHVzZXMgYSBQcm9taXNlIHRvIGJsb2NrIHRoZSBweXRob24gc2lkZSBvbiBjb21wbGV0aW9uIG9mIGVhY2ggc3RlcCwKLy8gdGhlbiBwYXNzZXMgdGhlIHJlc3VsdCBvZiB0aGUgcHJldmlvdXMgc3RlcCBhcyB0aGUgaW5wdXQgdG8gdGhlIG5leHQgc3RlcC4KZnVuY3Rpb24gX3VwbG9hZEZpbGVzQ29udGludWUob3V0cHV0SWQpIHsKICBjb25zdCBvdXRwdXRFbGVtZW50ID0gZG9jdW1lbnQuZ2V0RWxlbWVudEJ5SWQob3V0cHV0SWQpOwogIGNvbnN0IHN0ZXBzID0gb3V0cHV0RWxlbWVudC5zdGVwczsKCiAgY29uc3QgbmV4dCA9IHN0ZXBzLm5leHQob3V0cHV0RWxlbWVudC5sYXN0UHJvbWlzZVZhbHVlKTsKICByZXR1cm4gUHJvbWlzZS5yZXNvbHZlKG5leHQudmFsdWUucHJvbWlzZSkudGhlbigodmFsdWUpID0+IHsKICAgIC8vIENhY2hlIHRoZSBsYXN0IHByb21pc2UgdmFsdWUgdG8gbWFrZSBpdCBhdmFpbGFibGUgdG8gdGhlIG5leHQKICAgIC8vIHN0ZXAgb2YgdGhlIGdlbmVyYXRvci4KICAgIG91dHB1dEVsZW1lbnQubGFzdFByb21pc2VWYWx1ZSA9IHZhbHVlOwogICAgcmV0dXJuIG5leHQudmFsdWUucmVzcG9uc2U7CiAgfSk7Cn0KCi8qKgogKiBHZW5lcmF0b3IgZnVuY3Rpb24gd2hpY2ggaXMgY2FsbGVkIGJldHdlZW4gZWFjaCBhc3luYyBzdGVwIG9mIHRoZSB1cGxvYWQKICogcHJvY2Vzcy4KICogQHBhcmFtIHtzdHJpbmd9IGlucHV0SWQgRWxlbWVudCBJRCBvZiB0aGUgaW5wdXQgZmlsZSBwaWNrZXIgZWxlbWVudC4KICogQHBhcmFtIHtzdHJpbmd9IG91dHB1dElkIEVsZW1lbnQgSUQgb2YgdGhlIG91dHB1dCBkaXNwbGF5LgogKiBAcmV0dXJuIHshSXRlcmFibGU8IU9iamVjdD59IEl0ZXJhYmxlIG9mIG5leHQgc3RlcHMuCiAqLwpmdW5jdGlvbiogdXBsb2FkRmlsZXNTdGVwKGlucHV0SWQsIG91dHB1dElkKSB7CiAgY29uc3QgaW5wdXRFbGVtZW50ID0gZG9jdW1lbnQuZ2V0RWxlbWVudEJ5SWQoaW5wdXRJZCk7CiAgaW5wdXRFbGVtZW50LmRpc2FibGVkID0gZmFsc2U7CgogIGNvbnN0IG91dHB1dEVsZW1lbnQgPSBkb2N1bWVudC5nZXRFbGVtZW50QnlJZChvdXRwdXRJZCk7CiAgb3V0cHV0RWxlbWVudC5pbm5lckhUTUwgPSAnJzsKCiAgY29uc3QgcGlja2VkUHJvbWlzZSA9IG5ldyBQcm9taXNlKChyZXNvbHZlKSA9PiB7CiAgICBpbnB1dEVsZW1lbnQuYWRkRXZlbnRMaXN0ZW5lcignY2hhbmdlJywgKGUpID0+IHsKICAgICAgcmVzb2x2ZShlLnRhcmdldC5maWxlcyk7CiAgICB9KTsKICB9KTsKCiAgY29uc3QgY2FuY2VsID0gZG9jdW1lbnQuY3JlYXRlRWxlbWVudCgnYnV0dG9uJyk7CiAgaW5wdXRFbGVtZW50LnBhcmVudEVsZW1lbnQuYXBwZW5kQ2hpbGQoY2FuY2VsKTsKICBjYW5jZWwudGV4dENvbnRlbnQgPSAnQ2FuY2VsIHVwbG9hZCc7CiAgY29uc3QgY2FuY2VsUHJvbWlzZSA9IG5ldyBQcm9taXNlKChyZXNvbHZlKSA9PiB7CiAgICBjYW5jZWwub25jbGljayA9ICgpID0+IHsKICAgICAgcmVzb2x2ZShudWxsKTsKICAgIH07CiAgfSk7CgogIC8vIENhbmNlbCB1cGxvYWQgaWYgdXNlciBoYXNuJ3QgcGlja2VkIGFueXRoaW5nIGluIHRpbWVvdXQuCiAgY29uc3QgdGltZW91dFByb21pc2UgPSBuZXcgUHJvbWlzZSgocmVzb2x2ZSkgPT4gewogICAgc2V0VGltZW91dCgoKSA9PiB7CiAgICAgIHJlc29sdmUobnVsbCk7CiAgICB9LCBGSUxFX0NIQU5HRV9USU1FT1VUX01TKTsKICB9KTsKCiAgLy8gV2FpdCBmb3IgdGhlIHVzZXIgdG8gcGljayB0aGUgZmlsZXMuCiAgY29uc3QgZmlsZXMgPSB5aWVsZCB7CiAgICBwcm9taXNlOiBQcm9taXNlLnJhY2UoW3BpY2tlZFByb21pc2UsIHRpbWVvdXRQcm9taXNlLCBjYW5jZWxQcm9taXNlXSksCiAgICByZXNwb25zZTogewogICAgICBhY3Rpb246ICdzdGFydGluZycsCiAgICB9CiAgfTsKCiAgaWYgKCFmaWxlcykgewogICAgcmV0dXJuIHsKICAgICAgcmVzcG9uc2U6IHsKICAgICAgICBhY3Rpb246ICdjb21wbGV0ZScsCiAgICAgIH0KICAgIH07CiAgfQoKICBjYW5jZWwucmVtb3ZlKCk7CgogIC8vIERpc2FibGUgdGhlIGlucHV0IGVsZW1lbnQgc2luY2UgZnVydGhlciBwaWNrcyBhcmUgbm90IGFsbG93ZWQuCiAgaW5wdXRFbGVtZW50LmRpc2FibGVkID0gdHJ1ZTsKCiAgZm9yIChjb25zdCBmaWxlIG9mIGZpbGVzKSB7CiAgICBjb25zdCBsaSA9IGRvY3VtZW50LmNyZWF0ZUVsZW1lbnQoJ2xpJyk7CiAgICBsaS5hcHBlbmQoc3BhbihmaWxlLm5hbWUsIHtmb250V2VpZ2h0OiAnYm9sZCd9KSk7CiAgICBsaS5hcHBlbmQoc3BhbigKICAgICAgICBgKCR7ZmlsZS50eXBlIHx8ICduL2EnfSkgLSAke2ZpbGUuc2l6ZX0gYnl0ZXMsIGAgKwogICAgICAgIGBsYXN0IG1vZGlmaWVkOiAkewogICAgICAgICAgICBmaWxlLmxhc3RNb2RpZmllZERhdGUgPyBmaWxlLmxhc3RNb2RpZmllZERhdGUudG9Mb2NhbGVEYXRlU3RyaW5nKCkgOgogICAgICAgICAgICAgICAgICAgICAgICAgICAgICAgICAgICAnbi9hJ30gLSBgKSk7CiAgICBjb25zdCBwZXJjZW50ID0gc3BhbignMCUgZG9uZScpOwogICAgbGkuYXBwZW5kQ2hpbGQocGVyY2VudCk7CgogICAgb3V0cHV0RWxlbWVudC5hcHBlbmRDaGlsZChsaSk7CgogICAgY29uc3QgZmlsZURhdGFQcm9taXNlID0gbmV3IFByb21pc2UoKHJlc29sdmUpID0+IHsKICAgICAgY29uc3QgcmVhZGVyID0gbmV3IEZpbGVSZWFkZXIoKTsKICAgICAgcmVhZGVyLm9ubG9hZCA9IChlKSA9PiB7CiAgICAgICAgcmVzb2x2ZShlLnRhcmdldC5yZXN1bHQpOwogICAgICB9OwogICAgICByZWFkZXIucmVhZEFzQXJyYXlCdWZmZXIoZmlsZSk7CiAgICB9KTsKICAgIC8vIFdhaXQgZm9yIHRoZSBkYXRhIHRvIGJlIHJlYWR5LgogICAgbGV0IGZpbGVEYXRhID0geWllbGQgewogICAgICBwcm9taXNlOiBmaWxlRGF0YVByb21pc2UsCiAgICAgIHJlc3BvbnNlOiB7CiAgICAgICAgYWN0aW9uOiAnY29udGludWUnLAogICAgICB9CiAgICB9OwoKICAgIC8vIFVzZSBhIGNodW5rZWQgc2VuZGluZyB0byBhdm9pZCBtZXNzYWdlIHNpemUgbGltaXRzLiBTZWUgYi82MjExNTY2MC4KICAgIGxldCBwb3NpdGlvbiA9IDA7CiAgICB3aGlsZSAocG9zaXRpb24gPCBmaWxlRGF0YS5ieXRlTGVuZ3RoKSB7CiAgICAgIGNvbnN0IGxlbmd0aCA9IE1hdGgubWluKGZpbGVEYXRhLmJ5dGVMZW5ndGggLSBwb3NpdGlvbiwgTUFYX1BBWUxPQURfU0laRSk7CiAgICAgIGNvbnN0IGNodW5rID0gbmV3IFVpbnQ4QXJyYXkoZmlsZURhdGEsIHBvc2l0aW9uLCBsZW5ndGgpOwogICAgICBwb3NpdGlvbiArPSBsZW5ndGg7CgogICAgICBjb25zdCBiYXNlNjQgPSBidG9hKFN0cmluZy5mcm9tQ2hhckNvZGUuYXBwbHkobnVsbCwgY2h1bmspKTsKICAgICAgeWllbGQgewogICAgICAgIHJlc3BvbnNlOiB7CiAgICAgICAgICBhY3Rpb246ICdhcHBlbmQnLAogICAgICAgICAgZmlsZTogZmlsZS5uYW1lLAogICAgICAgICAgZGF0YTogYmFzZTY0LAogICAgICAgIH0sCiAgICAgIH07CiAgICAgIHBlcmNlbnQudGV4dENvbnRlbnQgPQogICAgICAgICAgYCR7TWF0aC5yb3VuZCgocG9zaXRpb24gLyBmaWxlRGF0YS5ieXRlTGVuZ3RoKSAqIDEwMCl9JSBkb25lYDsKICAgIH0KICB9CgogIC8vIEFsbCBkb25lLgogIHlpZWxkIHsKICAgIHJlc3BvbnNlOiB7CiAgICAgIGFjdGlvbjogJ2NvbXBsZXRlJywKICAgIH0KICB9Owp9CgpzY29wZS5nb29nbGUgPSBzY29wZS5nb29nbGUgfHwge307CnNjb3BlLmdvb2dsZS5jb2xhYiA9IHNjb3BlLmdvb2dsZS5jb2xhYiB8fCB7fTsKc2NvcGUuZ29vZ2xlLmNvbGFiLl9maWxlcyA9IHsKICBfdXBsb2FkRmlsZXMsCiAgX3VwbG9hZEZpbGVzQ29udGludWUsCn07Cn0pKHNlbGYpOwo=",
              "ok": true,
              "headers": [
                [
                  "content-type",
                  "application/javascript"
                ]
              ],
              "status": 200,
              "status_text": ""
            }
          },
          "base_uri": "https://localhost:8080/",
          "height": 72
        }
      },
      "source": [
        "from google.colab import files\n",
        "uploaded = files.upload()"
      ],
      "execution_count": 0,
      "outputs": [
        {
          "output_type": "display_data",
          "data": {
            "text/html": [
              "\n",
              "     <input type=\"file\" id=\"files-17f97db0-f0d8-4f75-be14-a79b40ecd3d2\" name=\"files[]\" multiple disabled />\n",
              "     <output id=\"result-17f97db0-f0d8-4f75-be14-a79b40ecd3d2\">\n",
              "      Upload widget is only available when the cell has been executed in the\n",
              "      current browser session. Please rerun this cell to enable.\n",
              "      </output>\n",
              "      <script src=\"/nbextensions/google.colab/files.js\"></script> "
            ],
            "text/plain": [
              "<IPython.core.display.HTML object>"
            ]
          },
          "metadata": {
            "tags": []
          }
        },
        {
          "output_type": "stream",
          "text": [
            "Saving train.csv to train (1).csv\n"
          ],
          "name": "stdout"
        }
      ]
    },
    {
      "cell_type": "code",
      "metadata": {
        "id": "7_Z3lD7rVrL4",
        "colab_type": "code",
        "colab": {}
      },
      "source": [
        "import io \n",
        "data = pd.read_csv(io.BytesIO(uploaded['train.csv']))"
      ],
      "execution_count": 0,
      "outputs": []
    },
    {
      "cell_type": "markdown",
      "metadata": {
        "id": "bGgfwa0quQW3",
        "colab_type": "text"
      },
      "source": [
        "Echemos un vistazo a los datos:\n",
        "\n",
        "(Sentencia similar a un select * con limit 5)"
      ]
    },
    {
      "cell_type": "code",
      "metadata": {
        "_cell_guid": "03e86158-c720-48f7-8dde-ee11f79b7893",
        "_uuid": "6bad00c321363076e535c13a1ad70026c17042f3",
        "id": "14VMfs1BUtli",
        "colab_type": "code",
        "outputId": "d67c1c92-4cc3-4430-e225-d760699c45af",
        "colab": {
          "base_uri": "https://localhost:8080/",
          "height": 495
        }
      },
      "source": [
        "data.head()"
      ],
      "execution_count": 0,
      "outputs": [
        {
          "output_type": "execute_result",
          "data": {
            "text/html": [
              "<div>\n",
              "<style scoped>\n",
              "    .dataframe tbody tr th:only-of-type {\n",
              "        vertical-align: middle;\n",
              "    }\n",
              "\n",
              "    .dataframe tbody tr th {\n",
              "        vertical-align: top;\n",
              "    }\n",
              "\n",
              "    .dataframe thead th {\n",
              "        text-align: right;\n",
              "    }\n",
              "</style>\n",
              "<table border=\"1\" class=\"dataframe\">\n",
              "  <thead>\n",
              "    <tr style=\"text-align: right;\">\n",
              "      <th></th>\n",
              "      <th>PassengerId</th>\n",
              "      <th>Survived</th>\n",
              "      <th>Pclass</th>\n",
              "      <th>Name</th>\n",
              "      <th>Sex</th>\n",
              "      <th>Age</th>\n",
              "      <th>SibSp</th>\n",
              "      <th>Parch</th>\n",
              "      <th>Ticket</th>\n",
              "      <th>Fare</th>\n",
              "      <th>Cabin</th>\n",
              "      <th>Embarked</th>\n",
              "    </tr>\n",
              "  </thead>\n",
              "  <tbody>\n",
              "    <tr>\n",
              "      <th>0</th>\n",
              "      <td>1</td>\n",
              "      <td>0</td>\n",
              "      <td>3</td>\n",
              "      <td>Braund, Mr. Owen Harris</td>\n",
              "      <td>male</td>\n",
              "      <td>22.0</td>\n",
              "      <td>1</td>\n",
              "      <td>0</td>\n",
              "      <td>A/5 21171</td>\n",
              "      <td>7.2500</td>\n",
              "      <td>NaN</td>\n",
              "      <td>S</td>\n",
              "    </tr>\n",
              "    <tr>\n",
              "      <th>1</th>\n",
              "      <td>2</td>\n",
              "      <td>1</td>\n",
              "      <td>1</td>\n",
              "      <td>Cumings, Mrs. John Bradley (Florence Briggs Th...</td>\n",
              "      <td>female</td>\n",
              "      <td>38.0</td>\n",
              "      <td>1</td>\n",
              "      <td>0</td>\n",
              "      <td>PC 17599</td>\n",
              "      <td>71.2833</td>\n",
              "      <td>C85</td>\n",
              "      <td>C</td>\n",
              "    </tr>\n",
              "    <tr>\n",
              "      <th>2</th>\n",
              "      <td>3</td>\n",
              "      <td>1</td>\n",
              "      <td>3</td>\n",
              "      <td>Heikkinen, Miss. Laina</td>\n",
              "      <td>female</td>\n",
              "      <td>26.0</td>\n",
              "      <td>0</td>\n",
              "      <td>0</td>\n",
              "      <td>STON/O2. 3101282</td>\n",
              "      <td>7.9250</td>\n",
              "      <td>NaN</td>\n",
              "      <td>S</td>\n",
              "    </tr>\n",
              "    <tr>\n",
              "      <th>3</th>\n",
              "      <td>4</td>\n",
              "      <td>1</td>\n",
              "      <td>1</td>\n",
              "      <td>Futrelle, Mrs. Jacques Heath (Lily May Peel)</td>\n",
              "      <td>female</td>\n",
              "      <td>35.0</td>\n",
              "      <td>1</td>\n",
              "      <td>0</td>\n",
              "      <td>113803</td>\n",
              "      <td>53.1000</td>\n",
              "      <td>C123</td>\n",
              "      <td>S</td>\n",
              "    </tr>\n",
              "    <tr>\n",
              "      <th>4</th>\n",
              "      <td>5</td>\n",
              "      <td>0</td>\n",
              "      <td>3</td>\n",
              "      <td>Allen, Mr. William Henry</td>\n",
              "      <td>male</td>\n",
              "      <td>35.0</td>\n",
              "      <td>0</td>\n",
              "      <td>0</td>\n",
              "      <td>373450</td>\n",
              "      <td>8.0500</td>\n",
              "      <td>NaN</td>\n",
              "      <td>S</td>\n",
              "    </tr>\n",
              "  </tbody>\n",
              "</table>\n",
              "</div>"
            ],
            "text/plain": [
              "   PassengerId  Survived  Pclass  ...     Fare Cabin  Embarked\n",
              "0            1         0       3  ...   7.2500   NaN         S\n",
              "1            2         1       1  ...  71.2833   C85         C\n",
              "2            3         1       3  ...   7.9250   NaN         S\n",
              "3            4         1       1  ...  53.1000  C123         S\n",
              "4            5         0       3  ...   8.0500   NaN         S\n",
              "\n",
              "[5 rows x 12 columns]"
            ]
          },
          "metadata": {
            "tags": []
          },
          "execution_count": 8
        }
      ]
    },
    {
      "cell_type": "markdown",
      "metadata": {
        "id": "R4_jxmx-ubqz",
        "colab_type": "text"
      },
      "source": [
        "Ahora chequearemos la cantidad de valores nulos que aparecen en las variables:"
      ]
    },
    {
      "cell_type": "code",
      "metadata": {
        "_cell_guid": "5ef569cd-e99e-42f0-93ec-abbc6a90c00e",
        "_uuid": "1496190095fb1cd2e289c63c986c6eb951046860",
        "id": "qz0rbMJeUtlk",
        "colab_type": "code",
        "outputId": "1e800f48-13cc-4ef7-bac5-292a5821eb6a",
        "colab": {
          "base_uri": "https://localhost:8080/",
          "height": 242
        }
      },
      "source": [
        "data.isnull().sum() #checking for total null values"
      ],
      "execution_count": 0,
      "outputs": [
        {
          "output_type": "execute_result",
          "data": {
            "text/plain": [
              "PassengerId      0\n",
              "Survived         0\n",
              "Pclass           0\n",
              "Name             0\n",
              "Sex              0\n",
              "Age            177\n",
              "SibSp            0\n",
              "Parch            0\n",
              "Ticket           0\n",
              "Fare             0\n",
              "Cabin          687\n",
              "Embarked         2\n",
              "dtype: int64"
            ]
          },
          "metadata": {
            "tags": []
          },
          "execution_count": 9
        }
      ]
    },
    {
      "cell_type": "markdown",
      "metadata": {
        "_cell_guid": "31972ab9-edef-49e3-bcd5-120262cf00d8",
        "_uuid": "fcedf70d9bdab89fb7eb8ff3769b14f0b5036a33",
        "id": "z_f7t7sjUtlm",
        "colab_type": "text"
      },
      "source": [
        "Las variables **Age, Cabin and Embarked**, deberemos imputarlos."
      ]
    },
    {
      "cell_type": "markdown",
      "metadata": {
        "_cell_guid": "841dc40d-06b4-4010-b996-8d1e23857341",
        "_uuid": "d433fbf891d9268f60bf395d7db4e61996989d04",
        "id": "g8QFAcaAUtln",
        "colab_type": "text"
      },
      "source": [
        "### Ratio de target: ¿Cuántos sobrevivieron?"
      ]
    },
    {
      "cell_type": "markdown",
      "metadata": {
        "id": "Fd1DGtJmulYA",
        "colab_type": "text"
      },
      "source": [
        "Para realizar mas de un gráfico dentro del mismo plot usaremos subplots (https://matplotlib.org/3.1.1/api/_as_gen/matplotlib.pyplot.subplots.html), en los comentarios podemos ver la función de cada sentencia."
      ]
    },
    {
      "cell_type": "code",
      "metadata": {
        "_cell_guid": "fabb7625-a8ef-4f37-99c6-3ec93679ef1f",
        "_uuid": "c60257aef24e867113873729829c7a1e33f4a0ab",
        "id": "UD3tEyqUUtln",
        "colab_type": "code",
        "outputId": "3f5cff52-5a2a-4d0d-f066-b55eeff6262e",
        "colab": {
          "base_uri": "https://localhost:8080/",
          "height": 513
        }
      },
      "source": [
        "f,ax=plt.subplots(1,2,figsize=(10,8)) # Inicializamos la figura, con el primer y segundo parámetro fijamos el número de filas y columnas. \n",
        "# Figsize nos permite también fijar el tamaño de nuestro gráfico\n",
        "\n",
        "data['Survived'].value_counts().plot.pie(explode=[0,0.1],autopct='%1.1f%%',ax=ax[0],shadow=True) #Representamos en un gráfico de tartas el conteo de los supervivientes\n",
        "# Importante notar que el parámetro ax=ax[0] nos permite asignar la posición del gráfico dentro del subplot (en este caso solo una coordenada basta)\n",
        "\n",
        "ax[0].set_title('Tarta') # Fiajmos el título del gráfico\n",
        "ax[0].set_ylabel('') # Asignamos la etiqueta al eje y\n",
        "\n",
        "sns.countplot('Survived',data=data,ax=ax[1]) # Representamos el histograma, asignandolo a la otra posición del subplot\n",
        "ax[1].set_title('Histograma')\n",
        "\n",
        "plt.show()"
      ],
      "execution_count": 0,
      "outputs": [
        {
          "output_type": "display_data",
          "data": {
            "image/png": "[encoded data removed]",
            "text/plain": [
              "<Figure size 720x576 with 2 Axes>"
            ]
          },
          "metadata": {
            "tags": []
          }
        }
      ]
    },
    {
      "cell_type": "markdown",
      "metadata": {
        "_cell_guid": "f16f40df-3681-4330-ba57-2955094a6546",
        "_uuid": "01e521761a33c3bc2961e2613f729c164269ee51",
        "id": "iE3XSXOYUtlq",
        "colab_type": "text"
      },
      "source": [
        "## Tipos de variables:\n",
        "\n",
        "### Variables categóricas:\n",
        "\n",
        "\n",
        "**Variables categóricas en el dataset: Sex,Embarked.**\n",
        "\n",
        "### Variables ordinales:\n",
        "\n",
        "\n",
        "**Variables ordinales en el dataset: PClass**\n",
        "\n",
        "### Variables continuas:\n",
        "\n",
        "\n",
        "**Variables continuas en el dataset: Age**"
      ]
    },
    {
      "cell_type": "markdown",
      "metadata": {
        "_cell_guid": "ccd13018-e5fb-4022-ac41-cadce1994dbe",
        "_uuid": "2b36f7862279cf64a76a9950f703bfed4ca220f6",
        "id": "bDd-8VIhUtlq",
        "colab_type": "text"
      },
      "source": [
        "## 1.1 Análisis univariante y multivariante"
      ]
    },
    {
      "cell_type": "markdown",
      "metadata": {
        "_cell_guid": "8d5bd219-61ce-4c88-b0c5-aaffce8cb1cc",
        "_uuid": "8b5ad1ae98e4aad980f24bbefb489e6ac049768b",
        "id": "yk2dx8vYUtlr",
        "colab_type": "text"
      },
      "source": [
        "### Sex"
      ]
    },
    {
      "cell_type": "markdown",
      "metadata": {
        "id": "joWz2Yfsw4Fm",
        "colab_type": "text"
      },
      "source": [
        "Usando groupby (https://pandas.pydata.org/pandas-docs/stable/reference/api/pandas.DataFrame.groupby.html) y la función count podemos obtener el número de supervivientes y no supervivientes por género:"
      ]
    },
    {
      "cell_type": "code",
      "metadata": {
        "_cell_guid": "428c84fc-9d5e-4022-a9f5-1c8ec7257268",
        "_uuid": "3554e468c8581316a717348689f1d867b3c97f6a",
        "id": "O4iKXeAVUtlr",
        "colab_type": "code",
        "outputId": "10f52255-9468-4305-b8e2-3f985c953b27",
        "colab": {
          "base_uri": "https://localhost:8080/",
          "height": 119
        }
      },
      "source": [
        "data.groupby(['Sex','Survived'])['Survived'].count()"
      ],
      "execution_count": 0,
      "outputs": [
        {
          "output_type": "execute_result",
          "data": {
            "text/plain": [
              "Sex     Survived\n",
              "female  0            81\n",
              "        1           233\n",
              "male    0           468\n",
              "        1           109\n",
              "Name: Survived, dtype: int64"
            ]
          },
          "metadata": {
            "tags": []
          },
          "execution_count": 17
        }
      ]
    },
    {
      "cell_type": "markdown",
      "metadata": {
        "id": "-a7RPV-FxPkJ",
        "colab_type": "text"
      },
      "source": [
        "Representemos ahora gráficamente estos números:\n",
        "\n",
        "(Comentaremos los detalles específicos de este gráfico, varias de las sentencias y funciones han sido explicadas en el primer gráfico de este tipo)"
      ]
    },
    {
      "cell_type": "code",
      "metadata": {
        "_cell_guid": "06218a7d-bf3c-40b1-9cfa-2a915f7bc005",
        "_uuid": "c06e043424e13b87fcb020322e4869430fd0714f",
        "id": "yBULoTssUtlu",
        "colab_type": "code",
        "outputId": "964ef49f-5a4a-49b7-9650-931add51f8e6",
        "colab": {
          "base_uri": "https://localhost:8080/",
          "height": 538
        }
      },
      "source": [
        "f,ax=plt.subplots(1,2,figsize=(10,8))\n",
        "\n",
        "data[['Sex','Survived']].groupby(['Sex']).mean().plot.bar(ax=ax[0]) # Calculamos el ratio de supervivientes por género (podemos usar la media pues es una variable 1/0)\n",
        "ax[0].set_title('Survived vs Sex')\n",
        "\n",
        "sns.countplot('Sex',hue='Survived',data=data,ax=ax[1])\n",
        "ax[1].set_title('Sex:Survived vs Dead')\n",
        "\n",
        "plt.show()"
      ],
      "execution_count": 0,
      "outputs": [
        {
          "output_type": "display_data",
          "data": {
            "image/png": "[encoded data removed]",
            "text/plain": [
              "<Figure size 720x576 with 2 Axes>"
            ]
          },
          "metadata": {
            "tags": []
          }
        }
      ]
    },
    {
      "cell_type": "markdown",
      "metadata": {
        "_cell_guid": "a210b0c8-dd8e-4fd0-a7f2-e597b7ed81e6",
        "_uuid": "e3b6327723dedd766d452f55b4056bbd0b37bed2",
        "id": "32-i_3JnUtlw",
        "colab_type": "text"
      },
      "source": [
        "### Pclass"
      ]
    },
    {
      "cell_type": "markdown",
      "metadata": {
        "id": "tAR0AHRUyFBt",
        "colab_type": "text"
      },
      "source": [
        "Estudiemos ahora las proporciones de supervivientes en función de la clase en la que viajaban:\n",
        "\n",
        "Usaremos la funcion crosstab (https://pandas.pydata.org/pandas-docs/stable/reference/api/pandas.crosstab.html)"
      ]
    },
    {
      "cell_type": "code",
      "metadata": {
        "_cell_guid": "2477b536-32dd-43a0-8824-be034104b760",
        "_uuid": "4a98fe27c4474296c6b51f4a2b7fb076c228b4b8",
        "id": "u4E1U0uRUtlw",
        "colab_type": "code",
        "outputId": "0ea971ca-9966-40e7-bdd7-015b2c060501",
        "colab": {
          "base_uri": "https://localhost:8080/",
          "height": 145
        }
      },
      "source": [
        "pd.crosstab(data.Pclass,data.Survived,margins=True).style.background_gradient(cmap='summer_r')"
      ],
      "execution_count": 0,
      "outputs": [
        {
          "output_type": "execute_result",
          "data": {
            "text/html": [
              "<style  type=\"text/css\" >\n",
              "    #T_947b49ea_f5d5_11e9_b5f2_0242ac1c0002row0_col0 {\n",
              "            background-color:  #ffff66;\n",
              "            color:  #000000;\n",
              "        }    #T_947b49ea_f5d5_11e9_b5f2_0242ac1c0002row0_col1 {\n",
              "            background-color:  #cee666;\n",
              "            color:  #000000;\n",
              "        }    #T_947b49ea_f5d5_11e9_b5f2_0242ac1c0002row0_col2 {\n",
              "            background-color:  #f4fa66;\n",
              "            color:  #000000;\n",
              "        }    #T_947b49ea_f5d5_11e9_b5f2_0242ac1c0002row1_col0 {\n",
              "            background-color:  #f6fa66;\n",
              "            color:  #000000;\n",
              "        }    #T_947b49ea_f5d5_11e9_b5f2_0242ac1c0002row1_col1 {\n",
              "            background-color:  #ffff66;\n",
              "            color:  #000000;\n",
              "        }    #T_947b49ea_f5d5_11e9_b5f2_0242ac1c0002row1_col2 {\n",
              "            background-color:  #ffff66;\n",
              "            color:  #000000;\n",
              "        }    #T_947b49ea_f5d5_11e9_b5f2_0242ac1c0002row2_col0 {\n",
              "            background-color:  #60b066;\n",
              "            color:  #000000;\n",
              "        }    #T_947b49ea_f5d5_11e9_b5f2_0242ac1c0002row2_col1 {\n",
              "            background-color:  #dfef66;\n",
              "            color:  #000000;\n",
              "        }    #T_947b49ea_f5d5_11e9_b5f2_0242ac1c0002row2_col2 {\n",
              "            background-color:  #90c866;\n",
              "            color:  #000000;\n",
              "        }    #T_947b49ea_f5d5_11e9_b5f2_0242ac1c0002row3_col0 {\n",
              "            background-color:  #008066;\n",
              "            color:  #f1f1f1;\n",
              "        }    #T_947b49ea_f5d5_11e9_b5f2_0242ac1c0002row3_col1 {\n",
              "            background-color:  #008066;\n",
              "            color:  #f1f1f1;\n",
              "        }    #T_947b49ea_f5d5_11e9_b5f2_0242ac1c0002row3_col2 {\n",
              "            background-color:  #008066;\n",
              "            color:  #f1f1f1;\n",
              "        }</style><table id=\"T_947b49ea_f5d5_11e9_b5f2_0242ac1c0002\" ><thead>    <tr>        <th class=\"index_name level0\" >Survived</th>        <th class=\"col_heading level0 col0\" >0</th>        <th class=\"col_heading level0 col1\" >1</th>        <th class=\"col_heading level0 col2\" >All</th>    </tr>    <tr>        <th class=\"index_name level0\" >Pclass</th>        <th class=\"blank\" ></th>        <th class=\"blank\" ></th>        <th class=\"blank\" ></th>    </tr></thead><tbody>\n",
              "                <tr>\n",
              "                        <th id=\"T_947b49ea_f5d5_11e9_b5f2_0242ac1c0002level0_row0\" class=\"row_heading level0 row0\" >1</th>\n",
              "                        <td id=\"T_947b49ea_f5d5_11e9_b5f2_0242ac1c0002row0_col0\" class=\"data row0 col0\" >80</td>\n",
              "                        <td id=\"T_947b49ea_f5d5_11e9_b5f2_0242ac1c0002row0_col1\" class=\"data row0 col1\" >136</td>\n",
              "                        <td id=\"T_947b49ea_f5d5_11e9_b5f2_0242ac1c0002row0_col2\" class=\"data row0 col2\" >216</td>\n",
              "            </tr>\n",
              "            <tr>\n",
              "                        <th id=\"T_947b49ea_f5d5_11e9_b5f2_0242ac1c0002level0_row1\" class=\"row_heading level0 row1\" >2</th>\n",
              "                        <td id=\"T_947b49ea_f5d5_11e9_b5f2_0242ac1c0002row1_col0\" class=\"data row1 col0\" >97</td>\n",
              "                        <td id=\"T_947b49ea_f5d5_11e9_b5f2_0242ac1c0002row1_col1\" class=\"data row1 col1\" >87</td>\n",
              "                        <td id=\"T_947b49ea_f5d5_11e9_b5f2_0242ac1c0002row1_col2\" class=\"data row1 col2\" >184</td>\n",
              "            </tr>\n",
              "            <tr>\n",
              "                        <th id=\"T_947b49ea_f5d5_11e9_b5f2_0242ac1c0002level0_row2\" class=\"row_heading level0 row2\" >3</th>\n",
              "                        <td id=\"T_947b49ea_f5d5_11e9_b5f2_0242ac1c0002row2_col0\" class=\"data row2 col0\" >372</td>\n",
              "                        <td id=\"T_947b49ea_f5d5_11e9_b5f2_0242ac1c0002row2_col1\" class=\"data row2 col1\" >119</td>\n",
              "                        <td id=\"T_947b49ea_f5d5_11e9_b5f2_0242ac1c0002row2_col2\" class=\"data row2 col2\" >491</td>\n",
              "            </tr>\n",
              "            <tr>\n",
              "                        <th id=\"T_947b49ea_f5d5_11e9_b5f2_0242ac1c0002level0_row3\" class=\"row_heading level0 row3\" >All</th>\n",
              "                        <td id=\"T_947b49ea_f5d5_11e9_b5f2_0242ac1c0002row3_col0\" class=\"data row3 col0\" >549</td>\n",
              "                        <td id=\"T_947b49ea_f5d5_11e9_b5f2_0242ac1c0002row3_col1\" class=\"data row3 col1\" >342</td>\n",
              "                        <td id=\"T_947b49ea_f5d5_11e9_b5f2_0242ac1c0002row3_col2\" class=\"data row3 col2\" >891</td>\n",
              "            </tr>\n",
              "    </tbody></table>"
            ],
            "text/plain": [
              "<pandas.io.formats.style.Styler at 0x7f4afbd1a940>"
            ]
          },
          "metadata": {
            "tags": []
          },
          "execution_count": 12
        }
      ]
    },
    {
      "cell_type": "markdown",
      "metadata": {
        "id": "WpFXCf86zK7c",
        "colab_type": "text"
      },
      "source": [
        "Y lo representamos gráficamente:"
      ]
    },
    {
      "cell_type": "code",
      "metadata": {
        "_cell_guid": "c3adaaa2-f675-4273-ba93-8b26c37bacf3",
        "_uuid": "592a3d8c24761c3f6e8c5cf875554826d9e308a5",
        "id": "-jR_JeKzUtly",
        "colab_type": "code",
        "outputId": "1f4918ba-f2bd-4241-d271-3bd4a15fffc1",
        "colab": {
          "base_uri": "https://localhost:8080/",
          "height": 513
        }
      },
      "source": [
        "f,ax=plt.subplots(1,2,figsize=(18,8))\n",
        "\n",
        "data['Pclass'].value_counts().plot.bar(color=['#CD7F32','#FFDF00','#D3D3D3'],ax=ax[0])\n",
        "ax[0].set_title('Number Of Passengers By Pclass')\n",
        "ax[0].set_ylabel('Count')\n",
        "\n",
        "sns.countplot('Pclass',hue='Survived',data=data,ax=ax[1])\n",
        "ax[1].set_title('Pclass:Survived vs Dead')\n",
        "\n",
        "plt.show()"
      ],
      "execution_count": 0,
      "outputs": [
        {
          "output_type": "display_data",
          "data": {
            "image/png": "[encoded data removed]",
            "text/plain": [
              "<Figure size 1296x576 with 2 Axes>"
            ]
          },
          "metadata": {
            "tags": []
          }
        }
      ]
    },
    {
      "cell_type": "markdown",
      "metadata": {
        "id": "ueSUAmTDzSAe",
        "colab_type": "text"
      },
      "source": [
        "Podemos incluso usar la función crosstab para combinar en la misma matriz la combinación de 3 variables distintas:"
      ]
    },
    {
      "cell_type": "code",
      "metadata": {
        "_cell_guid": "7d413d16-2861-4aca-9042-38e374eddef3",
        "_uuid": "1308ec5a68849984dfd1e05b53c52b6192363a18",
        "id": "rWR_rUp6Utl0",
        "colab_type": "code",
        "outputId": "9d150d90-f70f-4658-c174-9267ad1df212",
        "colab": {
          "base_uri": "https://localhost:8080/",
          "height": 166
        }
      },
      "source": [
        "pd.crosstab([data.Sex,data.Survived],data.Pclass,margins=True).style.background_gradient(cmap='summer_r')"
      ],
      "execution_count": 0,
      "outputs": [
        {
          "output_type": "execute_result",
          "data": {
            "text/html": [
              "<style  type=\"text/css\" >\n",
              "    #T_c69be1f0_ed97_11e9_ade8_0242ac1c0002row0_col0 {\n",
              "            background-color:  #ffff66;\n",
              "            color:  #000000;\n",
              "        }    #T_c69be1f0_ed97_11e9_ade8_0242ac1c0002row0_col1 {\n",
              "            background-color:  #ffff66;\n",
              "            color:  #000000;\n",
              "        }    #T_c69be1f0_ed97_11e9_ade8_0242ac1c0002row0_col2 {\n",
              "            background-color:  #f1f866;\n",
              "            color:  #000000;\n",
              "        }    #T_c69be1f0_ed97_11e9_ade8_0242ac1c0002row0_col3 {\n",
              "            background-color:  #ffff66;\n",
              "            color:  #000000;\n",
              "        }    #T_c69be1f0_ed97_11e9_ade8_0242ac1c0002row1_col0 {\n",
              "            background-color:  #96cb66;\n",
              "            color:  #000000;\n",
              "        }    #T_c69be1f0_ed97_11e9_ade8_0242ac1c0002row1_col1 {\n",
              "            background-color:  #a3d166;\n",
              "            color:  #000000;\n",
              "        }    #T_c69be1f0_ed97_11e9_ade8_0242ac1c0002row1_col2 {\n",
              "            background-color:  #f1f866;\n",
              "            color:  #000000;\n",
              "        }    #T_c69be1f0_ed97_11e9_ade8_0242ac1c0002row1_col3 {\n",
              "            background-color:  #cfe766;\n",
              "            color:  #000000;\n",
              "        }    #T_c69be1f0_ed97_11e9_ade8_0242ac1c0002row2_col0 {\n",
              "            background-color:  #a7d366;\n",
              "            color:  #000000;\n",
              "        }    #T_c69be1f0_ed97_11e9_ade8_0242ac1c0002row2_col1 {\n",
              "            background-color:  #85c266;\n",
              "            color:  #000000;\n",
              "        }    #T_c69be1f0_ed97_11e9_ade8_0242ac1c0002row2_col2 {\n",
              "            background-color:  #6eb666;\n",
              "            color:  #000000;\n",
              "        }    #T_c69be1f0_ed97_11e9_ade8_0242ac1c0002row2_col3 {\n",
              "            background-color:  #85c266;\n",
              "            color:  #000000;\n",
              "        }    #T_c69be1f0_ed97_11e9_ade8_0242ac1c0002row3_col0 {\n",
              "            background-color:  #cde666;\n",
              "            color:  #000000;\n",
              "        }    #T_c69be1f0_ed97_11e9_ade8_0242ac1c0002row3_col1 {\n",
              "            background-color:  #f0f866;\n",
              "            color:  #000000;\n",
              "        }    #T_c69be1f0_ed97_11e9_ade8_0242ac1c0002row3_col2 {\n",
              "            background-color:  #ffff66;\n",
              "            color:  #000000;\n",
              "        }    #T_c69be1f0_ed97_11e9_ade8_0242ac1c0002row3_col3 {\n",
              "            background-color:  #f7fb66;\n",
              "            color:  #000000;\n",
              "        }    #T_c69be1f0_ed97_11e9_ade8_0242ac1c0002row4_col0 {\n",
              "            background-color:  #008066;\n",
              "            color:  #f1f1f1;\n",
              "        }    #T_c69be1f0_ed97_11e9_ade8_0242ac1c0002row4_col1 {\n",
              "            background-color:  #008066;\n",
              "            color:  #f1f1f1;\n",
              "        }    #T_c69be1f0_ed97_11e9_ade8_0242ac1c0002row4_col2 {\n",
              "            background-color:  #008066;\n",
              "            color:  #f1f1f1;\n",
              "        }    #T_c69be1f0_ed97_11e9_ade8_0242ac1c0002row4_col3 {\n",
              "            background-color:  #008066;\n",
              "            color:  #f1f1f1;\n",
              "        }</style><table id=\"T_c69be1f0_ed97_11e9_ade8_0242ac1c0002\" ><thead>    <tr>        <th class=\"blank\" ></th>        <th class=\"index_name level0\" >Pclass</th>        <th class=\"col_heading level0 col0\" >1</th>        <th class=\"col_heading level0 col1\" >2</th>        <th class=\"col_heading level0 col2\" >3</th>        <th class=\"col_heading level0 col3\" >All</th>    </tr>    <tr>        <th class=\"index_name level0\" >Sex</th>        <th class=\"index_name level1\" >Survived</th>        <th class=\"blank\" ></th>        <th class=\"blank\" ></th>        <th class=\"blank\" ></th>        <th class=\"blank\" ></th>    </tr></thead><tbody>\n",
              "                <tr>\n",
              "                        <th id=\"T_c69be1f0_ed97_11e9_ade8_0242ac1c0002level0_row0\" class=\"row_heading level0 row0\" rowspan=2>female</th>\n",
              "                        <th id=\"T_c69be1f0_ed97_11e9_ade8_0242ac1c0002level1_row0\" class=\"row_heading level1 row0\" >0</th>\n",
              "                        <td id=\"T_c69be1f0_ed97_11e9_ade8_0242ac1c0002row0_col0\" class=\"data row0 col0\" >3</td>\n",
              "                        <td id=\"T_c69be1f0_ed97_11e9_ade8_0242ac1c0002row0_col1\" class=\"data row0 col1\" >6</td>\n",
              "                        <td id=\"T_c69be1f0_ed97_11e9_ade8_0242ac1c0002row0_col2\" class=\"data row0 col2\" >72</td>\n",
              "                        <td id=\"T_c69be1f0_ed97_11e9_ade8_0242ac1c0002row0_col3\" class=\"data row0 col3\" >81</td>\n",
              "            </tr>\n",
              "            <tr>\n",
              "                                <th id=\"T_c69be1f0_ed97_11e9_ade8_0242ac1c0002level1_row1\" class=\"row_heading level1 row1\" >1</th>\n",
              "                        <td id=\"T_c69be1f0_ed97_11e9_ade8_0242ac1c0002row1_col0\" class=\"data row1 col0\" >91</td>\n",
              "                        <td id=\"T_c69be1f0_ed97_11e9_ade8_0242ac1c0002row1_col1\" class=\"data row1 col1\" >70</td>\n",
              "                        <td id=\"T_c69be1f0_ed97_11e9_ade8_0242ac1c0002row1_col2\" class=\"data row1 col2\" >72</td>\n",
              "                        <td id=\"T_c69be1f0_ed97_11e9_ade8_0242ac1c0002row1_col3\" class=\"data row1 col3\" >233</td>\n",
              "            </tr>\n",
              "            <tr>\n",
              "                        <th id=\"T_c69be1f0_ed97_11e9_ade8_0242ac1c0002level0_row2\" class=\"row_heading level0 row2\" rowspan=2>male</th>\n",
              "                        <th id=\"T_c69be1f0_ed97_11e9_ade8_0242ac1c0002level1_row2\" class=\"row_heading level1 row2\" >0</th>\n",
              "                        <td id=\"T_c69be1f0_ed97_11e9_ade8_0242ac1c0002row2_col0\" class=\"data row2 col0\" >77</td>\n",
              "                        <td id=\"T_c69be1f0_ed97_11e9_ade8_0242ac1c0002row2_col1\" class=\"data row2 col1\" >91</td>\n",
              "                        <td id=\"T_c69be1f0_ed97_11e9_ade8_0242ac1c0002row2_col2\" class=\"data row2 col2\" >300</td>\n",
              "                        <td id=\"T_c69be1f0_ed97_11e9_ade8_0242ac1c0002row2_col3\" class=\"data row2 col3\" >468</td>\n",
              "            </tr>\n",
              "            <tr>\n",
              "                                <th id=\"T_c69be1f0_ed97_11e9_ade8_0242ac1c0002level1_row3\" class=\"row_heading level1 row3\" >1</th>\n",
              "                        <td id=\"T_c69be1f0_ed97_11e9_ade8_0242ac1c0002row3_col0\" class=\"data row3 col0\" >45</td>\n",
              "                        <td id=\"T_c69be1f0_ed97_11e9_ade8_0242ac1c0002row3_col1\" class=\"data row3 col1\" >17</td>\n",
              "                        <td id=\"T_c69be1f0_ed97_11e9_ade8_0242ac1c0002row3_col2\" class=\"data row3 col2\" >47</td>\n",
              "                        <td id=\"T_c69be1f0_ed97_11e9_ade8_0242ac1c0002row3_col3\" class=\"data row3 col3\" >109</td>\n",
              "            </tr>\n",
              "            <tr>\n",
              "                        <th id=\"T_c69be1f0_ed97_11e9_ade8_0242ac1c0002level0_row4\" class=\"row_heading level0 row4\" >All</th>\n",
              "                        <th id=\"T_c69be1f0_ed97_11e9_ade8_0242ac1c0002level1_row4\" class=\"row_heading level1 row4\" ></th>\n",
              "                        <td id=\"T_c69be1f0_ed97_11e9_ade8_0242ac1c0002row4_col0\" class=\"data row4 col0\" >216</td>\n",
              "                        <td id=\"T_c69be1f0_ed97_11e9_ade8_0242ac1c0002row4_col1\" class=\"data row4 col1\" >184</td>\n",
              "                        <td id=\"T_c69be1f0_ed97_11e9_ade8_0242ac1c0002row4_col2\" class=\"data row4 col2\" >491</td>\n",
              "                        <td id=\"T_c69be1f0_ed97_11e9_ade8_0242ac1c0002row4_col3\" class=\"data row4 col3\" >891</td>\n",
              "            </tr>\n",
              "    </tbody></table>"
            ],
            "text/plain": [
              "<pandas.io.formats.style.Styler at 0x7f4d2ab84d30>"
            ]
          },
          "metadata": {
            "tags": []
          },
          "execution_count": 12
        }
      ]
    },
    {
      "cell_type": "markdown",
      "metadata": {
        "id": "WpA1jy_GqApG",
        "colab_type": "text"
      },
      "source": [
        "Ahora representaremos estos ratios de supervivientes de una forma alternativa usando el gráfico factorplot (https://seaborn.pydata.org/generated/seaborn.catplot.html) dentro de la librería seaborn (https://seaborn.pydata.org) "
      ]
    },
    {
      "cell_type": "code",
      "metadata": {
        "_cell_guid": "1fd41001-f153-4a78-806b-72b16a34f88f",
        "_uuid": "710111beaace27f0e85958a0639f2b2175b0892c",
        "id": "zV_ElZXqUtl2",
        "colab_type": "code",
        "outputId": "004619c0-3775-4b62-8c39-9b8a7cf2d71c",
        "colab": {
          "base_uri": "https://localhost:8080/",
          "height": 369
        }
      },
      "source": [
        "sns.factorplot('Pclass','Survived',hue='Sex',data=data)\n",
        "plt.show()"
      ],
      "execution_count": 0,
      "outputs": [
        {
          "output_type": "display_data",
          "data": {
            "image/png": "[encoded data removed]",
            "text/plain": [
              "<Figure size 430.5x360 with 1 Axes>"
            ]
          },
          "metadata": {
            "tags": []
          }
        }
      ]
    },
    {
      "cell_type": "markdown",
      "metadata": {
        "_cell_guid": "b9a8739f-9bfa-48a0-8b55-85694f8c7b36",
        "_uuid": "da1710d88cdb726d4c74d1580eb4650823f8e1a9",
        "id": "jP7l_3ewUtl5",
        "colab_type": "text"
      },
      "source": [
        "### Age"
      ]
    },
    {
      "cell_type": "markdown",
      "metadata": {
        "id": "0d4NuxZ61TOL",
        "colab_type": "text"
      },
      "source": [
        "Ahora podemos representar algunas métricas básicas, tomaremos como ejemplo la variable edad:"
      ]
    },
    {
      "cell_type": "code",
      "metadata": {
        "_cell_guid": "d8c1dc5a-2f74-4c88-9101-6c98abaf9878",
        "_uuid": "58e1110e104a4628f2852fa284905525997c2c44",
        "id": "aBYj0wC7Utl5",
        "colab_type": "code",
        "outputId": "f50f9c1b-3cc5-4356-8dc8-e567ed38c8e8",
        "colab": {
          "base_uri": "https://localhost:8080/",
          "height": 68
        }
      },
      "source": [
        "print('Oldest Passenger was of:',data['Age'].max(),'Years')\n",
        "print('Youngest Passenger was of:',data['Age'].min(),'Years')\n",
        "print('Average Age on the ship:',data['Age'].mean(),'Years')"
      ],
      "execution_count": 0,
      "outputs": [
        {
          "output_type": "stream",
          "text": [
            "Oldest Passenger was of: 80.0 Years\n",
            "Youngest Passenger was of: 0.42 Years\n",
            "Average Age on the ship: 29.69911764705882 Years\n"
          ],
          "name": "stdout"
        }
      ]
    },
    {
      "cell_type": "markdown",
      "metadata": {
        "id": "AsnA8OSO1bg1",
        "colab_type": "text"
      },
      "source": [
        "Otro tipo de gráfico interesante son los violinplot (https://seaborn.pydata.org/generated/seaborn.violinplot.html#seaborn.violinplot). Usaremos de nuevo la edad, clase y la variable objetivo para estos gráficos:"
      ]
    },
    {
      "cell_type": "code",
      "metadata": {
        "_cell_guid": "cf3e9729-799e-4142-84ff-0dbb6906136e",
        "_uuid": "a43082dc51717bbcc0a036db2d78b7732eb41ef1",
        "id": "IyFKMglMUtl7",
        "colab_type": "code",
        "outputId": "38b31da7-5fb8-47c4-dced-04ab303234dc",
        "colab": {
          "base_uri": "https://localhost:8080/",
          "height": 513
        }
      },
      "source": [
        "f,ax=plt.subplots(1,2,figsize=(10,8))\n",
        "\n",
        "sns.violinplot(\"Pclass\",\"Age\", hue=\"Survived\", data=data,split=True,ax=ax[0])\n",
        "ax[0].set_title('Pclass and Age vs Survived')\n",
        "ax[0].set_yticks(range(0,110,10))\n",
        "\n",
        "sns.violinplot(\"Sex\",\"Age\", hue=\"Survived\", data=data,split=True,ax=ax[1])\n",
        "ax[1].set_title('Sex and Age vs Survived')\n",
        "ax[1].set_yticks(range(0,110,10))\n",
        "\n",
        "plt.show()"
      ],
      "execution_count": 0,
      "outputs": [
        {
          "output_type": "display_data",
          "data": {
            "image/png": "[encoded data removed]",
            "text/plain": [
              "<Figure size 720x576 with 2 Axes>"
            ]
          },
          "metadata": {
            "tags": []
          }
        }
      ]
    },
    {
      "cell_type": "markdown",
      "metadata": {
        "id": "i27h34BS4F6n",
        "colab_type": "text"
      },
      "source": [
        "También existe la posibilidad de solapar dos gráficos dentro de la misma imagen, dando una visión mas completa de la información.\n",
        "\n",
        "En este caso vemos como unir un boxplot y un scatterplot:"
      ]
    },
    {
      "cell_type": "code",
      "metadata": {
        "id": "khscxZL2Utl9",
        "colab_type": "code",
        "outputId": "495abb97-e68a-489d-b6de-4e89f80633a5",
        "colab": {
          "base_uri": "https://localhost:8080/",
          "height": 279
        }
      },
      "source": [
        "ax = sns.boxplot(x=\"Survived\", y=\"Age\", \n",
        "                data=data)\n",
        "\n",
        "ax = sns.stripplot(x=\"Survived\", y=\"Age\",\n",
        "                   data=data, jitter=True,\n",
        "                   edgecolor=\"gray\")"
      ],
      "execution_count": 0,
      "outputs": [
        {
          "output_type": "display_data",
          "data": {
            "image/png": "[encoded data removed]",
            "text/plain": [
              "<Figure size 432x288 with 1 Axes>"
            ]
          },
          "metadata": {
            "tags": []
          }
        }
      ]
    },
    {
      "cell_type": "markdown",
      "metadata": {
        "id": "wzsyZJzG4bMj",
        "colab_type": "text"
      },
      "source": [
        "Veamos también cómo representar el histograma de una variable contínua, en este caso la edad, en función de la variable objetivo:\n",
        "\n",
        "Nota1: El parámetro bins establece el número de \"barras\" que tendrá el histograma. Cuanto mayor sea mayor nivel de detalle sobre la distribución, aunque debemos tener cuidado de que cada bin contega una cantidad suficiente de observaciones. El tamaño de la muestra que estemos usando limita por lo tanto el número de bins que podemos usar.\n",
        "\n",
        "Nota2: La función range(a,b,p) genera una lista de números del valor a al b dando pasos de tamaño p. La usaremos para fijar el tamaño de nuestro eje x, es imprescindible (si no se desea que la función lo asigne automáticamente) que adaptemos estos valores a la variable que estemos representando."
      ]
    },
    {
      "cell_type": "code",
      "metadata": {
        "_cell_guid": "b2ed1983-50d5-405c-8bad-c61a087758f5",
        "_uuid": "dff9fcc871c21b4949d0082f3609151bb6f3e726",
        "id": "7WfBjaR8UtmP",
        "colab_type": "code",
        "outputId": "4de7dba9-0e47-44bb-b07c-1cd46ec5cef7",
        "colab": {
          "base_uri": "https://localhost:8080/",
          "height": 496
        }
      },
      "source": [
        "f,ax=plt.subplots(1,2,figsize=(10,8))\n",
        "\n",
        "data[data['Survived']==0].Age.plot.hist(ax=ax[0],bins=20,edgecolor='black',color='red')\n",
        "ax[0].set_title('Survived= 0')\n",
        "x1=list(range(0,85,5))\n",
        "ax[0].set_xticks(x1)\n",
        "\n",
        "data[data['Survived']==1].Age.plot.hist(ax=ax[1],color='green',bins=20,edgecolor='black')\n",
        "ax[1].set_title('Survived= 1')\n",
        "x2=list(range(0,85,5))\n",
        "ax[1].set_xticks(x2)\n",
        "\n",
        "plt.show()"
      ],
      "execution_count": 0,
      "outputs": [
        {
          "output_type": "display_data",
          "data": {
            "image/png": "[encoded data removed]",
            "text/plain": [
              "<Figure size 720x576 with 2 Axes>"
            ]
          },
          "metadata": {
            "tags": []
          }
        }
      ]
    },
    {
      "cell_type": "markdown",
      "metadata": {
        "_cell_guid": "8be8b82f-8d91-471e-adc0-80dc6d3def0b",
        "_uuid": "a24b323daf19e8fd6cacc83f549523b49a0789e7",
        "id": "nums3HKBUtmU",
        "colab_type": "text"
      },
      "source": [
        "### Embarked"
      ]
    },
    {
      "cell_type": "markdown",
      "metadata": {
        "id": "WY5FoU2cnOdx",
        "colab_type": "text"
      },
      "source": [
        "Podemos ahora estudiar las diferencias en función del puerto de embarque:"
      ]
    },
    {
      "cell_type": "code",
      "metadata": {
        "_cell_guid": "ec30e8cc-471d-4616-be83-b01bd45d51a7",
        "_uuid": "0d9307f18fcc510c7615e73080f23ba6cb80c3ae",
        "id": "53VB62gJUtmV",
        "colab_type": "code",
        "outputId": "bbc530d3-344b-4532-ae88-5a046c9a6983",
        "colab": {
          "base_uri": "https://localhost:8080/",
          "height": 292
        }
      },
      "source": [
        "pd.crosstab([data.Embarked,data.Pclass],[data.Sex,data.Survived],margins=True).style.background_gradient(cmap='summer_r')"
      ],
      "execution_count": 0,
      "outputs": [
        {
          "output_type": "execute_result",
          "data": {
            "text/html": [
              "<style  type=\"text/css\" >\n",
              "    #T_6a77bbba_f67f_11e9_811a_0242ac1c0002row0_col0 {\n",
              "            background-color:  #fcfe66;\n",
              "            color:  #000000;\n",
              "        }    #T_6a77bbba_f67f_11e9_811a_0242ac1c0002row0_col1 {\n",
              "            background-color:  #d2e866;\n",
              "            color:  #000000;\n",
              "        }    #T_6a77bbba_f67f_11e9_811a_0242ac1c0002row0_col2 {\n",
              "            background-color:  #f2f866;\n",
              "            color:  #000000;\n",
              "        }    #T_6a77bbba_f67f_11e9_811a_0242ac1c0002row0_col3 {\n",
              "            background-color:  #d8ec66;\n",
              "            color:  #000000;\n",
              "        }    #T_6a77bbba_f67f_11e9_811a_0242ac1c0002row0_col4 {\n",
              "            background-color:  #e8f466;\n",
              "            color:  #000000;\n",
              "        }    #T_6a77bbba_f67f_11e9_811a_0242ac1c0002row1_col0 {\n",
              "            background-color:  #ffff66;\n",
              "            color:  #000000;\n",
              "        }    #T_6a77bbba_f67f_11e9_811a_0242ac1c0002row1_col1 {\n",
              "            background-color:  #f9fc66;\n",
              "            color:  #000000;\n",
              "        }    #T_6a77bbba_f67f_11e9_811a_0242ac1c0002row1_col2 {\n",
              "            background-color:  #fcfe66;\n",
              "            color:  #000000;\n",
              "        }    #T_6a77bbba_f67f_11e9_811a_0242ac1c0002row1_col3 {\n",
              "            background-color:  #fbfd66;\n",
              "            color:  #000000;\n",
              "        }    #T_6a77bbba_f67f_11e9_811a_0242ac1c0002row1_col4 {\n",
              "            background-color:  #fbfd66;\n",
              "            color:  #000000;\n",
              "        }    #T_6a77bbba_f67f_11e9_811a_0242ac1c0002row2_col0 {\n",
              "            background-color:  #e6f266;\n",
              "            color:  #000000;\n",
              "        }    #T_6a77bbba_f67f_11e9_811a_0242ac1c0002row2_col1 {\n",
              "            background-color:  #f0f866;\n",
              "            color:  #000000;\n",
              "        }    #T_6a77bbba_f67f_11e9_811a_0242ac1c0002row2_col2 {\n",
              "            background-color:  #eef666;\n",
              "            color:  #000000;\n",
              "        }    #T_6a77bbba_f67f_11e9_811a_0242ac1c0002row2_col3 {\n",
              "            background-color:  #e8f466;\n",
              "            color:  #000000;\n",
              "        }    #T_6a77bbba_f67f_11e9_811a_0242ac1c0002row2_col4 {\n",
              "            background-color:  #edf666;\n",
              "            color:  #000000;\n",
              "        }    #T_6a77bbba_f67f_11e9_811a_0242ac1c0002row3_col0 {\n",
              "            background-color:  #ffff66;\n",
              "            color:  #000000;\n",
              "        }    #T_6a77bbba_f67f_11e9_811a_0242ac1c0002row3_col1 {\n",
              "            background-color:  #ffff66;\n",
              "            color:  #000000;\n",
              "        }    #T_6a77bbba_f67f_11e9_811a_0242ac1c0002row3_col2 {\n",
              "            background-color:  #ffff66;\n",
              "            color:  #000000;\n",
              "        }    #T_6a77bbba_f67f_11e9_811a_0242ac1c0002row3_col3 {\n",
              "            background-color:  #ffff66;\n",
              "            color:  #000000;\n",
              "        }    #T_6a77bbba_f67f_11e9_811a_0242ac1c0002row3_col4 {\n",
              "            background-color:  #ffff66;\n",
              "            color:  #000000;\n",
              "        }    #T_6a77bbba_f67f_11e9_811a_0242ac1c0002row4_col0 {\n",
              "            background-color:  #ffff66;\n",
              "            color:  #000000;\n",
              "        }    #T_6a77bbba_f67f_11e9_811a_0242ac1c0002row4_col1 {\n",
              "            background-color:  #fefe66;\n",
              "            color:  #000000;\n",
              "        }    #T_6a77bbba_f67f_11e9_811a_0242ac1c0002row4_col2 {\n",
              "            background-color:  #ffff66;\n",
              "            color:  #000000;\n",
              "        }    #T_6a77bbba_f67f_11e9_811a_0242ac1c0002row4_col3 {\n",
              "            background-color:  #ffff66;\n",
              "            color:  #000000;\n",
              "        }    #T_6a77bbba_f67f_11e9_811a_0242ac1c0002row4_col4 {\n",
              "            background-color:  #ffff66;\n",
              "            color:  #000000;\n",
              "        }    #T_6a77bbba_f67f_11e9_811a_0242ac1c0002row5_col0 {\n",
              "            background-color:  #e3f166;\n",
              "            color:  #000000;\n",
              "        }    #T_6a77bbba_f67f_11e9_811a_0242ac1c0002row5_col1 {\n",
              "            background-color:  #e6f266;\n",
              "            color:  #000000;\n",
              "        }    #T_6a77bbba_f67f_11e9_811a_0242ac1c0002row5_col2 {\n",
              "            background-color:  #ecf666;\n",
              "            color:  #000000;\n",
              "        }    #T_6a77bbba_f67f_11e9_811a_0242ac1c0002row5_col3 {\n",
              "            background-color:  #f8fc66;\n",
              "            color:  #000000;\n",
              "        }    #T_6a77bbba_f67f_11e9_811a_0242ac1c0002row5_col4 {\n",
              "            background-color:  #ebf566;\n",
              "            color:  #000000;\n",
              "        }    #T_6a77bbba_f67f_11e9_811a_0242ac1c0002row6_col0 {\n",
              "            background-color:  #f9fc66;\n",
              "            color:  #000000;\n",
              "        }    #T_6a77bbba_f67f_11e9_811a_0242ac1c0002row6_col1 {\n",
              "            background-color:  #cde666;\n",
              "            color:  #000000;\n",
              "        }    #T_6a77bbba_f67f_11e9_811a_0242ac1c0002row6_col2 {\n",
              "            background-color:  #e4f266;\n",
              "            color:  #000000;\n",
              "        }    #T_6a77bbba_f67f_11e9_811a_0242ac1c0002row6_col3 {\n",
              "            background-color:  #bede66;\n",
              "            color:  #000000;\n",
              "        }    #T_6a77bbba_f67f_11e9_811a_0242ac1c0002row6_col4 {\n",
              "            background-color:  #dbed66;\n",
              "            color:  #000000;\n",
              "        }    #T_6a77bbba_f67f_11e9_811a_0242ac1c0002row7_col0 {\n",
              "            background-color:  #edf666;\n",
              "            color:  #000000;\n",
              "        }    #T_6a77bbba_f67f_11e9_811a_0242ac1c0002row7_col1 {\n",
              "            background-color:  #bdde66;\n",
              "            color:  #000000;\n",
              "        }    #T_6a77bbba_f67f_11e9_811a_0242ac1c0002row7_col2 {\n",
              "            background-color:  #d3e966;\n",
              "            color:  #000000;\n",
              "        }    #T_6a77bbba_f67f_11e9_811a_0242ac1c0002row7_col3 {\n",
              "            background-color:  #dcee66;\n",
              "            color:  #000000;\n",
              "        }    #T_6a77bbba_f67f_11e9_811a_0242ac1c0002row7_col4 {\n",
              "            background-color:  #d1e866;\n",
              "            color:  #000000;\n",
              "        }    #T_6a77bbba_f67f_11e9_811a_0242ac1c0002row8_col0 {\n",
              "            background-color:  #52a866;\n",
              "            color:  #000000;\n",
              "        }    #T_6a77bbba_f67f_11e9_811a_0242ac1c0002row8_col1 {\n",
              "            background-color:  #dcee66;\n",
              "            color:  #000000;\n",
              "        }    #T_6a77bbba_f67f_11e9_811a_0242ac1c0002row8_col2 {\n",
              "            background-color:  #81c066;\n",
              "            color:  #000000;\n",
              "        }    #T_6a77bbba_f67f_11e9_811a_0242ac1c0002row8_col3 {\n",
              "            background-color:  #b0d866;\n",
              "            color:  #000000;\n",
              "        }    #T_6a77bbba_f67f_11e9_811a_0242ac1c0002row8_col4 {\n",
              "            background-color:  #9acc66;\n",
              "            color:  #000000;\n",
              "        }    #T_6a77bbba_f67f_11e9_811a_0242ac1c0002row9_col0 {\n",
              "            background-color:  #008066;\n",
              "            color:  #f1f1f1;\n",
              "        }    #T_6a77bbba_f67f_11e9_811a_0242ac1c0002row9_col1 {\n",
              "            background-color:  #008066;\n",
              "            color:  #f1f1f1;\n",
              "        }    #T_6a77bbba_f67f_11e9_811a_0242ac1c0002row9_col2 {\n",
              "            background-color:  #008066;\n",
              "            color:  #f1f1f1;\n",
              "        }    #T_6a77bbba_f67f_11e9_811a_0242ac1c0002row9_col3 {\n",
              "            background-color:  #008066;\n",
              "            color:  #f1f1f1;\n",
              "        }    #T_6a77bbba_f67f_11e9_811a_0242ac1c0002row9_col4 {\n",
              "            background-color:  #008066;\n",
              "            color:  #f1f1f1;\n",
              "        }</style><table id=\"T_6a77bbba_f67f_11e9_811a_0242ac1c0002\" ><thead>    <tr>        <th class=\"blank\" ></th>        <th class=\"index_name level0\" >Sex</th>        <th class=\"col_heading level0 col0\" colspan=2>female</th>        <th class=\"col_heading level0 col2\" colspan=2>male</th>        <th class=\"col_heading level0 col4\" >All</th>    </tr>    <tr>        <th class=\"blank\" ></th>        <th class=\"index_name level1\" >Survived</th>        <th class=\"col_heading level1 col0\" >0</th>        <th class=\"col_heading level1 col1\" >1</th>        <th class=\"col_heading level1 col2\" >0</th>        <th class=\"col_heading level1 col3\" >1</th>        <th class=\"col_heading level1 col4\" ></th>    </tr>    <tr>        <th class=\"index_name level0\" >Embarked</th>        <th class=\"index_name level1\" >Pclass</th>        <th class=\"blank\" ></th>        <th class=\"blank\" ></th>        <th class=\"blank\" ></th>        <th class=\"blank\" ></th>        <th class=\"blank\" ></th>    </tr></thead><tbody>\n",
              "                <tr>\n",
              "                        <th id=\"T_6a77bbba_f67f_11e9_811a_0242ac1c0002level0_row0\" class=\"row_heading level0 row0\" rowspan=3>C</th>\n",
              "                        <th id=\"T_6a77bbba_f67f_11e9_811a_0242ac1c0002level1_row0\" class=\"row_heading level1 row0\" >1</th>\n",
              "                        <td id=\"T_6a77bbba_f67f_11e9_811a_0242ac1c0002row0_col0\" class=\"data row0 col0\" >1</td>\n",
              "                        <td id=\"T_6a77bbba_f67f_11e9_811a_0242ac1c0002row0_col1\" class=\"data row0 col1\" >42</td>\n",
              "                        <td id=\"T_6a77bbba_f67f_11e9_811a_0242ac1c0002row0_col2\" class=\"data row0 col2\" >25</td>\n",
              "                        <td id=\"T_6a77bbba_f67f_11e9_811a_0242ac1c0002row0_col3\" class=\"data row0 col3\" >17</td>\n",
              "                        <td id=\"T_6a77bbba_f67f_11e9_811a_0242ac1c0002row0_col4\" class=\"data row0 col4\" >85</td>\n",
              "            </tr>\n",
              "            <tr>\n",
              "                                <th id=\"T_6a77bbba_f67f_11e9_811a_0242ac1c0002level1_row1\" class=\"row_heading level1 row1\" >2</th>\n",
              "                        <td id=\"T_6a77bbba_f67f_11e9_811a_0242ac1c0002row1_col0\" class=\"data row1 col0\" >0</td>\n",
              "                        <td id=\"T_6a77bbba_f67f_11e9_811a_0242ac1c0002row1_col1\" class=\"data row1 col1\" >7</td>\n",
              "                        <td id=\"T_6a77bbba_f67f_11e9_811a_0242ac1c0002row1_col2\" class=\"data row1 col2\" >8</td>\n",
              "                        <td id=\"T_6a77bbba_f67f_11e9_811a_0242ac1c0002row1_col3\" class=\"data row1 col3\" >2</td>\n",
              "                        <td id=\"T_6a77bbba_f67f_11e9_811a_0242ac1c0002row1_col4\" class=\"data row1 col4\" >17</td>\n",
              "            </tr>\n",
              "            <tr>\n",
              "                                <th id=\"T_6a77bbba_f67f_11e9_811a_0242ac1c0002level1_row2\" class=\"row_heading level1 row2\" >3</th>\n",
              "                        <td id=\"T_6a77bbba_f67f_11e9_811a_0242ac1c0002row2_col0\" class=\"data row2 col0\" >8</td>\n",
              "                        <td id=\"T_6a77bbba_f67f_11e9_811a_0242ac1c0002row2_col1\" class=\"data row2 col1\" >15</td>\n",
              "                        <td id=\"T_6a77bbba_f67f_11e9_811a_0242ac1c0002row2_col2\" class=\"data row2 col2\" >33</td>\n",
              "                        <td id=\"T_6a77bbba_f67f_11e9_811a_0242ac1c0002row2_col3\" class=\"data row2 col3\" >10</td>\n",
              "                        <td id=\"T_6a77bbba_f67f_11e9_811a_0242ac1c0002row2_col4\" class=\"data row2 col4\" >66</td>\n",
              "            </tr>\n",
              "            <tr>\n",
              "                        <th id=\"T_6a77bbba_f67f_11e9_811a_0242ac1c0002level0_row3\" class=\"row_heading level0 row3\" rowspan=3>Q</th>\n",
              "                        <th id=\"T_6a77bbba_f67f_11e9_811a_0242ac1c0002level1_row3\" class=\"row_heading level1 row3\" >1</th>\n",
              "                        <td id=\"T_6a77bbba_f67f_11e9_811a_0242ac1c0002row3_col0\" class=\"data row3 col0\" >0</td>\n",
              "                        <td id=\"T_6a77bbba_f67f_11e9_811a_0242ac1c0002row3_col1\" class=\"data row3 col1\" >1</td>\n",
              "                        <td id=\"T_6a77bbba_f67f_11e9_811a_0242ac1c0002row3_col2\" class=\"data row3 col2\" >1</td>\n",
              "                        <td id=\"T_6a77bbba_f67f_11e9_811a_0242ac1c0002row3_col3\" class=\"data row3 col3\" >0</td>\n",
              "                        <td id=\"T_6a77bbba_f67f_11e9_811a_0242ac1c0002row3_col4\" class=\"data row3 col4\" >2</td>\n",
              "            </tr>\n",
              "            <tr>\n",
              "                                <th id=\"T_6a77bbba_f67f_11e9_811a_0242ac1c0002level1_row4\" class=\"row_heading level1 row4\" >2</th>\n",
              "                        <td id=\"T_6a77bbba_f67f_11e9_811a_0242ac1c0002row4_col0\" class=\"data row4 col0\" >0</td>\n",
              "                        <td id=\"T_6a77bbba_f67f_11e9_811a_0242ac1c0002row4_col1\" class=\"data row4 col1\" >2</td>\n",
              "                        <td id=\"T_6a77bbba_f67f_11e9_811a_0242ac1c0002row4_col2\" class=\"data row4 col2\" >1</td>\n",
              "                        <td id=\"T_6a77bbba_f67f_11e9_811a_0242ac1c0002row4_col3\" class=\"data row4 col3\" >0</td>\n",
              "                        <td id=\"T_6a77bbba_f67f_11e9_811a_0242ac1c0002row4_col4\" class=\"data row4 col4\" >3</td>\n",
              "            </tr>\n",
              "            <tr>\n",
              "                                <th id=\"T_6a77bbba_f67f_11e9_811a_0242ac1c0002level1_row5\" class=\"row_heading level1 row5\" >3</th>\n",
              "                        <td id=\"T_6a77bbba_f67f_11e9_811a_0242ac1c0002row5_col0\" class=\"data row5 col0\" >9</td>\n",
              "                        <td id=\"T_6a77bbba_f67f_11e9_811a_0242ac1c0002row5_col1\" class=\"data row5 col1\" >24</td>\n",
              "                        <td id=\"T_6a77bbba_f67f_11e9_811a_0242ac1c0002row5_col2\" class=\"data row5 col2\" >36</td>\n",
              "                        <td id=\"T_6a77bbba_f67f_11e9_811a_0242ac1c0002row5_col3\" class=\"data row5 col3\" >3</td>\n",
              "                        <td id=\"T_6a77bbba_f67f_11e9_811a_0242ac1c0002row5_col4\" class=\"data row5 col4\" >72</td>\n",
              "            </tr>\n",
              "            <tr>\n",
              "                        <th id=\"T_6a77bbba_f67f_11e9_811a_0242ac1c0002level0_row6\" class=\"row_heading level0 row6\" rowspan=3>S</th>\n",
              "                        <th id=\"T_6a77bbba_f67f_11e9_811a_0242ac1c0002level1_row6\" class=\"row_heading level1 row6\" >1</th>\n",
              "                        <td id=\"T_6a77bbba_f67f_11e9_811a_0242ac1c0002row6_col0\" class=\"data row6 col0\" >2</td>\n",
              "                        <td id=\"T_6a77bbba_f67f_11e9_811a_0242ac1c0002row6_col1\" class=\"data row6 col1\" >46</td>\n",
              "                        <td id=\"T_6a77bbba_f67f_11e9_811a_0242ac1c0002row6_col2\" class=\"data row6 col2\" >51</td>\n",
              "                        <td id=\"T_6a77bbba_f67f_11e9_811a_0242ac1c0002row6_col3\" class=\"data row6 col3\" >28</td>\n",
              "                        <td id=\"T_6a77bbba_f67f_11e9_811a_0242ac1c0002row6_col4\" class=\"data row6 col4\" >127</td>\n",
              "            </tr>\n",
              "            <tr>\n",
              "                                <th id=\"T_6a77bbba_f67f_11e9_811a_0242ac1c0002level1_row7\" class=\"row_heading level1 row7\" >2</th>\n",
              "                        <td id=\"T_6a77bbba_f67f_11e9_811a_0242ac1c0002row7_col0\" class=\"data row7 col0\" >6</td>\n",
              "                        <td id=\"T_6a77bbba_f67f_11e9_811a_0242ac1c0002row7_col1\" class=\"data row7 col1\" >61</td>\n",
              "                        <td id=\"T_6a77bbba_f67f_11e9_811a_0242ac1c0002row7_col2\" class=\"data row7 col2\" >82</td>\n",
              "                        <td id=\"T_6a77bbba_f67f_11e9_811a_0242ac1c0002row7_col3\" class=\"data row7 col3\" >15</td>\n",
              "                        <td id=\"T_6a77bbba_f67f_11e9_811a_0242ac1c0002row7_col4\" class=\"data row7 col4\" >164</td>\n",
              "            </tr>\n",
              "            <tr>\n",
              "                                <th id=\"T_6a77bbba_f67f_11e9_811a_0242ac1c0002level1_row8\" class=\"row_heading level1 row8\" >3</th>\n",
              "                        <td id=\"T_6a77bbba_f67f_11e9_811a_0242ac1c0002row8_col0\" class=\"data row8 col0\" >55</td>\n",
              "                        <td id=\"T_6a77bbba_f67f_11e9_811a_0242ac1c0002row8_col1\" class=\"data row8 col1\" >33</td>\n",
              "                        <td id=\"T_6a77bbba_f67f_11e9_811a_0242ac1c0002row8_col2\" class=\"data row8 col2\" >231</td>\n",
              "                        <td id=\"T_6a77bbba_f67f_11e9_811a_0242ac1c0002row8_col3\" class=\"data row8 col3\" >34</td>\n",
              "                        <td id=\"T_6a77bbba_f67f_11e9_811a_0242ac1c0002row8_col4\" class=\"data row8 col4\" >353</td>\n",
              "            </tr>\n",
              "            <tr>\n",
              "                        <th id=\"T_6a77bbba_f67f_11e9_811a_0242ac1c0002level0_row9\" class=\"row_heading level0 row9\" >All</th>\n",
              "                        <th id=\"T_6a77bbba_f67f_11e9_811a_0242ac1c0002level1_row9\" class=\"row_heading level1 row9\" ></th>\n",
              "                        <td id=\"T_6a77bbba_f67f_11e9_811a_0242ac1c0002row9_col0\" class=\"data row9 col0\" >81</td>\n",
              "                        <td id=\"T_6a77bbba_f67f_11e9_811a_0242ac1c0002row9_col1\" class=\"data row9 col1\" >231</td>\n",
              "                        <td id=\"T_6a77bbba_f67f_11e9_811a_0242ac1c0002row9_col2\" class=\"data row9 col2\" >468</td>\n",
              "                        <td id=\"T_6a77bbba_f67f_11e9_811a_0242ac1c0002row9_col3\" class=\"data row9 col3\" >109</td>\n",
              "                        <td id=\"T_6a77bbba_f67f_11e9_811a_0242ac1c0002row9_col4\" class=\"data row9 col4\" >889</td>\n",
              "            </tr>\n",
              "    </tbody></table>"
            ],
            "text/plain": [
              "<pandas.io.formats.style.Styler at 0x7f025881f940>"
            ]
          },
          "metadata": {
            "tags": []
          },
          "execution_count": 37
        }
      ]
    },
    {
      "cell_type": "markdown",
      "metadata": {
        "id": "zBYeQUfunnwk",
        "colab_type": "text"
      },
      "source": [
        "Y estudiar su combinación con otras variables como género, clase o la variables objetivo (Survived):\n",
        "\n",
        "Nota: En este caso usaremos un subplot de tamaño 2x2 (plt.subplots(**2,2**,figsize=(10,8))), la única diferencia con los ejemplo anteriores es que utilizaremos dos coordenadas al asignar ax (por ejemplo, ax=ax[**0,1**])"
      ]
    },
    {
      "cell_type": "code",
      "metadata": {
        "_cell_guid": "51ff68c3-ffa2-4ac7-95ee-04ecb7d9da64",
        "_uuid": "dfcab3effc1ebf8653e3a4b61149b44fc146fdfb",
        "id": "AcmMg-qrUtme",
        "colab_type": "code",
        "outputId": "127f8e55-6f65-4331-a049-8065a9604b56",
        "colab": {
          "base_uri": "https://localhost:8080/",
          "height": 513
        }
      },
      "source": [
        "f,ax=plt.subplots(2,2,figsize=(10,8))\n",
        "\n",
        "sns.countplot('Embarked',data=data,ax=ax[0,0])\n",
        "ax[0,0].set_title('No. Of Passengers Boarded')\n",
        "\n",
        "sns.countplot('Embarked',hue='Sex',data=data,ax=ax[0,1])\n",
        "ax[0,1].set_title('Male-Female Split for Embarked')\n",
        "\n",
        "sns.countplot('Embarked',hue='Survived',data=data,ax=ax[1,0])\n",
        "ax[1,0].set_title('Embarked vs Survived')\n",
        "\n",
        "sns.countplot('Embarked',hue='Pclass',data=data,ax=ax[1,1])\n",
        "ax[1,1].set_title('Embarked vs Pclass')\n",
        "\n",
        "plt.subplots_adjust(wspace=0.2,hspace=0.5)\n",
        "plt.show()"
      ],
      "execution_count": 0,
      "outputs": [
        {
          "output_type": "display_data",
          "data": {
            "image/png": "[encoded data removed]",
            "text/plain": [
              "<Figure size 720x576 with 4 Axes>"
            ]
          },
          "metadata": {
            "tags": []
          }
        }
      ]
    },
    {
      "cell_type": "markdown",
      "metadata": {
        "id": "VPtDqCGooqB1",
        "colab_type": "text"
      },
      "source": [
        "De nuevo un ejemplo de factorplot teniendo en cuenta el puerto de embarque:"
      ]
    },
    {
      "cell_type": "code",
      "metadata": {
        "_cell_guid": "566e32f9-eaa9-44b1-b904-b71f242f7c6e",
        "_uuid": "2546b1329d2f46bbfdc4b6ac3728747c436ee3f1",
        "id": "7BXY9gJzUtmh",
        "colab_type": "code",
        "outputId": "8ea40472-99fe-4b1d-ed73-20aa63e611c5",
        "colab": {
          "base_uri": "https://localhost:8080/",
          "height": 389
        }
      },
      "source": [
        "sns.factorplot('Pclass','Survived',hue='Sex',col='Embarked',data=data)\n",
        "plt.show()"
      ],
      "execution_count": 0,
      "outputs": [
        {
          "output_type": "display_data",
          "data": {
            "image/png": "[encoded data removed]",
            "text/plain": [
              "<Figure size 1150.5x360 with 3 Axes>"
            ]
          },
          "metadata": {
            "tags": []
          }
        }
      ]
    },
    {
      "cell_type": "markdown",
      "metadata": {
        "_cell_guid": "05194e42-445e-41a5-9124-e4ec29d1ac2a",
        "_uuid": "838c230d6e4027c9f87b702ffd5805284c74ca4d",
        "collapsed": true,
        "id": "dVlhZnBjUtmn",
        "colab_type": "text"
      },
      "source": [
        "### SibSip"
      ]
    },
    {
      "cell_type": "markdown",
      "metadata": {
        "id": "cVCYyAZko7_g",
        "colab_type": "text"
      },
      "source": [
        "Estudiemos también otras variables como SibSip (SibSip = Number of Siblings/Spouses Aboard):"
      ]
    },
    {
      "cell_type": "code",
      "metadata": {
        "_cell_guid": "ae7b6019-3162-400f-9746-8d8239049751",
        "_uuid": "56069ce478b75673fab78145fb6a6741cad28d76",
        "id": "j5OHOMocUtmn",
        "colab_type": "code",
        "outputId": "8b252d74-f649-48a5-ebe9-79aad822bd8a",
        "colab": {
          "base_uri": "https://localhost:8080/",
          "height": 208
        }
      },
      "source": [
        "pd.crosstab([data.SibSp],data.Survived).style.background_gradient(cmap='summer_r')"
      ],
      "execution_count": 0,
      "outputs": [
        {
          "output_type": "execute_result",
          "data": {
            "text/html": [
              "<style  type=\"text/css\" >\n",
              "    #T_87d2633a_f5d6_11e9_b5f2_0242ac1c0002row0_col0 {\n",
              "            background-color:  #008066;\n",
              "            color:  #f1f1f1;\n",
              "        }    #T_87d2633a_f5d6_11e9_b5f2_0242ac1c0002row0_col1 {\n",
              "            background-color:  #008066;\n",
              "            color:  #f1f1f1;\n",
              "        }    #T_87d2633a_f5d6_11e9_b5f2_0242ac1c0002row1_col0 {\n",
              "            background-color:  #c4e266;\n",
              "            color:  #000000;\n",
              "        }    #T_87d2633a_f5d6_11e9_b5f2_0242ac1c0002row1_col1 {\n",
              "            background-color:  #77bb66;\n",
              "            color:  #000000;\n",
              "        }    #T_87d2633a_f5d6_11e9_b5f2_0242ac1c0002row2_col0 {\n",
              "            background-color:  #f9fc66;\n",
              "            color:  #000000;\n",
              "        }    #T_87d2633a_f5d6_11e9_b5f2_0242ac1c0002row2_col1 {\n",
              "            background-color:  #f0f866;\n",
              "            color:  #000000;\n",
              "        }    #T_87d2633a_f5d6_11e9_b5f2_0242ac1c0002row3_col0 {\n",
              "            background-color:  #fbfd66;\n",
              "            color:  #000000;\n",
              "        }    #T_87d2633a_f5d6_11e9_b5f2_0242ac1c0002row3_col1 {\n",
              "            background-color:  #fbfd66;\n",
              "            color:  #000000;\n",
              "        }    #T_87d2633a_f5d6_11e9_b5f2_0242ac1c0002row4_col0 {\n",
              "            background-color:  #f9fc66;\n",
              "            color:  #000000;\n",
              "        }    #T_87d2633a_f5d6_11e9_b5f2_0242ac1c0002row4_col1 {\n",
              "            background-color:  #fcfe66;\n",
              "            color:  #000000;\n",
              "        }    #T_87d2633a_f5d6_11e9_b5f2_0242ac1c0002row5_col0 {\n",
              "            background-color:  #ffff66;\n",
              "            color:  #000000;\n",
              "        }    #T_87d2633a_f5d6_11e9_b5f2_0242ac1c0002row5_col1 {\n",
              "            background-color:  #ffff66;\n",
              "            color:  #000000;\n",
              "        }    #T_87d2633a_f5d6_11e9_b5f2_0242ac1c0002row6_col0 {\n",
              "            background-color:  #fefe66;\n",
              "            color:  #000000;\n",
              "        }    #T_87d2633a_f5d6_11e9_b5f2_0242ac1c0002row6_col1 {\n",
              "            background-color:  #ffff66;\n",
              "            color:  #000000;\n",
              "        }</style><table id=\"T_87d2633a_f5d6_11e9_b5f2_0242ac1c0002\" ><thead>    <tr>        <th class=\"index_name level0\" >Survived</th>        <th class=\"col_heading level0 col0\" >0</th>        <th class=\"col_heading level0 col1\" >1</th>    </tr>    <tr>        <th class=\"index_name level0\" >SibSp</th>        <th class=\"blank\" ></th>        <th class=\"blank\" ></th>    </tr></thead><tbody>\n",
              "                <tr>\n",
              "                        <th id=\"T_87d2633a_f5d6_11e9_b5f2_0242ac1c0002level0_row0\" class=\"row_heading level0 row0\" >0</th>\n",
              "                        <td id=\"T_87d2633a_f5d6_11e9_b5f2_0242ac1c0002row0_col0\" class=\"data row0 col0\" >398</td>\n",
              "                        <td id=\"T_87d2633a_f5d6_11e9_b5f2_0242ac1c0002row0_col1\" class=\"data row0 col1\" >210</td>\n",
              "            </tr>\n",
              "            <tr>\n",
              "                        <th id=\"T_87d2633a_f5d6_11e9_b5f2_0242ac1c0002level0_row1\" class=\"row_heading level0 row1\" >1</th>\n",
              "                        <td id=\"T_87d2633a_f5d6_11e9_b5f2_0242ac1c0002row1_col0\" class=\"data row1 col0\" >97</td>\n",
              "                        <td id=\"T_87d2633a_f5d6_11e9_b5f2_0242ac1c0002row1_col1\" class=\"data row1 col1\" >112</td>\n",
              "            </tr>\n",
              "            <tr>\n",
              "                        <th id=\"T_87d2633a_f5d6_11e9_b5f2_0242ac1c0002level0_row2\" class=\"row_heading level0 row2\" >2</th>\n",
              "                        <td id=\"T_87d2633a_f5d6_11e9_b5f2_0242ac1c0002row2_col0\" class=\"data row2 col0\" >15</td>\n",
              "                        <td id=\"T_87d2633a_f5d6_11e9_b5f2_0242ac1c0002row2_col1\" class=\"data row2 col1\" >13</td>\n",
              "            </tr>\n",
              "            <tr>\n",
              "                        <th id=\"T_87d2633a_f5d6_11e9_b5f2_0242ac1c0002level0_row3\" class=\"row_heading level0 row3\" >3</th>\n",
              "                        <td id=\"T_87d2633a_f5d6_11e9_b5f2_0242ac1c0002row3_col0\" class=\"data row3 col0\" >12</td>\n",
              "                        <td id=\"T_87d2633a_f5d6_11e9_b5f2_0242ac1c0002row3_col1\" class=\"data row3 col1\" >4</td>\n",
              "            </tr>\n",
              "            <tr>\n",
              "                        <th id=\"T_87d2633a_f5d6_11e9_b5f2_0242ac1c0002level0_row4\" class=\"row_heading level0 row4\" >4</th>\n",
              "                        <td id=\"T_87d2633a_f5d6_11e9_b5f2_0242ac1c0002row4_col0\" class=\"data row4 col0\" >15</td>\n",
              "                        <td id=\"T_87d2633a_f5d6_11e9_b5f2_0242ac1c0002row4_col1\" class=\"data row4 col1\" >3</td>\n",
              "            </tr>\n",
              "            <tr>\n",
              "                        <th id=\"T_87d2633a_f5d6_11e9_b5f2_0242ac1c0002level0_row5\" class=\"row_heading level0 row5\" >5</th>\n",
              "                        <td id=\"T_87d2633a_f5d6_11e9_b5f2_0242ac1c0002row5_col0\" class=\"data row5 col0\" >5</td>\n",
              "                        <td id=\"T_87d2633a_f5d6_11e9_b5f2_0242ac1c0002row5_col1\" class=\"data row5 col1\" >0</td>\n",
              "            </tr>\n",
              "            <tr>\n",
              "                        <th id=\"T_87d2633a_f5d6_11e9_b5f2_0242ac1c0002level0_row6\" class=\"row_heading level0 row6\" >8</th>\n",
              "                        <td id=\"T_87d2633a_f5d6_11e9_b5f2_0242ac1c0002row6_col0\" class=\"data row6 col0\" >7</td>\n",
              "                        <td id=\"T_87d2633a_f5d6_11e9_b5f2_0242ac1c0002row6_col1\" class=\"data row6 col1\" >0</td>\n",
              "            </tr>\n",
              "    </tbody></table>"
            ],
            "text/plain": [
              "<pandas.io.formats.style.Styler at 0x7f4aee24ea20>"
            ]
          },
          "metadata": {
            "tags": []
          },
          "execution_count": 27
        }
      ]
    },
    {
      "cell_type": "code",
      "metadata": {
        "_cell_guid": "c0ce45f8-0b08-4631-ade7-b3ddd3978414",
        "_uuid": "fcdc00224417620a8805e0e5d0b6e83c81119981",
        "id": "QS8bNkuzUtmr",
        "colab_type": "code",
        "outputId": "6edff4cf-ad9f-4d63-c47b-63faa45f061e",
        "colab": {
          "base_uri": "https://localhost:8080/",
          "height": 208
        }
      },
      "source": [
        "pd.crosstab(data.SibSp,data.Pclass).style.background_gradient(cmap='summer_r')"
      ],
      "execution_count": 0,
      "outputs": [
        {
          "output_type": "execute_result",
          "data": {
            "text/html": [
              "<style  type=\"text/css\" >\n",
              "    #T_2f344f86_ed98_11e9_ade8_0242ac1c0002row0_col0 {\n",
              "            background-color:  #008066;\n",
              "            color:  #f1f1f1;\n",
              "        }    #T_2f344f86_ed98_11e9_ade8_0242ac1c0002row0_col1 {\n",
              "            background-color:  #008066;\n",
              "            color:  #f1f1f1;\n",
              "        }    #T_2f344f86_ed98_11e9_ade8_0242ac1c0002row0_col2 {\n",
              "            background-color:  #008066;\n",
              "            color:  #f1f1f1;\n",
              "        }    #T_2f344f86_ed98_11e9_ade8_0242ac1c0002row1_col0 {\n",
              "            background-color:  #7bbd66;\n",
              "            color:  #000000;\n",
              "        }    #T_2f344f86_ed98_11e9_ade8_0242ac1c0002row1_col1 {\n",
              "            background-color:  #8ac466;\n",
              "            color:  #000000;\n",
              "        }    #T_2f344f86_ed98_11e9_ade8_0242ac1c0002row1_col2 {\n",
              "            background-color:  #c6e266;\n",
              "            color:  #000000;\n",
              "        }    #T_2f344f86_ed98_11e9_ade8_0242ac1c0002row2_col0 {\n",
              "            background-color:  #f6fa66;\n",
              "            color:  #000000;\n",
              "        }    #T_2f344f86_ed98_11e9_ade8_0242ac1c0002row2_col1 {\n",
              "            background-color:  #eef666;\n",
              "            color:  #000000;\n",
              "        }    #T_2f344f86_ed98_11e9_ade8_0242ac1c0002row2_col2 {\n",
              "            background-color:  #f8fc66;\n",
              "            color:  #000000;\n",
              "        }    #T_2f344f86_ed98_11e9_ade8_0242ac1c0002row3_col0 {\n",
              "            background-color:  #fafc66;\n",
              "            color:  #000000;\n",
              "        }    #T_2f344f86_ed98_11e9_ade8_0242ac1c0002row3_col1 {\n",
              "            background-color:  #fdfe66;\n",
              "            color:  #000000;\n",
              "        }    #T_2f344f86_ed98_11e9_ade8_0242ac1c0002row3_col2 {\n",
              "            background-color:  #fafc66;\n",
              "            color:  #000000;\n",
              "        }    #T_2f344f86_ed98_11e9_ade8_0242ac1c0002row4_col0 {\n",
              "            background-color:  #ffff66;\n",
              "            color:  #000000;\n",
              "        }    #T_2f344f86_ed98_11e9_ade8_0242ac1c0002row4_col1 {\n",
              "            background-color:  #ffff66;\n",
              "            color:  #000000;\n",
              "        }    #T_2f344f86_ed98_11e9_ade8_0242ac1c0002row4_col2 {\n",
              "            background-color:  #f6fa66;\n",
              "            color:  #000000;\n",
              "        }    #T_2f344f86_ed98_11e9_ade8_0242ac1c0002row5_col0 {\n",
              "            background-color:  #ffff66;\n",
              "            color:  #000000;\n",
              "        }    #T_2f344f86_ed98_11e9_ade8_0242ac1c0002row5_col1 {\n",
              "            background-color:  #ffff66;\n",
              "            color:  #000000;\n",
              "        }    #T_2f344f86_ed98_11e9_ade8_0242ac1c0002row5_col2 {\n",
              "            background-color:  #ffff66;\n",
              "            color:  #000000;\n",
              "        }    #T_2f344f86_ed98_11e9_ade8_0242ac1c0002row6_col0 {\n",
              "            background-color:  #ffff66;\n",
              "            color:  #000000;\n",
              "        }    #T_2f344f86_ed98_11e9_ade8_0242ac1c0002row6_col1 {\n",
              "            background-color:  #ffff66;\n",
              "            color:  #000000;\n",
              "        }    #T_2f344f86_ed98_11e9_ade8_0242ac1c0002row6_col2 {\n",
              "            background-color:  #fefe66;\n",
              "            color:  #000000;\n",
              "        }</style><table id=\"T_2f344f86_ed98_11e9_ade8_0242ac1c0002\" ><thead>    <tr>        <th class=\"index_name level0\" >Pclass</th>        <th class=\"col_heading level0 col0\" >1</th>        <th class=\"col_heading level0 col1\" >2</th>        <th class=\"col_heading level0 col2\" >3</th>    </tr>    <tr>        <th class=\"index_name level0\" >SibSp</th>        <th class=\"blank\" ></th>        <th class=\"blank\" ></th>        <th class=\"blank\" ></th>    </tr></thead><tbody>\n",
              "                <tr>\n",
              "                        <th id=\"T_2f344f86_ed98_11e9_ade8_0242ac1c0002level0_row0\" class=\"row_heading level0 row0\" >0</th>\n",
              "                        <td id=\"T_2f344f86_ed98_11e9_ade8_0242ac1c0002row0_col0\" class=\"data row0 col0\" >137</td>\n",
              "                        <td id=\"T_2f344f86_ed98_11e9_ade8_0242ac1c0002row0_col1\" class=\"data row0 col1\" >120</td>\n",
              "                        <td id=\"T_2f344f86_ed98_11e9_ade8_0242ac1c0002row0_col2\" class=\"data row0 col2\" >351</td>\n",
              "            </tr>\n",
              "            <tr>\n",
              "                        <th id=\"T_2f344f86_ed98_11e9_ade8_0242ac1c0002level0_row1\" class=\"row_heading level0 row1\" >1</th>\n",
              "                        <td id=\"T_2f344f86_ed98_11e9_ade8_0242ac1c0002row1_col0\" class=\"data row1 col0\" >71</td>\n",
              "                        <td id=\"T_2f344f86_ed98_11e9_ade8_0242ac1c0002row1_col1\" class=\"data row1 col1\" >55</td>\n",
              "                        <td id=\"T_2f344f86_ed98_11e9_ade8_0242ac1c0002row1_col2\" class=\"data row1 col2\" >83</td>\n",
              "            </tr>\n",
              "            <tr>\n",
              "                        <th id=\"T_2f344f86_ed98_11e9_ade8_0242ac1c0002level0_row2\" class=\"row_heading level0 row2\" >2</th>\n",
              "                        <td id=\"T_2f344f86_ed98_11e9_ade8_0242ac1c0002row2_col0\" class=\"data row2 col0\" >5</td>\n",
              "                        <td id=\"T_2f344f86_ed98_11e9_ade8_0242ac1c0002row2_col1\" class=\"data row2 col1\" >8</td>\n",
              "                        <td id=\"T_2f344f86_ed98_11e9_ade8_0242ac1c0002row2_col2\" class=\"data row2 col2\" >15</td>\n",
              "            </tr>\n",
              "            <tr>\n",
              "                        <th id=\"T_2f344f86_ed98_11e9_ade8_0242ac1c0002level0_row3\" class=\"row_heading level0 row3\" >3</th>\n",
              "                        <td id=\"T_2f344f86_ed98_11e9_ade8_0242ac1c0002row3_col0\" class=\"data row3 col0\" >3</td>\n",
              "                        <td id=\"T_2f344f86_ed98_11e9_ade8_0242ac1c0002row3_col1\" class=\"data row3 col1\" >1</td>\n",
              "                        <td id=\"T_2f344f86_ed98_11e9_ade8_0242ac1c0002row3_col2\" class=\"data row3 col2\" >12</td>\n",
              "            </tr>\n",
              "            <tr>\n",
              "                        <th id=\"T_2f344f86_ed98_11e9_ade8_0242ac1c0002level0_row4\" class=\"row_heading level0 row4\" >4</th>\n",
              "                        <td id=\"T_2f344f86_ed98_11e9_ade8_0242ac1c0002row4_col0\" class=\"data row4 col0\" >0</td>\n",
              "                        <td id=\"T_2f344f86_ed98_11e9_ade8_0242ac1c0002row4_col1\" class=\"data row4 col1\" >0</td>\n",
              "                        <td id=\"T_2f344f86_ed98_11e9_ade8_0242ac1c0002row4_col2\" class=\"data row4 col2\" >18</td>\n",
              "            </tr>\n",
              "            <tr>\n",
              "                        <th id=\"T_2f344f86_ed98_11e9_ade8_0242ac1c0002level0_row5\" class=\"row_heading level0 row5\" >5</th>\n",
              "                        <td id=\"T_2f344f86_ed98_11e9_ade8_0242ac1c0002row5_col0\" class=\"data row5 col0\" >0</td>\n",
              "                        <td id=\"T_2f344f86_ed98_11e9_ade8_0242ac1c0002row5_col1\" class=\"data row5 col1\" >0</td>\n",
              "                        <td id=\"T_2f344f86_ed98_11e9_ade8_0242ac1c0002row5_col2\" class=\"data row5 col2\" >5</td>\n",
              "            </tr>\n",
              "            <tr>\n",
              "                        <th id=\"T_2f344f86_ed98_11e9_ade8_0242ac1c0002level0_row6\" class=\"row_heading level0 row6\" >8</th>\n",
              "                        <td id=\"T_2f344f86_ed98_11e9_ade8_0242ac1c0002row6_col0\" class=\"data row6 col0\" >0</td>\n",
              "                        <td id=\"T_2f344f86_ed98_11e9_ade8_0242ac1c0002row6_col1\" class=\"data row6 col1\" >0</td>\n",
              "                        <td id=\"T_2f344f86_ed98_11e9_ade8_0242ac1c0002row6_col2\" class=\"data row6 col2\" >7</td>\n",
              "            </tr>\n",
              "    </tbody></table>"
            ],
            "text/plain": [
              "<pandas.io.formats.style.Styler at 0x7f4cf87c9208>"
            ]
          },
          "metadata": {
            "tags": []
          },
          "execution_count": 34
        }
      ]
    },
    {
      "cell_type": "markdown",
      "metadata": {
        "_cell_guid": "4abd6f2c-0b9e-48a8-ba09-97ef75b3499a",
        "_uuid": "5f4af4fa5a1708815b12e4e0c330a6762647f44b",
        "collapsed": true,
        "id": "HHnsf4aWUtmt",
        "colab_type": "text"
      },
      "source": [
        "### Parch"
      ]
    },
    {
      "cell_type": "markdown",
      "metadata": {
        "id": "hbBLHAVTpHy_",
        "colab_type": "text"
      },
      "source": [
        "O la variable Parch (Parch = Number of Parents/Children Aboard):"
      ]
    },
    {
      "cell_type": "code",
      "metadata": {
        "_cell_guid": "84e405d3-cd3d-4a00-840d-f3e51bbfd45f",
        "_uuid": "f426753939cc958e1c358e3cf165c5915a0fcc2d",
        "id": "TwH7NXWmUtmt",
        "colab_type": "code",
        "outputId": "de1b335d-5cbd-4591-ee01-823f9d41e4ad",
        "colab": {
          "base_uri": "https://localhost:8080/",
          "height": 208
        }
      },
      "source": [
        "pd.crosstab(data.Parch,data.Pclass).style.background_gradient(cmap='summer_r')"
      ],
      "execution_count": 0,
      "outputs": [
        {
          "output_type": "execute_result",
          "data": {
            "text/html": [
              "<style  type=\"text/css\" >\n",
              "    #T_9fb52618_f5d6_11e9_b5f2_0242ac1c0002row0_col0 {\n",
              "            background-color:  #008066;\n",
              "            color:  #f1f1f1;\n",
              "        }    #T_9fb52618_f5d6_11e9_b5f2_0242ac1c0002row0_col1 {\n",
              "            background-color:  #008066;\n",
              "            color:  #f1f1f1;\n",
              "        }    #T_9fb52618_f5d6_11e9_b5f2_0242ac1c0002row0_col2 {\n",
              "            background-color:  #008066;\n",
              "            color:  #f1f1f1;\n",
              "        }    #T_9fb52618_f5d6_11e9_b5f2_0242ac1c0002row1_col0 {\n",
              "            background-color:  #cfe766;\n",
              "            color:  #000000;\n",
              "        }    #T_9fb52618_f5d6_11e9_b5f2_0242ac1c0002row1_col1 {\n",
              "            background-color:  #c2e066;\n",
              "            color:  #000000;\n",
              "        }    #T_9fb52618_f5d6_11e9_b5f2_0242ac1c0002row1_col2 {\n",
              "            background-color:  #dbed66;\n",
              "            color:  #000000;\n",
              "        }    #T_9fb52618_f5d6_11e9_b5f2_0242ac1c0002row2_col0 {\n",
              "            background-color:  #dfef66;\n",
              "            color:  #000000;\n",
              "        }    #T_9fb52618_f5d6_11e9_b5f2_0242ac1c0002row2_col1 {\n",
              "            background-color:  #e1f066;\n",
              "            color:  #000000;\n",
              "        }    #T_9fb52618_f5d6_11e9_b5f2_0242ac1c0002row2_col2 {\n",
              "            background-color:  #e3f166;\n",
              "            color:  #000000;\n",
              "        }    #T_9fb52618_f5d6_11e9_b5f2_0242ac1c0002row3_col0 {\n",
              "            background-color:  #ffff66;\n",
              "            color:  #000000;\n",
              "        }    #T_9fb52618_f5d6_11e9_b5f2_0242ac1c0002row3_col1 {\n",
              "            background-color:  #fcfe66;\n",
              "            color:  #000000;\n",
              "        }    #T_9fb52618_f5d6_11e9_b5f2_0242ac1c0002row3_col2 {\n",
              "            background-color:  #fefe66;\n",
              "            color:  #000000;\n",
              "        }    #T_9fb52618_f5d6_11e9_b5f2_0242ac1c0002row4_col0 {\n",
              "            background-color:  #fefe66;\n",
              "            color:  #000000;\n",
              "        }    #T_9fb52618_f5d6_11e9_b5f2_0242ac1c0002row4_col1 {\n",
              "            background-color:  #ffff66;\n",
              "            color:  #000000;\n",
              "        }    #T_9fb52618_f5d6_11e9_b5f2_0242ac1c0002row4_col2 {\n",
              "            background-color:  #fefe66;\n",
              "            color:  #000000;\n",
              "        }    #T_9fb52618_f5d6_11e9_b5f2_0242ac1c0002row5_col0 {\n",
              "            background-color:  #ffff66;\n",
              "            color:  #000000;\n",
              "        }    #T_9fb52618_f5d6_11e9_b5f2_0242ac1c0002row5_col1 {\n",
              "            background-color:  #ffff66;\n",
              "            color:  #000000;\n",
              "        }    #T_9fb52618_f5d6_11e9_b5f2_0242ac1c0002row5_col2 {\n",
              "            background-color:  #fdfe66;\n",
              "            color:  #000000;\n",
              "        }    #T_9fb52618_f5d6_11e9_b5f2_0242ac1c0002row6_col0 {\n",
              "            background-color:  #ffff66;\n",
              "            color:  #000000;\n",
              "        }    #T_9fb52618_f5d6_11e9_b5f2_0242ac1c0002row6_col1 {\n",
              "            background-color:  #ffff66;\n",
              "            color:  #000000;\n",
              "        }    #T_9fb52618_f5d6_11e9_b5f2_0242ac1c0002row6_col2 {\n",
              "            background-color:  #ffff66;\n",
              "            color:  #000000;\n",
              "        }</style><table id=\"T_9fb52618_f5d6_11e9_b5f2_0242ac1c0002\" ><thead>    <tr>        <th class=\"index_name level0\" >Pclass</th>        <th class=\"col_heading level0 col0\" >1</th>        <th class=\"col_heading level0 col1\" >2</th>        <th class=\"col_heading level0 col2\" >3</th>    </tr>    <tr>        <th class=\"index_name level0\" >Parch</th>        <th class=\"blank\" ></th>        <th class=\"blank\" ></th>        <th class=\"blank\" ></th>    </tr></thead><tbody>\n",
              "                <tr>\n",
              "                        <th id=\"T_9fb52618_f5d6_11e9_b5f2_0242ac1c0002level0_row0\" class=\"row_heading level0 row0\" >0</th>\n",
              "                        <td id=\"T_9fb52618_f5d6_11e9_b5f2_0242ac1c0002row0_col0\" class=\"data row0 col0\" >163</td>\n",
              "                        <td id=\"T_9fb52618_f5d6_11e9_b5f2_0242ac1c0002row0_col1\" class=\"data row0 col1\" >134</td>\n",
              "                        <td id=\"T_9fb52618_f5d6_11e9_b5f2_0242ac1c0002row0_col2\" class=\"data row0 col2\" >381</td>\n",
              "            </tr>\n",
              "            <tr>\n",
              "                        <th id=\"T_9fb52618_f5d6_11e9_b5f2_0242ac1c0002level0_row1\" class=\"row_heading level0 row1\" >1</th>\n",
              "                        <td id=\"T_9fb52618_f5d6_11e9_b5f2_0242ac1c0002row1_col0\" class=\"data row1 col0\" >31</td>\n",
              "                        <td id=\"T_9fb52618_f5d6_11e9_b5f2_0242ac1c0002row1_col1\" class=\"data row1 col1\" >32</td>\n",
              "                        <td id=\"T_9fb52618_f5d6_11e9_b5f2_0242ac1c0002row1_col2\" class=\"data row1 col2\" >55</td>\n",
              "            </tr>\n",
              "            <tr>\n",
              "                        <th id=\"T_9fb52618_f5d6_11e9_b5f2_0242ac1c0002level0_row2\" class=\"row_heading level0 row2\" >2</th>\n",
              "                        <td id=\"T_9fb52618_f5d6_11e9_b5f2_0242ac1c0002row2_col0\" class=\"data row2 col0\" >21</td>\n",
              "                        <td id=\"T_9fb52618_f5d6_11e9_b5f2_0242ac1c0002row2_col1\" class=\"data row2 col1\" >16</td>\n",
              "                        <td id=\"T_9fb52618_f5d6_11e9_b5f2_0242ac1c0002row2_col2\" class=\"data row2 col2\" >43</td>\n",
              "            </tr>\n",
              "            <tr>\n",
              "                        <th id=\"T_9fb52618_f5d6_11e9_b5f2_0242ac1c0002level0_row3\" class=\"row_heading level0 row3\" >3</th>\n",
              "                        <td id=\"T_9fb52618_f5d6_11e9_b5f2_0242ac1c0002row3_col0\" class=\"data row3 col0\" >0</td>\n",
              "                        <td id=\"T_9fb52618_f5d6_11e9_b5f2_0242ac1c0002row3_col1\" class=\"data row3 col1\" >2</td>\n",
              "                        <td id=\"T_9fb52618_f5d6_11e9_b5f2_0242ac1c0002row3_col2\" class=\"data row3 col2\" >3</td>\n",
              "            </tr>\n",
              "            <tr>\n",
              "                        <th id=\"T_9fb52618_f5d6_11e9_b5f2_0242ac1c0002level0_row4\" class=\"row_heading level0 row4\" >4</th>\n",
              "                        <td id=\"T_9fb52618_f5d6_11e9_b5f2_0242ac1c0002row4_col0\" class=\"data row4 col0\" >1</td>\n",
              "                        <td id=\"T_9fb52618_f5d6_11e9_b5f2_0242ac1c0002row4_col1\" class=\"data row4 col1\" >0</td>\n",
              "                        <td id=\"T_9fb52618_f5d6_11e9_b5f2_0242ac1c0002row4_col2\" class=\"data row4 col2\" >3</td>\n",
              "            </tr>\n",
              "            <tr>\n",
              "                        <th id=\"T_9fb52618_f5d6_11e9_b5f2_0242ac1c0002level0_row5\" class=\"row_heading level0 row5\" >5</th>\n",
              "                        <td id=\"T_9fb52618_f5d6_11e9_b5f2_0242ac1c0002row5_col0\" class=\"data row5 col0\" >0</td>\n",
              "                        <td id=\"T_9fb52618_f5d6_11e9_b5f2_0242ac1c0002row5_col1\" class=\"data row5 col1\" >0</td>\n",
              "                        <td id=\"T_9fb52618_f5d6_11e9_b5f2_0242ac1c0002row5_col2\" class=\"data row5 col2\" >5</td>\n",
              "            </tr>\n",
              "            <tr>\n",
              "                        <th id=\"T_9fb52618_f5d6_11e9_b5f2_0242ac1c0002level0_row6\" class=\"row_heading level0 row6\" >6</th>\n",
              "                        <td id=\"T_9fb52618_f5d6_11e9_b5f2_0242ac1c0002row6_col0\" class=\"data row6 col0\" >0</td>\n",
              "                        <td id=\"T_9fb52618_f5d6_11e9_b5f2_0242ac1c0002row6_col1\" class=\"data row6 col1\" >0</td>\n",
              "                        <td id=\"T_9fb52618_f5d6_11e9_b5f2_0242ac1c0002row6_col2\" class=\"data row6 col2\" >1</td>\n",
              "            </tr>\n",
              "    </tbody></table>"
            ],
            "text/plain": [
              "<pandas.io.formats.style.Styler at 0x7f4aee147cf8>"
            ]
          },
          "metadata": {
            "tags": []
          },
          "execution_count": 29
        }
      ]
    },
    {
      "cell_type": "markdown",
      "metadata": {
        "_cell_guid": "ce242dd4-c537-40f9-8223-76740512e966",
        "_uuid": "d873672610a96daa00522c850bd1b96013f92856",
        "id": "na3aMI-kUtmy",
        "colab_type": "text"
      },
      "source": [
        "### Fare"
      ]
    },
    {
      "cell_type": "markdown",
      "metadata": {
        "id": "Xfsxc8eSpQVA",
        "colab_type": "text"
      },
      "source": [
        "En función del precio del billete también podemos encontrar diferencias interesantes:"
      ]
    },
    {
      "cell_type": "code",
      "metadata": {
        "_cell_guid": "db19b152-af6d-41f7-a545-fe41e4be18a8",
        "_uuid": "fbd3e42723ae1447bc2f1b91204ffa609b4d07c5",
        "id": "riVVHViRUtmy",
        "colab_type": "code",
        "outputId": "708f44e4-373a-4647-b507-c80bbdf4abe2",
        "colab": {
          "base_uri": "https://localhost:8080/",
          "height": 68
        }
      },
      "source": [
        "print('Highest Fare was:',data['Fare'].max())\n",
        "print('Lowest Fare was:',data['Fare'].min())\n",
        "print('Average Fare was:',data['Fare'].mean())"
      ],
      "execution_count": 0,
      "outputs": [
        {
          "output_type": "stream",
          "text": [
            "Highest Fare was: 512.3292\n",
            "Lowest Fare was: 0.0\n",
            "Average Fare was: 32.2042079685746\n"
          ],
          "name": "stdout"
        }
      ]
    },
    {
      "cell_type": "markdown",
      "metadata": {
        "id": "1ek4kYJppb9P",
        "colab_type": "text"
      },
      "source": [
        "En este caso usaremos el gráfico distplot dentro de seaborn, que combina el histograma con una estimación de la función densidad (https://seaborn.pydata.org/generated/seaborn.distplot.html), para representar las diferencias entre el precio del billete en función de la clase en la que viajan:"
      ]
    },
    {
      "cell_type": "code",
      "metadata": {
        "_cell_guid": "e9c4559e-913c-4a2d-9e96-6385e7ed6a06",
        "_uuid": "cea989cb8581e2d563009339e8194b81c531afde",
        "scrolled": true,
        "id": "SyZvz-2FUtm2",
        "colab_type": "code",
        "outputId": "34d9b5a2-eb28-454e-ada8-9004a75cb611",
        "colab": {
          "base_uri": "https://localhost:8080/",
          "height": 533
        }
      },
      "source": [
        "f,ax=plt.subplots(3,1,figsize=(20,8))\n",
        "\n",
        "sns.distplot(data[data['Pclass']==1].Fare,ax=ax[0])\n",
        "ax[0].set_title('Fares in Pclass 1')\n",
        "\n",
        "sns.distplot(data[data['Pclass']==2].Fare,ax=ax[1])\n",
        "ax[1].set_title('Fares in Pclass 2')\n",
        "\n",
        "sns.distplot(data[data['Pclass']==3].Fare,ax=ax[2])\n",
        "ax[2].set_title('Fares in Pclass 3')\n",
        "\n",
        "plt.show()"
      ],
      "execution_count": 0,
      "outputs": [
        {
          "output_type": "display_data",
          "data": {
            "image/png": "[encoded data removed]",
            "text/plain": [
              "<Figure size 1440x576 with 3 Axes>"
            ]
          },
          "metadata": {
            "tags": []
          }
        }
      ]
    },
    {
      "cell_type": "markdown",
      "metadata": {
        "_cell_guid": "410e5ca6-2aa4-42a9-9875-d5aeb87d831f",
        "_uuid": "3b7ef048f72c226d996c6ad955b2b171d1780b93",
        "id": "jpgIqmGqUtm6",
        "colab_type": "text"
      },
      "source": [
        "### Análisis de correlaciones"
      ]
    },
    {
      "cell_type": "markdown",
      "metadata": {
        "id": "0n30FQPdqXkQ",
        "colab_type": "text"
      },
      "source": [
        "Una forma muy interesante de representar la matriz de correlaciones (data.corr()) es usar un heatmap (https://seaborn.pydata.org/generated/seaborn.heatmap.html):"
      ]
    },
    {
      "cell_type": "code",
      "metadata": {
        "_cell_guid": "88547a8f-28bb-469e-b3b8-5e5fbc4a1e30",
        "_uuid": "afa990766959d5cafd155c0c10c8c2d5afab2919",
        "scrolled": true,
        "id": "UfSEKG-SUtm6",
        "colab_type": "code",
        "outputId": "ea2b33ce-e465-4696-c24f-e3069baf1cd3",
        "colab": {
          "base_uri": "https://localhost:8080/",
          "height": 535
        }
      },
      "source": [
        "fig=plt.gcf()\n",
        "\n",
        "sns.heatmap(data.corr(),annot=True,cmap='RdYlGn',linewidths=0.1)\n",
        "\n",
        "fig.set_size_inches(10,8)\n",
        "\n",
        "plt.show()"
      ],
      "execution_count": 0,
      "outputs": [
        {
          "output_type": "display_data",
          "data": {
            "image/png": "[encoded data removed]",
            "text/plain": [
              "<Figure size 720x576 with 2 Axes>"
            ]
          },
          "metadata": {
            "tags": []
          }
        }
      ]
    },
    {
      "cell_type": "markdown",
      "metadata": {
        "id": "L7p-4P-7Utm8",
        "colab_type": "text"
      },
      "source": [
        "### Relación entre Fare, Age, Pclass y Survived"
      ]
    },
    {
      "cell_type": "code",
      "metadata": {
        "id": "yZKLH4K_Utm8",
        "colab_type": "code",
        "outputId": "f0c79eed-d395-4bd1-8edc-44083bc5b4eb",
        "colab": {
          "base_uri": "https://localhost:8080/",
          "height": 225
        }
      },
      "source": [
        "g = sns.FacetGrid(data, hue=\"Survived\", col=\"Pclass\", margin_titles=True,\n",
        "                  palette={1:\"seagreen\", 0:\"gray\"})\n",
        "g=g.map(plt.scatter, \"Fare\", \"Age\",edgecolor=\"w\").add_legend();"
      ],
      "execution_count": 0,
      "outputs": [
        {
          "output_type": "display_data",
          "data": {
            "image/png": "[encoded data removed]",
            "text/plain": [
              "<Figure size 708.75x216 with 3 Axes>"
            ]
          },
          "metadata": {
            "tags": []
          }
        }
      ]
    },
    {
      "cell_type": "markdown",
      "metadata": {
        "id": "GW8QutkaUtnA",
        "colab_type": "text"
      },
      "source": [
        "### Distribución de la edad por clases"
      ]
    },
    {
      "cell_type": "code",
      "metadata": {
        "id": "CqYYTSs-UtnB",
        "colab_type": "code",
        "outputId": "60ca655a-2cb7-455d-e77f-4a89f16b918e",
        "colab": {
          "base_uri": "https://localhost:8080/",
          "height": 296
        }
      },
      "source": [
        "data.Age[data.Pclass == 1].plot(kind='kde')    \n",
        "data.Age[data.Pclass == 2].plot(kind='kde')\n",
        "data.Age[data.Pclass == 3].plot(kind='kde')\n",
        " # plots an axis lable\n",
        "plt.xlabel(\"Age\")    \n",
        "plt.title(\"Age Distribution within classes\")\n",
        "# sets our legend for our graph.\n",
        "plt.legend(('1st Class', '2nd Class','3rd Class'),loc='best') ;"
      ],
      "execution_count": 0,
      "outputs": [
        {
          "output_type": "display_data",
          "data": {
            "image/png": "[encoded data removed]",
            "text/plain": [
              "<Figure size 432x288 with 1 Axes>"
            ]
          },
          "metadata": {
            "tags": []
          }
        }
      ]
    },
    {
      "cell_type": "markdown",
      "metadata": {
        "_cell_guid": "734d8511-e8ed-423a-913a-ccaa1ebda241",
        "_uuid": "08132891de3a44c38d099573a8693270b565bb1b",
        "id": "xKS4U34BUtnD",
        "colab_type": "text"
      },
      "source": [
        "# Parte 2: Feature Engineering and Data Cleaning"
      ]
    },
    {
      "cell_type": "markdown",
      "metadata": {
        "id": "YV6EmeLaUtnD",
        "colab_type": "text"
      },
      "source": [
        "## 2.1 Creación de nuevas variables"
      ]
    },
    {
      "cell_type": "markdown",
      "metadata": {
        "id": "M2mrBOHgbnmN",
        "colab_type": "text"
      },
      "source": [
        "### Imputación de valores missing"
      ]
    },
    {
      "cell_type": "markdown",
      "metadata": {
        "id": "M6uEEXV8qxxv",
        "colab_type": "text"
      },
      "source": [
        "Procedamos ahora a localizar y sustituir los valores missing dentro de nuestras variables:"
      ]
    },
    {
      "cell_type": "code",
      "metadata": {
        "id": "DRGLWJw3aa25",
        "colab_type": "code",
        "outputId": "cf376aed-749a-4e00-c9a5-b9f50b07cd62",
        "colab": {
          "base_uri": "https://localhost:8080/",
          "height": 242
        }
      },
      "source": [
        "data.isnull().sum()"
      ],
      "execution_count": 0,
      "outputs": [
        {
          "output_type": "execute_result",
          "data": {
            "text/plain": [
              "PassengerId      0\n",
              "Survived         0\n",
              "Pclass           0\n",
              "Name             0\n",
              "Sex              0\n",
              "Age            177\n",
              "SibSp            0\n",
              "Parch            0\n",
              "Ticket           0\n",
              "Fare             0\n",
              "Cabin          687\n",
              "Embarked         2\n",
              "dtype: int64"
            ]
          },
          "metadata": {
            "tags": []
          },
          "execution_count": 10
        }
      ]
    },
    {
      "cell_type": "markdown",
      "metadata": {
        "id": "stjjArp6q4ZN",
        "colab_type": "text"
      },
      "source": [
        "Por ejemplo, para la variable edad sustituiremos los valores missing por la media de edad de la muestra:"
      ]
    },
    {
      "cell_type": "code",
      "metadata": {
        "id": "E--4glX6bOZh",
        "colab_type": "code",
        "colab": {}
      },
      "source": [
        "data['Age'][data['Age'].isnull()] = np.mean(data['Age'])"
      ],
      "execution_count": 0,
      "outputs": []
    },
    {
      "cell_type": "markdown",
      "metadata": {
        "id": "CZdiVBaSrAs6",
        "colab_type": "text"
      },
      "source": [
        "En cambio, podemos añadir un nuevo nivel dentro de las variables categóricas que contemple específicamente los valores desconocidos:"
      ]
    },
    {
      "cell_type": "code",
      "metadata": {
        "id": "s8heCvQNbu2S",
        "colab_type": "code",
        "colab": {}
      },
      "source": [
        "data['Cabin'][data['Cabin'].isnull()] = \"Desconocido\"\n",
        "data['Embarked'][data['Embarked'].isnull()] = \"Desconocido\""
      ],
      "execution_count": 0,
      "outputs": []
    },
    {
      "cell_type": "markdown",
      "metadata": {
        "_cell_guid": "f2fe673f-b1e4-4c2b-828c-091f27bbc3f5",
        "_uuid": "488a35e1cce6d5d3a50327ec2dfd9d0961f1abaf",
        "id": "8kqO7l3wUtnD",
        "colab_type": "text"
      },
      "source": [
        "### Rangos de edad"
      ]
    },
    {
      "cell_type": "markdown",
      "metadata": {
        "id": "zPG4FW14rNeY",
        "colab_type": "text"
      },
      "source": [
        "Otra operación bastante común es la tramificación de variables, en este caso crearemos una nueva variable categórica a partir de distintos rangos de edad:"
      ]
    },
    {
      "cell_type": "code",
      "metadata": {
        "_cell_guid": "4b641963-d34e-4a4e-972f-df400c21c62d",
        "_uuid": "f79d6021bde433c229d180a82038bfc061b05093",
        "id": "Vnxq7z1fUtnE",
        "colab_type": "code",
        "outputId": "afae9bf7-a981-4674-cc9d-dc89960c1dde",
        "colab": {
          "base_uri": "https://localhost:8080/",
          "height": 284
        }
      },
      "source": [
        "data['Age_band']=0\n",
        "data.loc[data['Age']<=16,'Age_band']=0\n",
        "data.loc[(data['Age']>16)&(data['Age']<=32),'Age_band']=1\n",
        "data.loc[(data['Age']>32)&(data['Age']<=48),'Age_band']=2\n",
        "data.loc[(data['Age']>48)&(data['Age']<=64),'Age_band']=3\n",
        "data.loc[data['Age']>64,'Age_band']=4\n",
        "data.head(2)"
      ],
      "execution_count": 0,
      "outputs": [
        {
          "output_type": "execute_result",
          "data": {
            "text/html": [
              "<div>\n",
              "<style scoped>\n",
              "    .dataframe tbody tr th:only-of-type {\n",
              "        vertical-align: middle;\n",
              "    }\n",
              "\n",
              "    .dataframe tbody tr th {\n",
              "        vertical-align: top;\n",
              "    }\n",
              "\n",
              "    .dataframe thead th {\n",
              "        text-align: right;\n",
              "    }\n",
              "</style>\n",
              "<table border=\"1\" class=\"dataframe\">\n",
              "  <thead>\n",
              "    <tr style=\"text-align: right;\">\n",
              "      <th></th>\n",
              "      <th>PassengerId</th>\n",
              "      <th>Survived</th>\n",
              "      <th>Pclass</th>\n",
              "      <th>Name</th>\n",
              "      <th>Sex</th>\n",
              "      <th>Age</th>\n",
              "      <th>SibSp</th>\n",
              "      <th>Parch</th>\n",
              "      <th>Ticket</th>\n",
              "      <th>Fare</th>\n",
              "      <th>Cabin</th>\n",
              "      <th>Embarked</th>\n",
              "      <th>Age_band</th>\n",
              "    </tr>\n",
              "  </thead>\n",
              "  <tbody>\n",
              "    <tr>\n",
              "      <th>0</th>\n",
              "      <td>1</td>\n",
              "      <td>0</td>\n",
              "      <td>3</td>\n",
              "      <td>Braund, Mr. Owen Harris</td>\n",
              "      <td>male</td>\n",
              "      <td>22.0</td>\n",
              "      <td>1</td>\n",
              "      <td>0</td>\n",
              "      <td>A/5 21171</td>\n",
              "      <td>7.2500</td>\n",
              "      <td>Desconocido</td>\n",
              "      <td>S</td>\n",
              "      <td>1</td>\n",
              "    </tr>\n",
              "    <tr>\n",
              "      <th>1</th>\n",
              "      <td>2</td>\n",
              "      <td>1</td>\n",
              "      <td>1</td>\n",
              "      <td>Cumings, Mrs. John Bradley (Florence Briggs Th...</td>\n",
              "      <td>female</td>\n",
              "      <td>38.0</td>\n",
              "      <td>1</td>\n",
              "      <td>0</td>\n",
              "      <td>PC 17599</td>\n",
              "      <td>71.2833</td>\n",
              "      <td>C85</td>\n",
              "      <td>C</td>\n",
              "      <td>2</td>\n",
              "    </tr>\n",
              "  </tbody>\n",
              "</table>\n",
              "</div>"
            ],
            "text/plain": [
              "   PassengerId  Survived  Pclass  ...        Cabin Embarked  Age_band\n",
              "0            1         0       3  ...  Desconocido        S         1\n",
              "1            2         1       1  ...          C85        C         2\n",
              "\n",
              "[2 rows x 13 columns]"
            ]
          },
          "metadata": {
            "tags": []
          },
          "execution_count": 13
        }
      ]
    },
    {
      "cell_type": "code",
      "metadata": {
        "_cell_guid": "2f187870-e106-4852-acf0-9fa2e4115789",
        "_uuid": "f03e02b9ffd6a00041f18f2e34a36f76637101fe",
        "id": "Ion2XUwuUtnG",
        "colab_type": "code",
        "outputId": "b4e7be7d-96b4-4f25-a7b8-74eced1d8b2f",
        "colab": {
          "base_uri": "https://localhost:8080/",
          "height": 145
        }
      },
      "source": [
        "data['Age_band'].value_counts().to_frame().style.background_gradient(cmap='summer')"
      ],
      "execution_count": 0,
      "outputs": [
        {
          "output_type": "execute_result",
          "data": {
            "text/html": [
              "<style  type=\"text/css\" >\n",
              "    #T_9a798c34_fa77_11e9_9780_0242ac1c0002row0_col0 {\n",
              "            background-color:  #ffff66;\n",
              "            color:  #000000;\n",
              "        }    #T_9a798c34_fa77_11e9_9780_0242ac1c0002row1_col0 {\n",
              "            background-color:  #58ac66;\n",
              "            color:  #000000;\n",
              "        }    #T_9a798c34_fa77_11e9_9780_0242ac1c0002row2_col0 {\n",
              "            background-color:  #2c9666;\n",
              "            color:  #000000;\n",
              "        }    #T_9a798c34_fa77_11e9_9780_0242ac1c0002row3_col0 {\n",
              "            background-color:  #1d8e66;\n",
              "            color:  #000000;\n",
              "        }    #T_9a798c34_fa77_11e9_9780_0242ac1c0002row4_col0 {\n",
              "            background-color:  #008066;\n",
              "            color:  #f1f1f1;\n",
              "        }</style><table id=\"T_9a798c34_fa77_11e9_9780_0242ac1c0002\" ><thead>    <tr>        <th class=\"blank level0\" ></th>        <th class=\"col_heading level0 col0\" >Age_band</th>    </tr></thead><tbody>\n",
              "                <tr>\n",
              "                        <th id=\"T_9a798c34_fa77_11e9_9780_0242ac1c0002level0_row0\" class=\"row_heading level0 row0\" >1</th>\n",
              "                        <td id=\"T_9a798c34_fa77_11e9_9780_0242ac1c0002row0_col0\" class=\"data row0 col0\" >523</td>\n",
              "            </tr>\n",
              "            <tr>\n",
              "                        <th id=\"T_9a798c34_fa77_11e9_9780_0242ac1c0002level0_row1\" class=\"row_heading level0 row1\" >2</th>\n",
              "                        <td id=\"T_9a798c34_fa77_11e9_9780_0242ac1c0002row1_col0\" class=\"data row1 col0\" >188</td>\n",
              "            </tr>\n",
              "            <tr>\n",
              "                        <th id=\"T_9a798c34_fa77_11e9_9780_0242ac1c0002level0_row2\" class=\"row_heading level0 row2\" >0</th>\n",
              "                        <td id=\"T_9a798c34_fa77_11e9_9780_0242ac1c0002row2_col0\" class=\"data row2 col0\" >100</td>\n",
              "            </tr>\n",
              "            <tr>\n",
              "                        <th id=\"T_9a798c34_fa77_11e9_9780_0242ac1c0002level0_row3\" class=\"row_heading level0 row3\" >3</th>\n",
              "                        <td id=\"T_9a798c34_fa77_11e9_9780_0242ac1c0002row3_col0\" class=\"data row3 col0\" >69</td>\n",
              "            </tr>\n",
              "            <tr>\n",
              "                        <th id=\"T_9a798c34_fa77_11e9_9780_0242ac1c0002level0_row4\" class=\"row_heading level0 row4\" >4</th>\n",
              "                        <td id=\"T_9a798c34_fa77_11e9_9780_0242ac1c0002row4_col0\" class=\"data row4 col0\" >11</td>\n",
              "            </tr>\n",
              "    </tbody></table>"
            ],
            "text/plain": [
              "<pandas.io.formats.style.Styler at 0x7fc2d0300978>"
            ]
          },
          "metadata": {
            "tags": []
          },
          "execution_count": 14
        }
      ]
    },
    {
      "cell_type": "markdown",
      "metadata": {
        "_cell_guid": "6cf47ab0-5172-499d-ae63-1e45f72175f2",
        "_uuid": "12d1a4fa19df5691a4ecca4662031a125e98ed02",
        "id": "mUr3k-P_UtnM",
        "colab_type": "text"
      },
      "source": [
        "### Rango de precios del billete"
      ]
    },
    {
      "cell_type": "markdown",
      "metadata": {
        "id": "YndJqN_Irdtg",
        "colab_type": "text"
      },
      "source": [
        "Otra forma de realizar la tramificación es usar intervalos equidistantes con la función qcut (en el ejemplo, 4 cuts, estaremos separamos por cuartiles):"
      ]
    },
    {
      "cell_type": "code",
      "metadata": {
        "_cell_guid": "f46d820c-e81e-448f-837d-d3dfd63b94e6",
        "_uuid": "4aec257e46ab71667aed9571663e74f7e1f27d9b",
        "id": "neRiJ0tLUtnM",
        "colab_type": "code",
        "outputId": "09575077-a5f6-41a7-d2a6-b61518ecaa95",
        "colab": {
          "base_uri": "https://localhost:8080/",
          "height": 145
        }
      },
      "source": [
        "data['Fare_Range']=pd.qcut(data['Fare'],4)\n",
        "data.groupby(['Fare_Range'])['Survived'].mean().to_frame().style.background_gradient(cmap='summer_r')"
      ],
      "execution_count": 0,
      "outputs": [
        {
          "output_type": "execute_result",
          "data": {
            "text/html": [
              "<style  type=\"text/css\" >\n",
              "    #T_9b45d730_fa77_11e9_9780_0242ac1c0002row0_col0 {\n",
              "            background-color:  #ffff66;\n",
              "            color:  #000000;\n",
              "        }    #T_9b45d730_fa77_11e9_9780_0242ac1c0002row1_col0 {\n",
              "            background-color:  #b9dc66;\n",
              "            color:  #000000;\n",
              "        }    #T_9b45d730_fa77_11e9_9780_0242ac1c0002row2_col0 {\n",
              "            background-color:  #54aa66;\n",
              "            color:  #000000;\n",
              "        }    #T_9b45d730_fa77_11e9_9780_0242ac1c0002row3_col0 {\n",
              "            background-color:  #008066;\n",
              "            color:  #f1f1f1;\n",
              "        }</style><table id=\"T_9b45d730_fa77_11e9_9780_0242ac1c0002\" ><thead>    <tr>        <th class=\"blank level0\" ></th>        <th class=\"col_heading level0 col0\" >Survived</th>    </tr>    <tr>        <th class=\"index_name level0\" >Fare_Range</th>        <th class=\"blank\" ></th>    </tr></thead><tbody>\n",
              "                <tr>\n",
              "                        <th id=\"T_9b45d730_fa77_11e9_9780_0242ac1c0002level0_row0\" class=\"row_heading level0 row0\" >(-0.001, 7.91]</th>\n",
              "                        <td id=\"T_9b45d730_fa77_11e9_9780_0242ac1c0002row0_col0\" class=\"data row0 col0\" >0.197309</td>\n",
              "            </tr>\n",
              "            <tr>\n",
              "                        <th id=\"T_9b45d730_fa77_11e9_9780_0242ac1c0002level0_row1\" class=\"row_heading level0 row1\" >(7.91, 14.454]</th>\n",
              "                        <td id=\"T_9b45d730_fa77_11e9_9780_0242ac1c0002row1_col0\" class=\"data row1 col0\" >0.303571</td>\n",
              "            </tr>\n",
              "            <tr>\n",
              "                        <th id=\"T_9b45d730_fa77_11e9_9780_0242ac1c0002level0_row2\" class=\"row_heading level0 row2\" >(14.454, 31.0]</th>\n",
              "                        <td id=\"T_9b45d730_fa77_11e9_9780_0242ac1c0002row2_col0\" class=\"data row2 col0\" >0.454955</td>\n",
              "            </tr>\n",
              "            <tr>\n",
              "                        <th id=\"T_9b45d730_fa77_11e9_9780_0242ac1c0002level0_row3\" class=\"row_heading level0 row3\" >(31.0, 512.329]</th>\n",
              "                        <td id=\"T_9b45d730_fa77_11e9_9780_0242ac1c0002row3_col0\" class=\"data row3 col0\" >0.581081</td>\n",
              "            </tr>\n",
              "    </tbody></table>"
            ],
            "text/plain": [
              "<pandas.io.formats.style.Styler at 0x7fc2c6ea07f0>"
            ]
          },
          "metadata": {
            "tags": []
          },
          "execution_count": 15
        }
      ]
    },
    {
      "cell_type": "code",
      "metadata": {
        "_cell_guid": "ba80366f-8f8c-421e-bfb9-f3121402e5b6",
        "_uuid": "f22ee32844ba93a6162d14ca801385064a996101",
        "id": "H_UkjPC0UtnN",
        "colab_type": "code",
        "colab": {}
      },
      "source": [
        "data['Fare_cat']=0\n",
        "data.loc[data['Fare']<=8,'Fare_cat']=0\n",
        "data.loc[(data['Fare']>8)&(data['Fare']<=14.454),'Fare_cat']=1\n",
        "data.loc[(data['Fare']>14.454)&(data['Fare']<=31),'Fare_cat']=2\n",
        "data.loc[(data['Fare']>31)&(data['Fare']<=513),'Fare_cat']=3"
      ],
      "execution_count": 0,
      "outputs": []
    },
    {
      "cell_type": "code",
      "metadata": {
        "_cell_guid": "c3446d11-2151-4cfa-aa43-2637ac793525",
        "_uuid": "4390d6f0ea444a0a86ce72a592fdb3bd858ac725",
        "id": "hPG10hztUtnO",
        "colab_type": "code",
        "outputId": "a32c45ea-df71-462d-d821-83f516184395",
        "colab": {
          "base_uri": "https://localhost:8080/",
          "height": 369
        }
      },
      "source": [
        "sns.factorplot('Fare_cat','Survived',data=data,hue='Sex')\n",
        "plt.show()"
      ],
      "execution_count": 0,
      "outputs": [
        {
          "output_type": "display_data",
          "data": {
            "image/png": "[encoded data removed]",
            "text/plain": [
              "<Figure size 430.5x360 with 1 Axes>"
            ]
          },
          "metadata": {
            "tags": []
          }
        }
      ]
    },
    {
      "cell_type": "markdown",
      "metadata": {
        "_cell_guid": "2cd0333d-a2dd-4deb-b103-8e2e0fc5da4e",
        "_uuid": "2e4dc43d07d286ef9e4e8995d77cddb892973c86",
        "id": "eeLKvvU_UtnQ",
        "colab_type": "text"
      },
      "source": [
        "### Converting String Values into Numeric"
      ]
    },
    {
      "cell_type": "markdown",
      "metadata": {
        "id": "NZngccV7ryu8",
        "colab_type": "text"
      },
      "source": [
        "Otra operación que deberemos abordar en algún momento es la sustitución de variables categóricos por equivalentes numéricos. En este caso sustituremos los dos tipos de género por los valores 0 y 1:"
      ]
    },
    {
      "cell_type": "code",
      "metadata": {
        "_cell_guid": "c9a75f9d-9a0c-4ffc-88ec-5996ee589121",
        "_uuid": "e76a3ec186753e9217584419945e6654072819a7",
        "id": "DX6zQPkCUtnQ",
        "colab_type": "code",
        "colab": {}
      },
      "source": [
        "data['Sex'].replace(['male','female'],[0,1],inplace=True)"
      ],
      "execution_count": 0,
      "outputs": []
    },
    {
      "cell_type": "markdown",
      "metadata": {
        "id": "nX9hMiHtUtnR",
        "colab_type": "text"
      },
      "source": [
        "**Nota:** Esta práctica concreta de transformación de categóricas a numéricas es una **simplificación** que en muchos casos es **errónea** (por ejemplo, si las categorías no tienen ningún tipo de ordinalidad). Es altamente recomendable usar otro tipo de técnicas como la **codificación por impacto** o, alternativamente, usar **one-hot encoding**."
      ]
    },
    {
      "cell_type": "markdown",
      "metadata": {
        "_cell_guid": "89a1862f-f0ca-48e9-aeaf-460950538c7f",
        "_uuid": "30b66ebbf65acebdefe20a520d9a62762b959590",
        "id": "mVKADtHAUtnT",
        "colab_type": "text"
      },
      "source": [
        "### Selección de variables\n",
        "\n",
        "**Name**: Es un identificador, no tiene valor de cara al modelado\n",
        "\n",
        "**Age**: Puede ser sustituida por la variables categórica de rangos de edad\n",
        "\n",
        "**Ticket**: Es un identificador, no tiene valor de cara al modelado\n",
        "\n",
        "**Fare**: Puede ser sustituida por la variables categórica fare_cat\n",
        "\n",
        "**Fare_Range**: Puede ser sustituida por la variables categórica fare_cat\n",
        "\n",
        "**PassengerId**: Es un identificador, no tiene valor de cara al modelado"
      ]
    },
    {
      "cell_type": "markdown",
      "metadata": {
        "id": "Apj8e3mgsH5C",
        "colab_type": "text"
      },
      "source": [
        "Una técnica común de selección de variables, o al menos para descartar algunas, es realizar un estudio de las correlaciones y eliminar una variable de cada par de variables altamente correladas:"
      ]
    },
    {
      "cell_type": "code",
      "metadata": {
        "_cell_guid": "bc04b292-b453-4b45-868b-ab3f99b776dc",
        "_uuid": "210bdb7650161cbe09a381dc89c0fc4485b2646c",
        "id": "vui7EDJdUtnT",
        "colab_type": "code",
        "outputId": "33aeb6d1-4433-4d8c-c6ba-462679e46f35",
        "colab": {
          "base_uri": "https://localhost:8080/",
          "height": 568
        }
      },
      "source": [
        "data.drop(['Name','Age','Ticket','Fare','Cabin','Fare_Range','PassengerId'],axis=1,inplace=True)\n",
        "sns.heatmap(data.corr(),annot=True,cmap='RdYlGn',linewidths=0.2,annot_kws={'size':20})\n",
        "fig=plt.gcf()\n",
        "fig.set_size_inches(15,8)\n",
        "plt.xticks(fontsize=14)\n",
        "plt.yticks(fontsize=14)\n",
        "plt.show()"
      ],
      "execution_count": 0,
      "outputs": [
        {
          "output_type": "display_data",
          "data": {
            "image/png": "[encoded data removed]",
            "text/plain": [
              "<Figure size 1080x576 with 2 Axes>"
            ]
          },
          "metadata": {
            "tags": []
          }
        }
      ]
    },
    {
      "cell_type": "markdown",
      "metadata": {
        "id": "2226sUIMUtnU",
        "colab_type": "text"
      },
      "source": [
        "# Parte 3: Clustering"
      ]
    },
    {
      "cell_type": "markdown",
      "metadata": {
        "id": "51qdSprssZNN",
        "colab_type": "text"
      },
      "source": [
        "Chequeamos primeros el tipo de variables, ya que para algunas de las técnincas de clustering que vamos a usar necesitamos solo variables numéricas:"
      ]
    },
    {
      "cell_type": "code",
      "metadata": {
        "id": "LaJU25R5coTE",
        "colab_type": "code",
        "outputId": "c8b9a991-fb1c-46c0-f629-3a3fdc1f2f6d",
        "colab": {
          "base_uri": "https://localhost:8080/",
          "height": 170
        }
      },
      "source": [
        "data.dtypes"
      ],
      "execution_count": 0,
      "outputs": [
        {
          "output_type": "execute_result",
          "data": {
            "text/plain": [
              "Survived     int64\n",
              "Pclass       int64\n",
              "Sex          int64\n",
              "SibSp        int64\n",
              "Parch        int64\n",
              "Embarked    object\n",
              "Age_band     int64\n",
              "Fare_cat     int64\n",
              "dtype: object"
            ]
          },
          "metadata": {
            "tags": []
          },
          "execution_count": 65
        }
      ]
    },
    {
      "cell_type": "markdown",
      "metadata": {
        "id": "BbmxzbaVsiDP",
        "colab_type": "text"
      },
      "source": [
        "Podemos entonces ahora seleccionar las variables que queramos usar para clusterizar:"
      ]
    },
    {
      "cell_type": "code",
      "metadata": {
        "id": "kGQcTJNUUtnV",
        "colab_type": "code",
        "colab": {}
      },
      "source": [
        "selected_vars = ['Sex', 'SibSp', 'Parch']\n",
        "\n",
        "X = np.array(data[selected_vars]).astype(float)\n",
        "y = np.array(data['Survived'])"
      ],
      "execution_count": 0,
      "outputs": []
    },
    {
      "cell_type": "markdown",
      "metadata": {
        "id": "N-713lgkUtnW",
        "colab_type": "text"
      },
      "source": [
        "Es importante tener en cuenta algunas transformaciones de variables numéricas como el reescalado(MinMaxScaler https://scikit-learn.org/stable/modules/generated/sklearn.preprocessing.MinMaxScaler.html, StandarScaler https://scikit-learn.org/stable/modules/generated/sklearn.preprocessing.StandardScaler.html):"
      ]
    },
    {
      "cell_type": "code",
      "metadata": {
        "id": "1I_GF5RyUtnW",
        "colab_type": "code",
        "colab": {}
      },
      "source": [
        "scaler = MinMaxScaler()\n",
        "scaler2 = StandardScaler()\n",
        "X_scaled = scaler.fit_transform(X)"
      ],
      "execution_count": 0,
      "outputs": []
    },
    {
      "cell_type": "markdown",
      "metadata": {
        "id": "sWRWT6iGUtnX",
        "colab_type": "text"
      },
      "source": [
        "## 3.1 K-means"
      ]
    },
    {
      "cell_type": "markdown",
      "metadata": {
        "id": "stjBt-x0tEDR",
        "colab_type": "text"
      },
      "source": [
        "Usaremos primero el algortirmo Kmeans (https://scikit-learn.org/stable/modules/generated/sklearn.cluster.KMeans.html).\n",
        "\n",
        "Para el desarrollo de una clusterización tendremos comumente las siguientes fases:\n",
        "\n",
        "1) Inicialización del cluster, selección de parámetros\n",
        "\n",
        "2) Ajuste (.fit)\n",
        "\n",
        "3) Asignación del cluster correspondiente a cada observación\n",
        "\n",
        "4) Entendimiento de cada cluster (por ejemplo, analizando las coordenadas de los centroides)\n",
        "\n",
        "5) Ratios de la variable objetivo por cluster, para entender si, por ejemplo, hay algunos cluster con mayor posibilidad de supervivencia"
      ]
    },
    {
      "cell_type": "markdown",
      "metadata": {
        "id": "GwbrAQlCUtnY",
        "colab_type": "text"
      },
      "source": [
        "### Variables originales:"
      ]
    },
    {
      "cell_type": "code",
      "metadata": {
        "id": "22fPZu2tUtnY",
        "colab_type": "code",
        "colab": {}
      },
      "source": [
        "kmeans = KMeans(n_clusters=5) # Inicialización\n",
        "\n",
        "kmeans_fitted = kmeans.fit(X)"
      ],
      "execution_count": 0,
      "outputs": []
    },
    {
      "cell_type": "code",
      "metadata": {
        "id": "-75nBjTdfxyX",
        "colab_type": "code",
        "outputId": "ebf45ae1-d6ca-401c-be94-bc86d7f525d0",
        "colab": {
          "base_uri": "https://localhost:8080/",
          "height": 204
        }
      },
      "source": [
        "data['Cluster_Kmeans'] = kmeans_fitted.predict(X)\n",
        "data.head()"
      ],
      "execution_count": 0,
      "outputs": [
        {
          "output_type": "execute_result",
          "data": {
            "text/html": [
              "<div>\n",
              "<style scoped>\n",
              "    .dataframe tbody tr th:only-of-type {\n",
              "        vertical-align: middle;\n",
              "    }\n",
              "\n",
              "    .dataframe tbody tr th {\n",
              "        vertical-align: top;\n",
              "    }\n",
              "\n",
              "    .dataframe thead th {\n",
              "        text-align: right;\n",
              "    }\n",
              "</style>\n",
              "<table border=\"1\" class=\"dataframe\">\n",
              "  <thead>\n",
              "    <tr style=\"text-align: right;\">\n",
              "      <th></th>\n",
              "      <th>Survived</th>\n",
              "      <th>Pclass</th>\n",
              "      <th>Sex</th>\n",
              "      <th>SibSp</th>\n",
              "      <th>Parch</th>\n",
              "      <th>Embarked</th>\n",
              "      <th>Age_band</th>\n",
              "      <th>Fare_cat</th>\n",
              "      <th>Cluster_Kmeans</th>\n",
              "    </tr>\n",
              "  </thead>\n",
              "  <tbody>\n",
              "    <tr>\n",
              "      <th>0</th>\n",
              "      <td>0</td>\n",
              "      <td>3</td>\n",
              "      <td>0</td>\n",
              "      <td>1</td>\n",
              "      <td>0</td>\n",
              "      <td>S</td>\n",
              "      <td>1</td>\n",
              "      <td>0</td>\n",
              "      <td>4</td>\n",
              "    </tr>\n",
              "    <tr>\n",
              "      <th>1</th>\n",
              "      <td>1</td>\n",
              "      <td>1</td>\n",
              "      <td>1</td>\n",
              "      <td>1</td>\n",
              "      <td>0</td>\n",
              "      <td>C</td>\n",
              "      <td>2</td>\n",
              "      <td>3</td>\n",
              "      <td>4</td>\n",
              "    </tr>\n",
              "    <tr>\n",
              "      <th>2</th>\n",
              "      <td>1</td>\n",
              "      <td>3</td>\n",
              "      <td>1</td>\n",
              "      <td>0</td>\n",
              "      <td>0</td>\n",
              "      <td>S</td>\n",
              "      <td>1</td>\n",
              "      <td>0</td>\n",
              "      <td>2</td>\n",
              "    </tr>\n",
              "    <tr>\n",
              "      <th>3</th>\n",
              "      <td>1</td>\n",
              "      <td>1</td>\n",
              "      <td>1</td>\n",
              "      <td>1</td>\n",
              "      <td>0</td>\n",
              "      <td>S</td>\n",
              "      <td>2</td>\n",
              "      <td>3</td>\n",
              "      <td>4</td>\n",
              "    </tr>\n",
              "    <tr>\n",
              "      <th>4</th>\n",
              "      <td>0</td>\n",
              "      <td>3</td>\n",
              "      <td>0</td>\n",
              "      <td>0</td>\n",
              "      <td>0</td>\n",
              "      <td>S</td>\n",
              "      <td>2</td>\n",
              "      <td>1</td>\n",
              "      <td>0</td>\n",
              "    </tr>\n",
              "  </tbody>\n",
              "</table>\n",
              "</div>"
            ],
            "text/plain": [
              "   Survived  Pclass  Sex  SibSp  ...  Embarked Age_band  Fare_cat  Cluster_Kmeans\n",
              "0         0       3    0      1  ...         S        1         0               4\n",
              "1         1       1    1      1  ...         C        2         3               4\n",
              "2         1       3    1      0  ...         S        1         0               2\n",
              "3         1       1    1      1  ...         S        2         3               4\n",
              "4         0       3    0      0  ...         S        2         1               0\n",
              "\n",
              "[5 rows x 9 columns]"
            ]
          },
          "metadata": {
            "tags": []
          },
          "execution_count": 71
        }
      ]
    },
    {
      "cell_type": "code",
      "metadata": {
        "id": "OE2Y0I16tmFs",
        "colab_type": "code",
        "outputId": "1c8214f3-54a3-442e-ae4e-5b5b70bdc608",
        "colab": {
          "base_uri": "https://localhost:8080/",
          "height": 164
        }
      },
      "source": [
        "kmeans_fitted.cluster_centers_"
      ],
      "execution_count": 0,
      "outputs": [
        {
          "output_type": "error",
          "ename": "NameError",
          "evalue": "ignored",
          "traceback": [
            "\u001b[0;31m---------------------------------------------------------------------------\u001b[0m",
            "\u001b[0;31mNameError\u001b[0m                                 Traceback (most recent call last)",
            "\u001b[0;32m<ipython-input-1-c2e0c125a4ff>\u001b[0m in \u001b[0;36m<module>\u001b[0;34m()\u001b[0m\n\u001b[0;32m----> 1\u001b[0;31m \u001b[0mkmeans_fitted\u001b[0m\u001b[0;34m.\u001b[0m\u001b[0mcluster_centers_\u001b[0m\u001b[0;34m\u001b[0m\u001b[0;34m\u001b[0m\u001b[0m\n\u001b[0m",
            "\u001b[0;31mNameError\u001b[0m: name 'kmeans_fitted' is not defined"
          ]
        }
      ]
    },
    {
      "cell_type": "code",
      "metadata": {
        "id": "S977wRXo1kRN",
        "colab_type": "code",
        "outputId": "ba2336de-eb8b-406a-b297-08cdcc3d2612",
        "colab": {
          "base_uri": "https://localhost:8080/",
          "height": 221
        }
      },
      "source": [
        "data.groupby(['Cluster_Kmeans','Survived'])['Survived'].count()"
      ],
      "execution_count": 0,
      "outputs": [
        {
          "output_type": "execute_result",
          "data": {
            "text/plain": [
              "Cluster_Kmeans  Survived\n",
              "0               0           357\n",
              "                1            68\n",
              "1               0            39\n",
              "                1             5\n",
              "2               0            30\n",
              "                1           120\n",
              "3               0            28\n",
              "                1            39\n",
              "4               0            95\n",
              "                1           110\n",
              "Name: Survived, dtype: int64"
            ]
          },
          "metadata": {
            "tags": []
          },
          "execution_count": 82
        }
      ]
    },
    {
      "cell_type": "markdown",
      "metadata": {
        "id": "eRsShEVNUtna",
        "colab_type": "text"
      },
      "source": [
        "### Variables reescaladas:"
      ]
    },
    {
      "cell_type": "markdown",
      "metadata": {
        "id": "iDaLVRULuEvm",
        "colab_type": "text"
      },
      "source": [
        "Es importante tener en cuenta que las transformaciones que efectuemos sobres las variables afectan significativamente en las conclusiones. Veamos por ejemplo qué pasaría si hacemos el clustering con las variables reescaladas:"
      ]
    },
    {
      "cell_type": "code",
      "metadata": {
        "id": "xFeUzEcrUtna",
        "colab_type": "code",
        "colab": {}
      },
      "source": [
        "kmeans_fitted_rescaled = kmeans.fit(X_scaled)"
      ],
      "execution_count": 0,
      "outputs": []
    },
    {
      "cell_type": "code",
      "metadata": {
        "id": "PF0cHHV4gRph",
        "colab_type": "code",
        "outputId": "7c043552-8e22-4d79-ee36-b099f3f717c3",
        "colab": {
          "base_uri": "https://localhost:8080/",
          "height": 224
        }
      },
      "source": [
        "data['Cluster_Kmeans_scaled'] = kmeans_fitted_rescaled.predict(X_scaled)\n",
        "data.head()"
      ],
      "execution_count": 0,
      "outputs": [
        {
          "output_type": "execute_result",
          "data": {
            "text/html": [
              "<div>\n",
              "<style scoped>\n",
              "    .dataframe tbody tr th:only-of-type {\n",
              "        vertical-align: middle;\n",
              "    }\n",
              "\n",
              "    .dataframe tbody tr th {\n",
              "        vertical-align: top;\n",
              "    }\n",
              "\n",
              "    .dataframe thead th {\n",
              "        text-align: right;\n",
              "    }\n",
              "</style>\n",
              "<table border=\"1\" class=\"dataframe\">\n",
              "  <thead>\n",
              "    <tr style=\"text-align: right;\">\n",
              "      <th></th>\n",
              "      <th>Survived</th>\n",
              "      <th>Pclass</th>\n",
              "      <th>Sex</th>\n",
              "      <th>SibSp</th>\n",
              "      <th>Parch</th>\n",
              "      <th>Embarked</th>\n",
              "      <th>Age_band</th>\n",
              "      <th>Fare_cat</th>\n",
              "      <th>Cluster_Kmeans</th>\n",
              "      <th>Cluster_Kmeans_scaled</th>\n",
              "    </tr>\n",
              "  </thead>\n",
              "  <tbody>\n",
              "    <tr>\n",
              "      <th>0</th>\n",
              "      <td>0</td>\n",
              "      <td>3</td>\n",
              "      <td>0</td>\n",
              "      <td>1</td>\n",
              "      <td>0</td>\n",
              "      <td>S</td>\n",
              "      <td>1</td>\n",
              "      <td>0</td>\n",
              "      <td>4</td>\n",
              "      <td>2</td>\n",
              "    </tr>\n",
              "    <tr>\n",
              "      <th>1</th>\n",
              "      <td>1</td>\n",
              "      <td>1</td>\n",
              "      <td>1</td>\n",
              "      <td>1</td>\n",
              "      <td>0</td>\n",
              "      <td>C</td>\n",
              "      <td>2</td>\n",
              "      <td>3</td>\n",
              "      <td>4</td>\n",
              "      <td>1</td>\n",
              "    </tr>\n",
              "    <tr>\n",
              "      <th>2</th>\n",
              "      <td>1</td>\n",
              "      <td>3</td>\n",
              "      <td>1</td>\n",
              "      <td>0</td>\n",
              "      <td>0</td>\n",
              "      <td>S</td>\n",
              "      <td>1</td>\n",
              "      <td>0</td>\n",
              "      <td>2</td>\n",
              "      <td>1</td>\n",
              "    </tr>\n",
              "    <tr>\n",
              "      <th>3</th>\n",
              "      <td>1</td>\n",
              "      <td>1</td>\n",
              "      <td>1</td>\n",
              "      <td>1</td>\n",
              "      <td>0</td>\n",
              "      <td>S</td>\n",
              "      <td>2</td>\n",
              "      <td>3</td>\n",
              "      <td>4</td>\n",
              "      <td>1</td>\n",
              "    </tr>\n",
              "    <tr>\n",
              "      <th>4</th>\n",
              "      <td>0</td>\n",
              "      <td>3</td>\n",
              "      <td>0</td>\n",
              "      <td>0</td>\n",
              "      <td>0</td>\n",
              "      <td>S</td>\n",
              "      <td>2</td>\n",
              "      <td>1</td>\n",
              "      <td>0</td>\n",
              "      <td>2</td>\n",
              "    </tr>\n",
              "  </tbody>\n",
              "</table>\n",
              "</div>"
            ],
            "text/plain": [
              "   Survived  Pclass  Sex  ...  Fare_cat  Cluster_Kmeans Cluster_Kmeans_scaled\n",
              "0         0       3    0  ...         0               4                     2\n",
              "1         1       1    1  ...         3               4                     1\n",
              "2         1       3    1  ...         0               2                     1\n",
              "3         1       1    1  ...         3               4                     1\n",
              "4         0       3    0  ...         1               0                     2\n",
              "\n",
              "[5 rows x 10 columns]"
            ]
          },
          "metadata": {
            "tags": []
          },
          "execution_count": 76
        }
      ]
    },
    {
      "cell_type": "markdown",
      "metadata": {
        "id": "gji2432KUtnd",
        "colab_type": "text"
      },
      "source": [
        "### Método de Elbow:\n",
        "\n",
        "Podemos usar este método para seleccionar valor de k (https://www.datanovia.com/en/lessons/determining-the-optimal-number-of-clusters-3-must-know-methods/).\n",
        "\n",
        "Es importante comentar que en algunos casos las selección del valor de k tendrá que tener en cuenta también los objetivos de negocio que se intentan resolver con estas técnicas de clustering, y no solo criterios puramente estadísticos."
      ]
    },
    {
      "cell_type": "code",
      "metadata": {
        "id": "vefH7f_3Utnd",
        "colab_type": "code",
        "outputId": "34f18f9e-a2a3-44df-a617-0727e6eaf94f",
        "colab": {
          "base_uri": "https://localhost:8080/",
          "height": 405
        }
      },
      "source": [
        "cluster_distorsion = []\n",
        "\n",
        "for i in range(1, 16):\n",
        "    test_sklearn = KMeans(n_clusters=i)\n",
        "    test_sklearn.fit(X_scaled)\n",
        "    cluster_distorsion.append(test_sklearn.inertia_)\n",
        "    \n",
        "plt.figure(figsize=(9, 6))\n",
        "plt.plot(cluster_distorsion, marker='o', label='Distorsion for some number of clusters')\n",
        "plt.title(\"Distorsion between clusters\")\n",
        "plt.xlabel('Number of clusters')\n",
        "plt.ylabel(\"Distorsion\")\n",
        "plt.legend()\n",
        "plt.show()"
      ],
      "execution_count": 0,
      "outputs": [
        {
          "output_type": "display_data",
          "data": {
            "image/png": "[encoded data removed]",
            "text/plain": [
              "<Figure size 648x432 with 1 Axes>"
            ]
          },
          "metadata": {
            "tags": []
          }
        }
      ]
    },
    {
      "cell_type": "markdown",
      "metadata": {
        "id": "c6Y-GBCIUtnf",
        "colab_type": "text"
      },
      "source": [
        "## 3.2 Clustering jerárquico"
      ]
    },
    {
      "cell_type": "markdown",
      "metadata": {
        "id": "2JL2_LyHu5Oa",
        "colab_type": "text"
      },
      "source": [
        "Veamos un ejemplo ahora de clustering jerárquico con la función AgglomerativeClustering (https://scikit-learn.org/stable/modules/generated/sklearn.cluster.AgglomerativeClustering.html) y su representación con un dendograma:"
      ]
    },
    {
      "cell_type": "markdown",
      "metadata": {
        "id": "bN5g08EsUtnf",
        "colab_type": "text"
      },
      "source": [
        "### Variables originales:"
      ]
    },
    {
      "cell_type": "code",
      "metadata": {
        "id": "ZgRTBkhdUtng",
        "colab_type": "code",
        "outputId": "f58e1f75-f513-4b2a-eea3-a02ffafb5a5e",
        "colab": {
          "base_uri": "https://localhost:8080/",
          "height": 449
        }
      },
      "source": [
        "dendrogram = sch.dendrogram(sch.linkage(X, method='ward'))\n",
        "\n",
        "hc = AgglomerativeClustering(n_clusters=4, affinity = 'euclidean', linkage = 'ward')\n",
        "\n",
        "hc_fitted = hc.fit(X)\n",
        "\n",
        "data['Cluster_jerarquico'] = hc_fitted.labels_\n",
        "data.head()"
      ],
      "execution_count": 0,
      "outputs": [
        {
          "output_type": "execute_result",
          "data": {
            "text/html": [
              "<div>\n",
              "<style scoped>\n",
              "    .dataframe tbody tr th:only-of-type {\n",
              "        vertical-align: middle;\n",
              "    }\n",
              "\n",
              "    .dataframe tbody tr th {\n",
              "        vertical-align: top;\n",
              "    }\n",
              "\n",
              "    .dataframe thead th {\n",
              "        text-align: right;\n",
              "    }\n",
              "</style>\n",
              "<table border=\"1\" class=\"dataframe\">\n",
              "  <thead>\n",
              "    <tr style=\"text-align: right;\">\n",
              "      <th></th>\n",
              "      <th>Survived</th>\n",
              "      <th>Pclass</th>\n",
              "      <th>Sex</th>\n",
              "      <th>SibSp</th>\n",
              "      <th>Parch</th>\n",
              "      <th>Embarked</th>\n",
              "      <th>Age_band</th>\n",
              "      <th>Fare_cat</th>\n",
              "      <th>Cluster_Kmeans</th>\n",
              "      <th>Cluster_Kmeans_scaled</th>\n",
              "      <th>Cluster_jerarquico</th>\n",
              "    </tr>\n",
              "  </thead>\n",
              "  <tbody>\n",
              "    <tr>\n",
              "      <th>0</th>\n",
              "      <td>0</td>\n",
              "      <td>3</td>\n",
              "      <td>0</td>\n",
              "      <td>1</td>\n",
              "      <td>0</td>\n",
              "      <td>0</td>\n",
              "      <td>1</td>\n",
              "      <td>0</td>\n",
              "      <td>0</td>\n",
              "      <td>1</td>\n",
              "      <td>3</td>\n",
              "    </tr>\n",
              "    <tr>\n",
              "      <th>1</th>\n",
              "      <td>1</td>\n",
              "      <td>1</td>\n",
              "      <td>1</td>\n",
              "      <td>1</td>\n",
              "      <td>0</td>\n",
              "      <td>1</td>\n",
              "      <td>2</td>\n",
              "      <td>3</td>\n",
              "      <td>0</td>\n",
              "      <td>0</td>\n",
              "      <td>3</td>\n",
              "    </tr>\n",
              "    <tr>\n",
              "      <th>2</th>\n",
              "      <td>1</td>\n",
              "      <td>3</td>\n",
              "      <td>1</td>\n",
              "      <td>0</td>\n",
              "      <td>0</td>\n",
              "      <td>0</td>\n",
              "      <td>1</td>\n",
              "      <td>1</td>\n",
              "      <td>4</td>\n",
              "      <td>0</td>\n",
              "      <td>1</td>\n",
              "    </tr>\n",
              "    <tr>\n",
              "      <th>3</th>\n",
              "      <td>1</td>\n",
              "      <td>1</td>\n",
              "      <td>1</td>\n",
              "      <td>1</td>\n",
              "      <td>0</td>\n",
              "      <td>0</td>\n",
              "      <td>2</td>\n",
              "      <td>3</td>\n",
              "      <td>0</td>\n",
              "      <td>0</td>\n",
              "      <td>3</td>\n",
              "    </tr>\n",
              "    <tr>\n",
              "      <th>4</th>\n",
              "      <td>0</td>\n",
              "      <td>3</td>\n",
              "      <td>0</td>\n",
              "      <td>0</td>\n",
              "      <td>0</td>\n",
              "      <td>0</td>\n",
              "      <td>2</td>\n",
              "      <td>1</td>\n",
              "      <td>1</td>\n",
              "      <td>1</td>\n",
              "      <td>1</td>\n",
              "    </tr>\n",
              "  </tbody>\n",
              "</table>\n",
              "</div>"
            ],
            "text/plain": [
              "   Survived  Pclass  ...  Cluster_Kmeans_scaled  Cluster_jerarquico\n",
              "0         0       3  ...                      1                   3\n",
              "1         1       1  ...                      0                   3\n",
              "2         1       3  ...                      0                   1\n",
              "3         1       1  ...                      0                   3\n",
              "4         0       3  ...                      1                   1\n",
              "\n",
              "[5 rows x 11 columns]"
            ]
          },
          "metadata": {
            "tags": []
          },
          "execution_count": 56
        },
        {
          "output_type": "display_data",
          "data": {
            "image/png": "[encoded data removed]",
            "text/plain": [
              "<Figure size 432x288 with 1 Axes>"
            ]
          },
          "metadata": {
            "tags": []
          }
        }
      ]
    },
    {
      "cell_type": "markdown",
      "metadata": {
        "id": "lGo-uLDAUtnh",
        "colab_type": "text"
      },
      "source": [
        "### Variables reescaladas:"
      ]
    },
    {
      "cell_type": "code",
      "metadata": {
        "id": "gZ4w8oejUtni",
        "colab_type": "code",
        "outputId": "a51eb0a9-5c82-49e2-eca2-1c0cc836f6b8",
        "colab": {
          "base_uri": "https://localhost:8080/",
          "height": 449
        }
      },
      "source": [
        "dendrogram = sch.dendrogram(sch.linkage(X_scaled, method='ward'))\n",
        "\n",
        "hc_fitted_rescaled = hc.fit(X_scaled)\n",
        "\n",
        "data['Cluster_jerarquico_scaled'] = hc_fitted_rescaled.labels_\n",
        "data.head()"
      ],
      "execution_count": 0,
      "outputs": [
        {
          "output_type": "execute_result",
          "data": {
            "text/html": [
              "<div>\n",
              "<style scoped>\n",
              "    .dataframe tbody tr th:only-of-type {\n",
              "        vertical-align: middle;\n",
              "    }\n",
              "\n",
              "    .dataframe tbody tr th {\n",
              "        vertical-align: top;\n",
              "    }\n",
              "\n",
              "    .dataframe thead th {\n",
              "        text-align: right;\n",
              "    }\n",
              "</style>\n",
              "<table border=\"1\" class=\"dataframe\">\n",
              "  <thead>\n",
              "    <tr style=\"text-align: right;\">\n",
              "      <th></th>\n",
              "      <th>Survived</th>\n",
              "      <th>Pclass</th>\n",
              "      <th>Sex</th>\n",
              "      <th>SibSp</th>\n",
              "      <th>Parch</th>\n",
              "      <th>Embarked</th>\n",
              "      <th>Age_band</th>\n",
              "      <th>Fare_cat</th>\n",
              "      <th>Cluster_Kmeans</th>\n",
              "      <th>Cluster_Kmeans_scaled</th>\n",
              "      <th>Cluster_jerarquico</th>\n",
              "      <th>Cluster_jerarquico_scaled</th>\n",
              "    </tr>\n",
              "  </thead>\n",
              "  <tbody>\n",
              "    <tr>\n",
              "      <th>0</th>\n",
              "      <td>0</td>\n",
              "      <td>3</td>\n",
              "      <td>0</td>\n",
              "      <td>1</td>\n",
              "      <td>0</td>\n",
              "      <td>0</td>\n",
              "      <td>1</td>\n",
              "      <td>0</td>\n",
              "      <td>0</td>\n",
              "      <td>1</td>\n",
              "      <td>3</td>\n",
              "      <td>0</td>\n",
              "    </tr>\n",
              "    <tr>\n",
              "      <th>1</th>\n",
              "      <td>1</td>\n",
              "      <td>1</td>\n",
              "      <td>1</td>\n",
              "      <td>1</td>\n",
              "      <td>0</td>\n",
              "      <td>1</td>\n",
              "      <td>2</td>\n",
              "      <td>3</td>\n",
              "      <td>0</td>\n",
              "      <td>0</td>\n",
              "      <td>3</td>\n",
              "      <td>3</td>\n",
              "    </tr>\n",
              "    <tr>\n",
              "      <th>2</th>\n",
              "      <td>1</td>\n",
              "      <td>3</td>\n",
              "      <td>1</td>\n",
              "      <td>0</td>\n",
              "      <td>0</td>\n",
              "      <td>0</td>\n",
              "      <td>1</td>\n",
              "      <td>1</td>\n",
              "      <td>4</td>\n",
              "      <td>0</td>\n",
              "      <td>1</td>\n",
              "      <td>3</td>\n",
              "    </tr>\n",
              "    <tr>\n",
              "      <th>3</th>\n",
              "      <td>1</td>\n",
              "      <td>1</td>\n",
              "      <td>1</td>\n",
              "      <td>1</td>\n",
              "      <td>0</td>\n",
              "      <td>0</td>\n",
              "      <td>2</td>\n",
              "      <td>3</td>\n",
              "      <td>0</td>\n",
              "      <td>0</td>\n",
              "      <td>3</td>\n",
              "      <td>3</td>\n",
              "    </tr>\n",
              "    <tr>\n",
              "      <th>4</th>\n",
              "      <td>0</td>\n",
              "      <td>3</td>\n",
              "      <td>0</td>\n",
              "      <td>0</td>\n",
              "      <td>0</td>\n",
              "      <td>0</td>\n",
              "      <td>2</td>\n",
              "      <td>1</td>\n",
              "      <td>1</td>\n",
              "      <td>1</td>\n",
              "      <td>1</td>\n",
              "      <td>0</td>\n",
              "    </tr>\n",
              "  </tbody>\n",
              "</table>\n",
              "</div>"
            ],
            "text/plain": [
              "   Survived  Pclass  ...  Cluster_jerarquico  Cluster_jerarquico_scaled\n",
              "0         0       3  ...                   3                          0\n",
              "1         1       1  ...                   3                          3\n",
              "2         1       3  ...                   1                          3\n",
              "3         1       1  ...                   3                          3\n",
              "4         0       3  ...                   1                          0\n",
              "\n",
              "[5 rows x 12 columns]"
            ]
          },
          "metadata": {
            "tags": []
          },
          "execution_count": 57
        },
        {
          "output_type": "display_data",
          "data": {
            "image/png": "[encoded data removed]",
            "text/plain": [
              "<Figure size 432x288 with 1 Axes>"
            ]
          },
          "metadata": {
            "tags": []
          }
        }
      ]
    },
    {
      "cell_type": "markdown",
      "metadata": {
        "id": "I_VRgOmhUtnj",
        "colab_type": "text"
      },
      "source": [
        "## 3.3 DBSCAN:"
      ]
    },
    {
      "cell_type": "markdown",
      "metadata": {
        "id": "0hfUohtfvW9t",
        "colab_type": "text"
      },
      "source": [
        "También tenemos disponible el DBSCAN (https://scikit-learn.org/stable/modules/generated/sklearn.cluster.DBSCAN.html):"
      ]
    },
    {
      "cell_type": "markdown",
      "metadata": {
        "id": "y3fXdfuSUtnj",
        "colab_type": "text"
      },
      "source": [
        "### Variables originales:"
      ]
    },
    {
      "cell_type": "code",
      "metadata": {
        "id": "1EXSg7I2Utnj",
        "colab_type": "code",
        "colab": {}
      },
      "source": [
        "dbscan = DBSCAN(eps=0.123, min_samples = 2)\n",
        "\n",
        "dbscan_fitted = dbscan.fit(X)"
      ],
      "execution_count": 0,
      "outputs": []
    },
    {
      "cell_type": "code",
      "metadata": {
        "id": "O-5U5kfthzrX",
        "colab_type": "code",
        "outputId": "f1ff753a-09b9-4399-e606-d99af702e944",
        "colab": {
          "base_uri": "https://localhost:8080/",
          "height": 224
        }
      },
      "source": [
        "data['Cluster_dbscan'] = dbscan_fitted.labels_\n",
        "data.head()"
      ],
      "execution_count": 0,
      "outputs": [
        {
          "output_type": "execute_result",
          "data": {
            "text/html": [
              "<div>\n",
              "<style scoped>\n",
              "    .dataframe tbody tr th:only-of-type {\n",
              "        vertical-align: middle;\n",
              "    }\n",
              "\n",
              "    .dataframe tbody tr th {\n",
              "        vertical-align: top;\n",
              "    }\n",
              "\n",
              "    .dataframe thead th {\n",
              "        text-align: right;\n",
              "    }\n",
              "</style>\n",
              "<table border=\"1\" class=\"dataframe\">\n",
              "  <thead>\n",
              "    <tr style=\"text-align: right;\">\n",
              "      <th></th>\n",
              "      <th>Survived</th>\n",
              "      <th>Pclass</th>\n",
              "      <th>Sex</th>\n",
              "      <th>SibSp</th>\n",
              "      <th>Parch</th>\n",
              "      <th>Embarked</th>\n",
              "      <th>Age_band</th>\n",
              "      <th>Fare_cat</th>\n",
              "      <th>Cluster_Kmeans</th>\n",
              "      <th>Cluster_Kmeans_scaled</th>\n",
              "      <th>Cluster_jerarquico</th>\n",
              "      <th>Cluster_jerarquico_scaled</th>\n",
              "      <th>Cluster_dbscan</th>\n",
              "    </tr>\n",
              "  </thead>\n",
              "  <tbody>\n",
              "    <tr>\n",
              "      <th>0</th>\n",
              "      <td>0</td>\n",
              "      <td>3</td>\n",
              "      <td>0</td>\n",
              "      <td>1</td>\n",
              "      <td>0</td>\n",
              "      <td>0</td>\n",
              "      <td>1</td>\n",
              "      <td>0</td>\n",
              "      <td>0</td>\n",
              "      <td>1</td>\n",
              "      <td>3</td>\n",
              "      <td>0</td>\n",
              "      <td>0</td>\n",
              "    </tr>\n",
              "    <tr>\n",
              "      <th>1</th>\n",
              "      <td>1</td>\n",
              "      <td>1</td>\n",
              "      <td>1</td>\n",
              "      <td>1</td>\n",
              "      <td>0</td>\n",
              "      <td>1</td>\n",
              "      <td>2</td>\n",
              "      <td>3</td>\n",
              "      <td>0</td>\n",
              "      <td>0</td>\n",
              "      <td>3</td>\n",
              "      <td>3</td>\n",
              "      <td>1</td>\n",
              "    </tr>\n",
              "    <tr>\n",
              "      <th>2</th>\n",
              "      <td>1</td>\n",
              "      <td>3</td>\n",
              "      <td>1</td>\n",
              "      <td>0</td>\n",
              "      <td>0</td>\n",
              "      <td>0</td>\n",
              "      <td>1</td>\n",
              "      <td>1</td>\n",
              "      <td>4</td>\n",
              "      <td>0</td>\n",
              "      <td>1</td>\n",
              "      <td>3</td>\n",
              "      <td>2</td>\n",
              "    </tr>\n",
              "    <tr>\n",
              "      <th>3</th>\n",
              "      <td>1</td>\n",
              "      <td>1</td>\n",
              "      <td>1</td>\n",
              "      <td>1</td>\n",
              "      <td>0</td>\n",
              "      <td>0</td>\n",
              "      <td>2</td>\n",
              "      <td>3</td>\n",
              "      <td>0</td>\n",
              "      <td>0</td>\n",
              "      <td>3</td>\n",
              "      <td>3</td>\n",
              "      <td>1</td>\n",
              "    </tr>\n",
              "    <tr>\n",
              "      <th>4</th>\n",
              "      <td>0</td>\n",
              "      <td>3</td>\n",
              "      <td>0</td>\n",
              "      <td>0</td>\n",
              "      <td>0</td>\n",
              "      <td>0</td>\n",
              "      <td>2</td>\n",
              "      <td>1</td>\n",
              "      <td>1</td>\n",
              "      <td>1</td>\n",
              "      <td>1</td>\n",
              "      <td>0</td>\n",
              "      <td>3</td>\n",
              "    </tr>\n",
              "  </tbody>\n",
              "</table>\n",
              "</div>"
            ],
            "text/plain": [
              "   Survived  Pclass  ...  Cluster_jerarquico_scaled  Cluster_dbscan\n",
              "0         0       3  ...                          0               0\n",
              "1         1       1  ...                          3               1\n",
              "2         1       3  ...                          3               2\n",
              "3         1       1  ...                          3               1\n",
              "4         0       3  ...                          0               3\n",
              "\n",
              "[5 rows x 13 columns]"
            ]
          },
          "metadata": {
            "tags": []
          },
          "execution_count": 61
        }
      ]
    },
    {
      "cell_type": "markdown",
      "metadata": {
        "id": "x0F8ef6BUtnk",
        "colab_type": "text"
      },
      "source": [
        "### Variables reescaladas:"
      ]
    },
    {
      "cell_type": "code",
      "metadata": {
        "id": "dR3eH2lkUtnl",
        "colab_type": "code",
        "outputId": "af70adf0-9eaf-4c20-9b0d-7c2fa6902ce9",
        "colab": {
          "base_uri": "https://localhost:8080/",
          "height": 224
        }
      },
      "source": [
        "dbscan_fitted_scaled = dbscan.fit(X_scaled)\n",
        "\n",
        "data['Cluster_dbscan_scaled'] = dbscan_fitted_scaled.labels_\n",
        "data.head()"
      ],
      "execution_count": 0,
      "outputs": [
        {
          "output_type": "execute_result",
          "data": {
            "text/html": [
              "<div>\n",
              "<style scoped>\n",
              "    .dataframe tbody tr th:only-of-type {\n",
              "        vertical-align: middle;\n",
              "    }\n",
              "\n",
              "    .dataframe tbody tr th {\n",
              "        vertical-align: top;\n",
              "    }\n",
              "\n",
              "    .dataframe thead th {\n",
              "        text-align: right;\n",
              "    }\n",
              "</style>\n",
              "<table border=\"1\" class=\"dataframe\">\n",
              "  <thead>\n",
              "    <tr style=\"text-align: right;\">\n",
              "      <th></th>\n",
              "      <th>Survived</th>\n",
              "      <th>Pclass</th>\n",
              "      <th>Sex</th>\n",
              "      <th>SibSp</th>\n",
              "      <th>Parch</th>\n",
              "      <th>Embarked</th>\n",
              "      <th>Age_band</th>\n",
              "      <th>Fare_cat</th>\n",
              "      <th>Cluster_Kmeans</th>\n",
              "      <th>Cluster_Kmeans_scaled</th>\n",
              "      <th>Cluster_jerarquico</th>\n",
              "      <th>Cluster_jerarquico_scaled</th>\n",
              "      <th>Cluster_dbscan</th>\n",
              "      <th>Cluster_dbscan_scaled</th>\n",
              "    </tr>\n",
              "  </thead>\n",
              "  <tbody>\n",
              "    <tr>\n",
              "      <th>0</th>\n",
              "      <td>0</td>\n",
              "      <td>3</td>\n",
              "      <td>0</td>\n",
              "      <td>1</td>\n",
              "      <td>0</td>\n",
              "      <td>0</td>\n",
              "      <td>1</td>\n",
              "      <td>0</td>\n",
              "      <td>0</td>\n",
              "      <td>1</td>\n",
              "      <td>3</td>\n",
              "      <td>0</td>\n",
              "      <td>0</td>\n",
              "      <td>0</td>\n",
              "    </tr>\n",
              "    <tr>\n",
              "      <th>1</th>\n",
              "      <td>1</td>\n",
              "      <td>1</td>\n",
              "      <td>1</td>\n",
              "      <td>1</td>\n",
              "      <td>0</td>\n",
              "      <td>1</td>\n",
              "      <td>2</td>\n",
              "      <td>3</td>\n",
              "      <td>0</td>\n",
              "      <td>0</td>\n",
              "      <td>3</td>\n",
              "      <td>3</td>\n",
              "      <td>1</td>\n",
              "      <td>1</td>\n",
              "    </tr>\n",
              "    <tr>\n",
              "      <th>2</th>\n",
              "      <td>1</td>\n",
              "      <td>3</td>\n",
              "      <td>1</td>\n",
              "      <td>0</td>\n",
              "      <td>0</td>\n",
              "      <td>0</td>\n",
              "      <td>1</td>\n",
              "      <td>1</td>\n",
              "      <td>4</td>\n",
              "      <td>0</td>\n",
              "      <td>1</td>\n",
              "      <td>3</td>\n",
              "      <td>2</td>\n",
              "      <td>2</td>\n",
              "    </tr>\n",
              "    <tr>\n",
              "      <th>3</th>\n",
              "      <td>1</td>\n",
              "      <td>1</td>\n",
              "      <td>1</td>\n",
              "      <td>1</td>\n",
              "      <td>0</td>\n",
              "      <td>0</td>\n",
              "      <td>2</td>\n",
              "      <td>3</td>\n",
              "      <td>0</td>\n",
              "      <td>0</td>\n",
              "      <td>3</td>\n",
              "      <td>3</td>\n",
              "      <td>1</td>\n",
              "      <td>1</td>\n",
              "    </tr>\n",
              "    <tr>\n",
              "      <th>4</th>\n",
              "      <td>0</td>\n",
              "      <td>3</td>\n",
              "      <td>0</td>\n",
              "      <td>0</td>\n",
              "      <td>0</td>\n",
              "      <td>0</td>\n",
              "      <td>2</td>\n",
              "      <td>1</td>\n",
              "      <td>1</td>\n",
              "      <td>1</td>\n",
              "      <td>1</td>\n",
              "      <td>0</td>\n",
              "      <td>3</td>\n",
              "      <td>3</td>\n",
              "    </tr>\n",
              "  </tbody>\n",
              "</table>\n",
              "</div>"
            ],
            "text/plain": [
              "   Survived  Pclass  ...  Cluster_dbscan  Cluster_dbscan_scaled\n",
              "0         0       3  ...               0                      0\n",
              "1         1       1  ...               1                      1\n",
              "2         1       3  ...               2                      2\n",
              "3         1       1  ...               1                      1\n",
              "4         0       3  ...               3                      3\n",
              "\n",
              "[5 rows x 14 columns]"
            ]
          },
          "metadata": {
            "tags": []
          },
          "execution_count": 62
        }
      ]
    },
    {
      "cell_type": "markdown",
      "metadata": {
        "id": "Nt3gz_3zUtnm",
        "colab_type": "text"
      },
      "source": [
        "# Parte 4: Modelos de clasificación"
      ]
    },
    {
      "cell_type": "code",
      "metadata": {
        "id": "JR6pWcuJUtnm",
        "colab_type": "code",
        "colab": {}
      },
      "source": [
        "#importing all the required ML packages\n",
        "from sklearn.linear_model import LogisticRegression #logistic regression\n",
        "from sklearn import svm #support vector Machine\n",
        "from sklearn.ensemble import RandomForestClassifier #Random Forest\n",
        "from sklearn.neighbors import KNeighborsClassifier #KNN\n",
        "from sklearn.naive_bayes import GaussianNB #Naive bayes\n",
        "from sklearn.tree import DecisionTreeClassifier #Decision Tree\n",
        "from sklearn.model_selection import train_test_split #training and testing data split\n",
        "from sklearn import metrics #accuracy measure\n",
        "from sklearn.metrics import confusion_matrix #for confusion matrix"
      ],
      "execution_count": 0,
      "outputs": []
    },
    {
      "cell_type": "markdown",
      "metadata": {
        "id": "3Zb18AbQUtnn",
        "colab_type": "text"
      },
      "source": [
        "### Partición train/test:"
      ]
    },
    {
      "cell_type": "code",
      "metadata": {
        "id": "mRK_HUsZUtno",
        "colab_type": "code",
        "colab": {}
      },
      "source": [
        "train,test=train_test_split(data,test_size=0.3,random_state=37,stratify=data['Survived'])\n",
        "\n",
        "train_X=train[train.columns[1:]]\n",
        "train_Y=train['Survived']\n",
        "\n",
        "test_X=test[test.columns[1:]]\n",
        "test_Y=test['Survived']\n",
        "\n",
        "X=data[data.columns[1:]]\n",
        "Y=data['Survived']"
      ],
      "execution_count": 0,
      "outputs": []
    },
    {
      "cell_type": "code",
      "metadata": {
        "id": "Yz_yFdT27Lqh",
        "colab_type": "code",
        "colab": {}
      },
      "source": [
        "train_X_onehot = pd.get_dummies(train_X)\n",
        "\n",
        "test_X_onehot = pd.get_dummies(test_X)"
      ],
      "execution_count": 0,
      "outputs": []
    },
    {
      "cell_type": "markdown",
      "metadata": {
        "id": "8lHBlq_rUtnp",
        "colab_type": "text"
      },
      "source": [
        "## 4.1 Regresión logística:"
      ]
    },
    {
      "cell_type": "code",
      "metadata": {
        "id": "p5V2P_CLUtnp",
        "colab_type": "code",
        "outputId": "80e8a2d8-4ccc-47c2-a229-4a10301ac99b",
        "colab": {
          "base_uri": "https://localhost:8080/",
          "height": 35
        }
      },
      "source": [
        "model = LogisticRegression()\n",
        "\n",
        "model.fit(train_X_onehot,train_Y)\n",
        "\n",
        "prediction1=model.predict(test_X_onehot)\n",
        "print('The accuracy of the Logistic Regression is',metrics.accuracy_score(prediction1,test_Y))"
      ],
      "execution_count": 0,
      "outputs": [
        {
          "output_type": "stream",
          "text": [
            "The accuracy of the Logistic Regression is 0.75\n"
          ],
          "name": "stdout"
        }
      ]
    },
    {
      "cell_type": "markdown",
      "metadata": {
        "id": "IBmOXzeDUtnr",
        "colab_type": "text"
      },
      "source": [
        "## 4.2 Árbol de decisión:"
      ]
    },
    {
      "cell_type": "code",
      "metadata": {
        "id": "lqiGrpxUUtns",
        "colab_type": "code",
        "outputId": "e4088f14-a83c-47c3-b317-4a2ba9a7c3a8",
        "colab": {
          "base_uri": "https://localhost:8080/",
          "height": 35
        }
      },
      "source": [
        "model=DecisionTreeClassifier()\n",
        "\n",
        "model.fit(train_X_onehot,train_Y)\n",
        "\n",
        "prediction2=model.predict(test_X_onehot)\n",
        "print('The accuracy of the Decision Tree is',metrics.accuracy_score(prediction2,test_Y))"
      ],
      "execution_count": 0,
      "outputs": [
        {
          "output_type": "stream",
          "text": [
            "The accuracy of the Decision Tree is 0.7835820895522388\n"
          ],
          "name": "stdout"
        }
      ]
    },
    {
      "cell_type": "markdown",
      "metadata": {
        "id": "_ElybpTVUtnt",
        "colab_type": "text"
      },
      "source": [
        "## 4.3 Naive Bayes:"
      ]
    },
    {
      "cell_type": "code",
      "metadata": {
        "id": "V6joXOA8Utnt",
        "colab_type": "code",
        "outputId": "d26ec46b-a59d-41fe-93d2-07fbeecb4aeb",
        "colab": {
          "base_uri": "https://localhost:8080/",
          "height": 35
        }
      },
      "source": [
        "model=GaussianNB()\n",
        "\n",
        "model.fit(train_X_onehot,train_Y)\n",
        "\n",
        "prediction3=model.predict(test_X_onehot)\n",
        "print('The accuracy of the NaiveBayes is',metrics.accuracy_score(prediction3,test_Y))"
      ],
      "execution_count": 0,
      "outputs": [
        {
          "output_type": "stream",
          "text": [
            "The accuracy of the NaiveBayes is 0.6194029850746269\n"
          ],
          "name": "stdout"
        }
      ]
    },
    {
      "cell_type": "markdown",
      "metadata": {
        "id": "bSwNeeJEUtnx",
        "colab_type": "text"
      },
      "source": [
        "## 4.4 Random Forest:"
      ]
    },
    {
      "cell_type": "code",
      "metadata": {
        "id": "RknV18PvUtny",
        "colab_type": "code",
        "outputId": "f13547b2-799e-4190-af41-261362c28fd2",
        "colab": {
          "base_uri": "https://localhost:8080/",
          "height": 35
        }
      },
      "source": [
        "model=RandomForestClassifier(n_estimators=500)\n",
        "\n",
        "model.fit(train_X_onehot,train_Y)\n",
        "\n",
        "prediction4=model.predict(test_X_onehot)\n",
        "print('The accuracy of the Random Forests is',metrics.accuracy_score(prediction4,test_Y))"
      ],
      "execution_count": 0,
      "outputs": [
        {
          "output_type": "stream",
          "text": [
            "The accuracy of the Random Forests is 0.7873134328358209\n"
          ],
          "name": "stdout"
        }
      ]
    },
    {
      "cell_type": "markdown",
      "metadata": {
        "id": "1OTNoBFwUtnz",
        "colab_type": "text"
      },
      "source": [
        "## 4.5 Xgboost:"
      ]
    },
    {
      "cell_type": "code",
      "metadata": {
        "id": "QIQcLJCLUtn0",
        "colab_type": "code",
        "outputId": "c8e7696e-c0a2-448e-8f51-302c881ef400",
        "colab": {
          "base_uri": "https://localhost:8080/",
          "height": 138
        }
      },
      "source": [
        "model=xg.XGBClassifier(n_estimators=900,learning_rate=0.1)\n",
        "model.fit(train_X_onehot,train_Y)"
      ],
      "execution_count": 0,
      "outputs": [
        {
          "output_type": "execute_result",
          "data": {
            "text/plain": [
              "XGBClassifier(base_score=0.5, booster='gbtree', colsample_bylevel=1,\n",
              "              colsample_bynode=1, colsample_bytree=1, gamma=0,\n",
              "              learning_rate=0.1, max_delta_step=0, max_depth=3,\n",
              "              min_child_weight=1, missing=None, n_estimators=900, n_jobs=1,\n",
              "              nthread=None, objective='binary:logistic', random_state=0,\n",
              "              reg_alpha=0, reg_lambda=1, scale_pos_weight=1, seed=None,\n",
              "              silent=None, subsample=1, verbosity=1)"
            ]
          },
          "metadata": {
            "tags": []
          },
          "execution_count": 29
        }
      ]
    },
    {
      "cell_type": "code",
      "metadata": {
        "id": "Iq_uqJmR8a_t",
        "colab_type": "code",
        "outputId": "ae21587e-6077-49be-8e15-945cffeb42b1",
        "colab": {
          "base_uri": "https://localhost:8080/",
          "height": 35
        }
      },
      "source": [
        "prediction5=model.predict(test_X_onehot)\n",
        "print('The accuracy of the Gradient Boosting is',metrics.accuracy_score(prediction5,test_Y))"
      ],
      "execution_count": 0,
      "outputs": [
        {
          "output_type": "stream",
          "text": [
            "The accuracy of the Gradient Boosting is 0.7798507462686567\n"
          ],
          "name": "stdout"
        }
      ]
    },
    {
      "cell_type": "code",
      "metadata": {
        "id": "OCqeDmvn8c5j",
        "colab_type": "code",
        "outputId": "db7616a5-2086-47f7-ef9a-74def47c21c5",
        "colab": {
          "base_uri": "https://localhost:8080/",
          "height": 35
        }
      },
      "source": [
        "prediction5_prob = model.predict_proba(test_X_onehot)\n",
        "\n",
        "prediction5_prob = prediction5_prob[:,1]\n",
        "\n",
        "prediction5_2 = prediction5_prob > 0.8\n",
        "\n",
        "print('The accuracy of the Gradient Boosting is',metrics.accuracy_score(prediction5_2,test_Y))"
      ],
      "execution_count": 0,
      "outputs": [
        {
          "output_type": "stream",
          "text": [
            "The accuracy of the Gradient Boosting is 0.7611940298507462\n"
          ],
          "name": "stdout"
        }
      ]
    },
    {
      "cell_type": "markdown",
      "metadata": {
        "id": "Qeth2UhWUtn1",
        "colab_type": "text"
      },
      "source": [
        "# Parte 5: Medición"
      ]
    },
    {
      "cell_type": "markdown",
      "metadata": {
        "id": "6vx5yhH3Utn8",
        "colab_type": "text"
      },
      "source": [
        "## 5.1 Matriz de confusión"
      ]
    },
    {
      "cell_type": "code",
      "metadata": {
        "id": "ZZ3zWkZDZZtH",
        "colab_type": "code",
        "colab": {}
      },
      "source": [
        "pd.crosstab(prediction2,test_Y).style.background_gradient(cmap='summer_r')"
      ],
      "execution_count": 0,
      "outputs": []
    },
    {
      "cell_type": "markdown",
      "metadata": {
        "id": "EeG7Far8fwba",
        "colab_type": "text"
      },
      "source": [
        "## 5.2 AUC"
      ]
    },
    {
      "cell_type": "code",
      "metadata": {
        "id": "9aEc5H5-fx2M",
        "colab_type": "code",
        "colab": {}
      },
      "source": [
        "from sklearn import metrics\n",
        "\n",
        "fpr, tpr, thresholds = metrics.roc_curve(test_Y, prediction5_2, pos_label=1)\n",
        "\n",
        "metrics.auc(fpr, tpr)"
      ],
      "execution_count": 0,
      "outputs": []
    },
    {
      "cell_type": "code",
      "metadata": {
        "id": "Opn_-MONf3ia",
        "colab_type": "code",
        "colab": {}
      },
      "source": [
        "from sklearn.metrics import roc_auc_score\n",
        "\n",
        "roc_auc_score(test_Y, prediction5_2)"
      ],
      "execution_count": 0,
      "outputs": []
    }
  ]
}